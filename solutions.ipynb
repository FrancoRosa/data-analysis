{
 "metadata": {
  "orig_nbformat": 2,
  "kernelspec": {
   "name": "python3",
   "display_name": "Python 3",
   "language": "python"
  }
 },
 "nbformat": 4,
 "nbformat_minor": 2,
 "cells": [
  {
   "source": [
    "# Data analysis\n",
    "\n",
    "> Covid related data analysis from the csv provided\n",
    "\n",
    "## Import data to current notebook\n",
    "\n",
    "Call pandas library, then read csv"
   ],
   "cell_type": "markdown",
   "metadata": {}
  },
  {
   "source": [
    "import pandas as pd\n",
    "covid = pd.read_csv(\"project_covid19.csv\")\n"
   ],
   "cell_type": "code",
   "metadata": {},
   "execution_count": 3,
   "outputs": []
  },
  {
   "source": [
    "Check the data imported"
   ],
   "cell_type": "markdown",
   "metadata": {}
  },
  {
   "cell_type": "code",
   "execution_count": 4,
   "metadata": {},
   "outputs": [
    {
     "output_type": "execute_result",
     "data": {
      "text/plain": [
       "           UID iso2 iso3  code3     FIPS      Admin2 Province_State  \\\n",
       "0     84001001   US  USA    840   1001.0     Autauga        Alabama   \n",
       "1     84001003   US  USA    840   1003.0     Baldwin        Alabama   \n",
       "2     84001005   US  USA    840   1005.0     Barbour        Alabama   \n",
       "3     84001007   US  USA    840   1007.0        Bibb        Alabama   \n",
       "4     84001009   US  USA    840   1009.0      Blount        Alabama   \n",
       "...        ...  ...  ...    ...      ...         ...            ...   \n",
       "3337  84056039   US  USA    840  56039.0       Teton        Wyoming   \n",
       "3338  84056041   US  USA    840  56041.0       Uinta        Wyoming   \n",
       "3339  84090056   US  USA    840  90056.0  Unassigned        Wyoming   \n",
       "3340  84056043   US  USA    840  56043.0    Washakie        Wyoming   \n",
       "3341  84056045   US  USA    840  56045.0      Weston        Wyoming   \n",
       "\n",
       "     Country_Region        Lat       Long_  ... 4/13/21  4/14/21  4/15/21  \\\n",
       "0                US  32.539527  -86.644082  ...    6734     6740     6748   \n",
       "1                US  30.727750  -87.722071  ...   20652    20670    20674   \n",
       "2                US  31.868263  -85.387129  ...    2252     2257     2262   \n",
       "3                US  32.996421  -87.125115  ...    2564     2559     2560   \n",
       "4                US  33.982109  -86.567906  ...    6497     6507     6511   \n",
       "...             ...        ...         ...  ...     ...      ...      ...   \n",
       "3337             US  43.935225 -110.589080  ...    3675     3684     3689   \n",
       "3338             US  41.287818 -110.547578  ...    2153     2153     2155   \n",
       "3339             US   0.000000    0.000000  ...       0        0        0   \n",
       "3340             US  43.904516 -107.680187  ...     898      898      898   \n",
       "3341             US  43.839612 -104.567488  ...     642      646      646   \n",
       "\n",
       "      4/16/21  4/17/21  4/18/21  4/19/21  4/20/21  4/21/21  4/22/21  \n",
       "0        6750     6760     6763     6763     6773     6793     6819  \n",
       "1       20701    20714    20723    20730    20764    20787    20815  \n",
       "2        2264     2271     2271     2271     2275     2284     2289  \n",
       "3        2560     2563     2563     2567     2569     2569     2573  \n",
       "4        6519     6529     6532     6532     6548     6556     6563  \n",
       "...       ...      ...      ...      ...      ...      ...      ...  \n",
       "3337     3694     3694     3694     3703     3707     3711     3715  \n",
       "3338     2155     2155     2155     2150     2155     2154     2157  \n",
       "3339        0        0        0        0        0        0        0  \n",
       "3340      898      898      898      898      898      898      898  \n",
       "3341      646      646      646      647      647      647      647  \n",
       "\n",
       "[3342 rows x 468 columns]"
      ],
      "text/html": "<div>\n<style scoped>\n    .dataframe tbody tr th:only-of-type {\n        vertical-align: middle;\n    }\n\n    .dataframe tbody tr th {\n        vertical-align: top;\n    }\n\n    .dataframe thead th {\n        text-align: right;\n    }\n</style>\n<table border=\"1\" class=\"dataframe\">\n  <thead>\n    <tr style=\"text-align: right;\">\n      <th></th>\n      <th>UID</th>\n      <th>iso2</th>\n      <th>iso3</th>\n      <th>code3</th>\n      <th>FIPS</th>\n      <th>Admin2</th>\n      <th>Province_State</th>\n      <th>Country_Region</th>\n      <th>Lat</th>\n      <th>Long_</th>\n      <th>...</th>\n      <th>4/13/21</th>\n      <th>4/14/21</th>\n      <th>4/15/21</th>\n      <th>4/16/21</th>\n      <th>4/17/21</th>\n      <th>4/18/21</th>\n      <th>4/19/21</th>\n      <th>4/20/21</th>\n      <th>4/21/21</th>\n      <th>4/22/21</th>\n    </tr>\n  </thead>\n  <tbody>\n    <tr>\n      <th>0</th>\n      <td>84001001</td>\n      <td>US</td>\n      <td>USA</td>\n      <td>840</td>\n      <td>1001.0</td>\n      <td>Autauga</td>\n      <td>Alabama</td>\n      <td>US</td>\n      <td>32.539527</td>\n      <td>-86.644082</td>\n      <td>...</td>\n      <td>6734</td>\n      <td>6740</td>\n      <td>6748</td>\n      <td>6750</td>\n      <td>6760</td>\n      <td>6763</td>\n      <td>6763</td>\n      <td>6773</td>\n      <td>6793</td>\n      <td>6819</td>\n    </tr>\n    <tr>\n      <th>1</th>\n      <td>84001003</td>\n      <td>US</td>\n      <td>USA</td>\n      <td>840</td>\n      <td>1003.0</td>\n      <td>Baldwin</td>\n      <td>Alabama</td>\n      <td>US</td>\n      <td>30.727750</td>\n      <td>-87.722071</td>\n      <td>...</td>\n      <td>20652</td>\n      <td>20670</td>\n      <td>20674</td>\n      <td>20701</td>\n      <td>20714</td>\n      <td>20723</td>\n      <td>20730</td>\n      <td>20764</td>\n      <td>20787</td>\n      <td>20815</td>\n    </tr>\n    <tr>\n      <th>2</th>\n      <td>84001005</td>\n      <td>US</td>\n      <td>USA</td>\n      <td>840</td>\n      <td>1005.0</td>\n      <td>Barbour</td>\n      <td>Alabama</td>\n      <td>US</td>\n      <td>31.868263</td>\n      <td>-85.387129</td>\n      <td>...</td>\n      <td>2252</td>\n      <td>2257</td>\n      <td>2262</td>\n      <td>2264</td>\n      <td>2271</td>\n      <td>2271</td>\n      <td>2271</td>\n      <td>2275</td>\n      <td>2284</td>\n      <td>2289</td>\n    </tr>\n    <tr>\n      <th>3</th>\n      <td>84001007</td>\n      <td>US</td>\n      <td>USA</td>\n      <td>840</td>\n      <td>1007.0</td>\n      <td>Bibb</td>\n      <td>Alabama</td>\n      <td>US</td>\n      <td>32.996421</td>\n      <td>-87.125115</td>\n      <td>...</td>\n      <td>2564</td>\n      <td>2559</td>\n      <td>2560</td>\n      <td>2560</td>\n      <td>2563</td>\n      <td>2563</td>\n      <td>2567</td>\n      <td>2569</td>\n      <td>2569</td>\n      <td>2573</td>\n    </tr>\n    <tr>\n      <th>4</th>\n      <td>84001009</td>\n      <td>US</td>\n      <td>USA</td>\n      <td>840</td>\n      <td>1009.0</td>\n      <td>Blount</td>\n      <td>Alabama</td>\n      <td>US</td>\n      <td>33.982109</td>\n      <td>-86.567906</td>\n      <td>...</td>\n      <td>6497</td>\n      <td>6507</td>\n      <td>6511</td>\n      <td>6519</td>\n      <td>6529</td>\n      <td>6532</td>\n      <td>6532</td>\n      <td>6548</td>\n      <td>6556</td>\n      <td>6563</td>\n    </tr>\n    <tr>\n      <th>...</th>\n      <td>...</td>\n      <td>...</td>\n      <td>...</td>\n      <td>...</td>\n      <td>...</td>\n      <td>...</td>\n      <td>...</td>\n      <td>...</td>\n      <td>...</td>\n      <td>...</td>\n      <td>...</td>\n      <td>...</td>\n      <td>...</td>\n      <td>...</td>\n      <td>...</td>\n      <td>...</td>\n      <td>...</td>\n      <td>...</td>\n      <td>...</td>\n      <td>...</td>\n      <td>...</td>\n    </tr>\n    <tr>\n      <th>3337</th>\n      <td>84056039</td>\n      <td>US</td>\n      <td>USA</td>\n      <td>840</td>\n      <td>56039.0</td>\n      <td>Teton</td>\n      <td>Wyoming</td>\n      <td>US</td>\n      <td>43.935225</td>\n      <td>-110.589080</td>\n      <td>...</td>\n      <td>3675</td>\n      <td>3684</td>\n      <td>3689</td>\n      <td>3694</td>\n      <td>3694</td>\n      <td>3694</td>\n      <td>3703</td>\n      <td>3707</td>\n      <td>3711</td>\n      <td>3715</td>\n    </tr>\n    <tr>\n      <th>3338</th>\n      <td>84056041</td>\n      <td>US</td>\n      <td>USA</td>\n      <td>840</td>\n      <td>56041.0</td>\n      <td>Uinta</td>\n      <td>Wyoming</td>\n      <td>US</td>\n      <td>41.287818</td>\n      <td>-110.547578</td>\n      <td>...</td>\n      <td>2153</td>\n      <td>2153</td>\n      <td>2155</td>\n      <td>2155</td>\n      <td>2155</td>\n      <td>2155</td>\n      <td>2150</td>\n      <td>2155</td>\n      <td>2154</td>\n      <td>2157</td>\n    </tr>\n    <tr>\n      <th>3339</th>\n      <td>84090056</td>\n      <td>US</td>\n      <td>USA</td>\n      <td>840</td>\n      <td>90056.0</td>\n      <td>Unassigned</td>\n      <td>Wyoming</td>\n      <td>US</td>\n      <td>0.000000</td>\n      <td>0.000000</td>\n      <td>...</td>\n      <td>0</td>\n      <td>0</td>\n      <td>0</td>\n      <td>0</td>\n      <td>0</td>\n      <td>0</td>\n      <td>0</td>\n      <td>0</td>\n      <td>0</td>\n      <td>0</td>\n    </tr>\n    <tr>\n      <th>3340</th>\n      <td>84056043</td>\n      <td>US</td>\n      <td>USA</td>\n      <td>840</td>\n      <td>56043.0</td>\n      <td>Washakie</td>\n      <td>Wyoming</td>\n      <td>US</td>\n      <td>43.904516</td>\n      <td>-107.680187</td>\n      <td>...</td>\n      <td>898</td>\n      <td>898</td>\n      <td>898</td>\n      <td>898</td>\n      <td>898</td>\n      <td>898</td>\n      <td>898</td>\n      <td>898</td>\n      <td>898</td>\n      <td>898</td>\n    </tr>\n    <tr>\n      <th>3341</th>\n      <td>84056045</td>\n      <td>US</td>\n      <td>USA</td>\n      <td>840</td>\n      <td>56045.0</td>\n      <td>Weston</td>\n      <td>Wyoming</td>\n      <td>US</td>\n      <td>43.839612</td>\n      <td>-104.567488</td>\n      <td>...</td>\n      <td>642</td>\n      <td>646</td>\n      <td>646</td>\n      <td>646</td>\n      <td>646</td>\n      <td>646</td>\n      <td>647</td>\n      <td>647</td>\n      <td>647</td>\n      <td>647</td>\n    </tr>\n  </tbody>\n</table>\n<p>3342 rows × 468 columns</p>\n</div>"
     },
     "metadata": {},
     "execution_count": 4
    }
   ],
   "source": [
    "covid"
   ]
  },
  {
   "source": [
    "## 1. What is the total number of reported COVID-19 cases in the USA?\n",
    "\n",
    "Reported cases per day are comulative, that means that we will get the total commulative looking at he last column. Then we will sum the last column to get the total cases "
   ],
   "cell_type": "code",
   "metadata": {},
   "execution_count": null,
   "outputs": []
  },
  {
   "cell_type": "code",
   "execution_count": 5,
   "metadata": {},
   "outputs": [],
   "source": [
    "last_day = covid.columns[-1]\n"
   ]
  },
  {
   "cell_type": "code",
   "execution_count": 6,
   "metadata": {},
   "outputs": [
    {
     "output_type": "execute_result",
     "data": {
      "text/plain": [
       "'4/22/21'"
      ]
     },
     "metadata": {},
     "execution_count": 6
    }
   ],
   "source": [
    "last_day"
   ]
  },
  {
   "source": [
    "covid[last_day]"
   ],
   "cell_type": "code",
   "metadata": {},
   "execution_count": 11,
   "outputs": [
    {
     "output_type": "execute_result",
     "data": {
      "text/plain": [
       "0        6819\n",
       "1       20815\n",
       "2        2289\n",
       "3        2573\n",
       "4        6563\n",
       "        ...  \n",
       "3337     3715\n",
       "3338     2157\n",
       "3339        0\n",
       "3340      898\n",
       "3341      647\n",
       "Name: 4/22/21, Length: 3342, dtype: int64"
      ]
     },
     "metadata": {},
     "execution_count": 11
    }
   ]
  },
  {
   "cell_type": "code",
   "execution_count": 10,
   "metadata": {},
   "outputs": [
    {
     "output_type": "execute_result",
     "data": {
      "text/plain": [
       "31929351"
      ]
     },
     "metadata": {},
     "execution_count": 10
    }
   ],
   "source": [
    "sum(covid[last_day])\n"
   ]
  },
  {
   "source": [
    "## 2. What is the total number of reported COVID-19 cases for Virginia?\n",
    "Lets create a boolean filter to get a table that belongs to 'Province_State' == 'Virginia'"
   ],
   "cell_type": "markdown",
   "metadata": {}
  },
  {
   "cell_type": "code",
   "execution_count": 13,
   "metadata": {},
   "outputs": [],
   "source": [
    "virginia_filter = covid['Province_State'] == 'Virginia'  "
   ]
  },
  {
   "cell_type": "code",
   "execution_count": 14,
   "metadata": {},
   "outputs": [
    {
     "output_type": "execute_result",
     "data": {
      "text/plain": [
       "0       False\n",
       "1       False\n",
       "2       False\n",
       "3       False\n",
       "4       False\n",
       "        ...  \n",
       "3337    False\n",
       "3338    False\n",
       "3339    False\n",
       "3340    False\n",
       "3341    False\n",
       "Name: Province_State, Length: 3342, dtype: bool"
      ]
     },
     "metadata": {},
     "execution_count": 14
    }
   ],
   "source": [
    "virginia_filter"
   ]
  },
  {
   "cell_type": "code",
   "execution_count": 15,
   "metadata": {},
   "outputs": [],
   "source": [
    "covid_virginia = covid[virginia_filter]"
   ]
  },
  {
   "cell_type": "code",
   "execution_count": 16,
   "metadata": {},
   "outputs": [
    {
     "output_type": "execute_result",
     "data": {
      "text/plain": [
       "           UID iso2 iso3  code3     FIPS        Admin2 Province_State  \\\n",
       "3010  84051001   US  USA    840  51001.0      Accomack       Virginia   \n",
       "3011  84051003   US  USA    840  51003.0     Albemarle       Virginia   \n",
       "3012  84051510   US  USA    840  51510.0    Alexandria       Virginia   \n",
       "3013  84051005   US  USA    840  51005.0     Alleghany       Virginia   \n",
       "3014  84051007   US  USA    840  51007.0        Amelia       Virginia   \n",
       "...        ...  ...  ...    ...      ...           ...            ...   \n",
       "3140  84051830   US  USA    840  51830.0  Williamsburg       Virginia   \n",
       "3141  84051840   US  USA    840  51840.0    Winchester       Virginia   \n",
       "3142  84051195   US  USA    840  51195.0          Wise       Virginia   \n",
       "3143  84051197   US  USA    840  51197.0         Wythe       Virginia   \n",
       "3144  84051199   US  USA    840  51199.0          York       Virginia   \n",
       "\n",
       "     Country_Region        Lat      Long_  ... 4/13/21  4/14/21  4/15/21  \\\n",
       "3010             US  37.767072 -75.632346  ...    2750     2756     2762   \n",
       "3011             US  38.020807 -78.554811  ...    5448     5470     5491   \n",
       "3012             US  38.814003 -77.081831  ...   11348    11375    11387   \n",
       "3013             US  37.786361 -80.002225  ...    1296     1299     1298   \n",
       "3014             US  37.340810 -77.985846  ...     845      844      846   \n",
       "...             ...        ...        ...  ...     ...      ...      ...   \n",
       "3140             US  37.281313 -76.709051  ...     731      731      737   \n",
       "3141             US  39.170545 -78.173251  ...    2752     2751     2759   \n",
       "3142             US  36.974615 -82.624105  ...    3027     3033     3034   \n",
       "3143             US  36.915820 -81.078341  ...    2451     2461     2473   \n",
       "3144             US  37.243748 -76.544128  ...    3565     3575     3581   \n",
       "\n",
       "      4/16/21  4/17/21  4/18/21  4/19/21  4/20/21  4/21/21  4/22/21  \n",
       "3010     2763     2770     2773     2775     2776     2778     2777  \n",
       "3011     5506     5515     5526     5535     5555     5620     5635  \n",
       "3012    11402    11442    11461    11481    11491    11519    11522  \n",
       "3013     1298     1299     1299     1299     1302     1299     1302  \n",
       "3014      850      852      855      855      856      857      859  \n",
       "...       ...      ...      ...      ...      ...      ...      ...  \n",
       "3140      738      741      748      749      743      746      748  \n",
       "3141     2762     2765     2773     2786     2785     2790     2793  \n",
       "3142     3039     3042     3046     3048     3057     3066     3078  \n",
       "3143     2490     2494     2503     2508     2526     2527     2536  \n",
       "3144     3588     3597     3604     3608     3619     3622     3632  \n",
       "\n",
       "[135 rows x 468 columns]"
      ],
      "text/html": "<div>\n<style scoped>\n    .dataframe tbody tr th:only-of-type {\n        vertical-align: middle;\n    }\n\n    .dataframe tbody tr th {\n        vertical-align: top;\n    }\n\n    .dataframe thead th {\n        text-align: right;\n    }\n</style>\n<table border=\"1\" class=\"dataframe\">\n  <thead>\n    <tr style=\"text-align: right;\">\n      <th></th>\n      <th>UID</th>\n      <th>iso2</th>\n      <th>iso3</th>\n      <th>code3</th>\n      <th>FIPS</th>\n      <th>Admin2</th>\n      <th>Province_State</th>\n      <th>Country_Region</th>\n      <th>Lat</th>\n      <th>Long_</th>\n      <th>...</th>\n      <th>4/13/21</th>\n      <th>4/14/21</th>\n      <th>4/15/21</th>\n      <th>4/16/21</th>\n      <th>4/17/21</th>\n      <th>4/18/21</th>\n      <th>4/19/21</th>\n      <th>4/20/21</th>\n      <th>4/21/21</th>\n      <th>4/22/21</th>\n    </tr>\n  </thead>\n  <tbody>\n    <tr>\n      <th>3010</th>\n      <td>84051001</td>\n      <td>US</td>\n      <td>USA</td>\n      <td>840</td>\n      <td>51001.0</td>\n      <td>Accomack</td>\n      <td>Virginia</td>\n      <td>US</td>\n      <td>37.767072</td>\n      <td>-75.632346</td>\n      <td>...</td>\n      <td>2750</td>\n      <td>2756</td>\n      <td>2762</td>\n      <td>2763</td>\n      <td>2770</td>\n      <td>2773</td>\n      <td>2775</td>\n      <td>2776</td>\n      <td>2778</td>\n      <td>2777</td>\n    </tr>\n    <tr>\n      <th>3011</th>\n      <td>84051003</td>\n      <td>US</td>\n      <td>USA</td>\n      <td>840</td>\n      <td>51003.0</td>\n      <td>Albemarle</td>\n      <td>Virginia</td>\n      <td>US</td>\n      <td>38.020807</td>\n      <td>-78.554811</td>\n      <td>...</td>\n      <td>5448</td>\n      <td>5470</td>\n      <td>5491</td>\n      <td>5506</td>\n      <td>5515</td>\n      <td>5526</td>\n      <td>5535</td>\n      <td>5555</td>\n      <td>5620</td>\n      <td>5635</td>\n    </tr>\n    <tr>\n      <th>3012</th>\n      <td>84051510</td>\n      <td>US</td>\n      <td>USA</td>\n      <td>840</td>\n      <td>51510.0</td>\n      <td>Alexandria</td>\n      <td>Virginia</td>\n      <td>US</td>\n      <td>38.814003</td>\n      <td>-77.081831</td>\n      <td>...</td>\n      <td>11348</td>\n      <td>11375</td>\n      <td>11387</td>\n      <td>11402</td>\n      <td>11442</td>\n      <td>11461</td>\n      <td>11481</td>\n      <td>11491</td>\n      <td>11519</td>\n      <td>11522</td>\n    </tr>\n    <tr>\n      <th>3013</th>\n      <td>84051005</td>\n      <td>US</td>\n      <td>USA</td>\n      <td>840</td>\n      <td>51005.0</td>\n      <td>Alleghany</td>\n      <td>Virginia</td>\n      <td>US</td>\n      <td>37.786361</td>\n      <td>-80.002225</td>\n      <td>...</td>\n      <td>1296</td>\n      <td>1299</td>\n      <td>1298</td>\n      <td>1298</td>\n      <td>1299</td>\n      <td>1299</td>\n      <td>1299</td>\n      <td>1302</td>\n      <td>1299</td>\n      <td>1302</td>\n    </tr>\n    <tr>\n      <th>3014</th>\n      <td>84051007</td>\n      <td>US</td>\n      <td>USA</td>\n      <td>840</td>\n      <td>51007.0</td>\n      <td>Amelia</td>\n      <td>Virginia</td>\n      <td>US</td>\n      <td>37.340810</td>\n      <td>-77.985846</td>\n      <td>...</td>\n      <td>845</td>\n      <td>844</td>\n      <td>846</td>\n      <td>850</td>\n      <td>852</td>\n      <td>855</td>\n      <td>855</td>\n      <td>856</td>\n      <td>857</td>\n      <td>859</td>\n    </tr>\n    <tr>\n      <th>...</th>\n      <td>...</td>\n      <td>...</td>\n      <td>...</td>\n      <td>...</td>\n      <td>...</td>\n      <td>...</td>\n      <td>...</td>\n      <td>...</td>\n      <td>...</td>\n      <td>...</td>\n      <td>...</td>\n      <td>...</td>\n      <td>...</td>\n      <td>...</td>\n      <td>...</td>\n      <td>...</td>\n      <td>...</td>\n      <td>...</td>\n      <td>...</td>\n      <td>...</td>\n      <td>...</td>\n    </tr>\n    <tr>\n      <th>3140</th>\n      <td>84051830</td>\n      <td>US</td>\n      <td>USA</td>\n      <td>840</td>\n      <td>51830.0</td>\n      <td>Williamsburg</td>\n      <td>Virginia</td>\n      <td>US</td>\n      <td>37.281313</td>\n      <td>-76.709051</td>\n      <td>...</td>\n      <td>731</td>\n      <td>731</td>\n      <td>737</td>\n      <td>738</td>\n      <td>741</td>\n      <td>748</td>\n      <td>749</td>\n      <td>743</td>\n      <td>746</td>\n      <td>748</td>\n    </tr>\n    <tr>\n      <th>3141</th>\n      <td>84051840</td>\n      <td>US</td>\n      <td>USA</td>\n      <td>840</td>\n      <td>51840.0</td>\n      <td>Winchester</td>\n      <td>Virginia</td>\n      <td>US</td>\n      <td>39.170545</td>\n      <td>-78.173251</td>\n      <td>...</td>\n      <td>2752</td>\n      <td>2751</td>\n      <td>2759</td>\n      <td>2762</td>\n      <td>2765</td>\n      <td>2773</td>\n      <td>2786</td>\n      <td>2785</td>\n      <td>2790</td>\n      <td>2793</td>\n    </tr>\n    <tr>\n      <th>3142</th>\n      <td>84051195</td>\n      <td>US</td>\n      <td>USA</td>\n      <td>840</td>\n      <td>51195.0</td>\n      <td>Wise</td>\n      <td>Virginia</td>\n      <td>US</td>\n      <td>36.974615</td>\n      <td>-82.624105</td>\n      <td>...</td>\n      <td>3027</td>\n      <td>3033</td>\n      <td>3034</td>\n      <td>3039</td>\n      <td>3042</td>\n      <td>3046</td>\n      <td>3048</td>\n      <td>3057</td>\n      <td>3066</td>\n      <td>3078</td>\n    </tr>\n    <tr>\n      <th>3143</th>\n      <td>84051197</td>\n      <td>US</td>\n      <td>USA</td>\n      <td>840</td>\n      <td>51197.0</td>\n      <td>Wythe</td>\n      <td>Virginia</td>\n      <td>US</td>\n      <td>36.915820</td>\n      <td>-81.078341</td>\n      <td>...</td>\n      <td>2451</td>\n      <td>2461</td>\n      <td>2473</td>\n      <td>2490</td>\n      <td>2494</td>\n      <td>2503</td>\n      <td>2508</td>\n      <td>2526</td>\n      <td>2527</td>\n      <td>2536</td>\n    </tr>\n    <tr>\n      <th>3144</th>\n      <td>84051199</td>\n      <td>US</td>\n      <td>USA</td>\n      <td>840</td>\n      <td>51199.0</td>\n      <td>York</td>\n      <td>Virginia</td>\n      <td>US</td>\n      <td>37.243748</td>\n      <td>-76.544128</td>\n      <td>...</td>\n      <td>3565</td>\n      <td>3575</td>\n      <td>3581</td>\n      <td>3588</td>\n      <td>3597</td>\n      <td>3604</td>\n      <td>3608</td>\n      <td>3619</td>\n      <td>3622</td>\n      <td>3632</td>\n    </tr>\n  </tbody>\n</table>\n<p>135 rows × 468 columns</p>\n</div>"
     },
     "metadata": {},
     "execution_count": 16
    }
   ],
   "source": [
    "covid_virginia"
   ]
  },
  {
   "source": [
    "Then, sum the cases on the last day colum"
   ],
   "cell_type": "markdown",
   "metadata": {}
  }
 ]
}