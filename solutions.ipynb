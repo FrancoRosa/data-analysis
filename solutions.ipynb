{
 "metadata": {
  "orig_nbformat": 2,
  "kernelspec": {
   "name": "python390jvsc74a57bd0ee5cc6fef2d70a7e71ee3826687cbd150f18158e0b1eef11d4f4f92bb920e304",
   "display_name": "Python 3.9.0 64-bit"
  },
  "metadata": {
   "interpreter": {
    "hash": "ee5cc6fef2d70a7e71ee3826687cbd150f18158e0b1eef11d4f4f92bb920e304"
   }
  }
 },
 "nbformat": 4,
 "nbformat_minor": 2,
 "cells": [
  {
   "source": [
    "# Data analysis\n",
    "\n",
    "> Covid related data analysis from the csv provided\n",
    "\n",
    "## Import data to current notebook\n",
    "\n",
    "Call pandas and matplotlib libraries, then read csv"
   ],
   "cell_type": "markdown",
   "metadata": {}
  },
  {
   "source": [
    "import pandas as pd\n",
    "import matplotlib.pyplot as plt\n",
    "\n",
    "covid = pd.read_csv(\"project_covid19.csv\")\n"
   ],
   "cell_type": "code",
   "metadata": {},
   "execution_count": 1,
   "outputs": []
  },
  {
   "source": [
    "Check the data imported"
   ],
   "cell_type": "markdown",
   "metadata": {}
  },
  {
   "cell_type": "code",
   "execution_count": 2,
   "metadata": {},
   "outputs": [
    {
     "output_type": "execute_result",
     "data": {
      "text/plain": [
       "           UID iso2 iso3  code3     FIPS      Admin2 Province_State  \\\n",
       "0     84001001   US  USA    840   1001.0     Autauga        Alabama   \n",
       "1     84001003   US  USA    840   1003.0     Baldwin        Alabama   \n",
       "2     84001005   US  USA    840   1005.0     Barbour        Alabama   \n",
       "3     84001007   US  USA    840   1007.0        Bibb        Alabama   \n",
       "4     84001009   US  USA    840   1009.0      Blount        Alabama   \n",
       "...        ...  ...  ...    ...      ...         ...            ...   \n",
       "3337  84056039   US  USA    840  56039.0       Teton        Wyoming   \n",
       "3338  84056041   US  USA    840  56041.0       Uinta        Wyoming   \n",
       "3339  84090056   US  USA    840  90056.0  Unassigned        Wyoming   \n",
       "3340  84056043   US  USA    840  56043.0    Washakie        Wyoming   \n",
       "3341  84056045   US  USA    840  56045.0      Weston        Wyoming   \n",
       "\n",
       "     Country_Region        Lat       Long_  ... 4/13/21  4/14/21  4/15/21  \\\n",
       "0                US  32.539527  -86.644082  ...    6734     6740     6748   \n",
       "1                US  30.727750  -87.722071  ...   20652    20670    20674   \n",
       "2                US  31.868263  -85.387129  ...    2252     2257     2262   \n",
       "3                US  32.996421  -87.125115  ...    2564     2559     2560   \n",
       "4                US  33.982109  -86.567906  ...    6497     6507     6511   \n",
       "...             ...        ...         ...  ...     ...      ...      ...   \n",
       "3337             US  43.935225 -110.589080  ...    3675     3684     3689   \n",
       "3338             US  41.287818 -110.547578  ...    2153     2153     2155   \n",
       "3339             US   0.000000    0.000000  ...       0        0        0   \n",
       "3340             US  43.904516 -107.680187  ...     898      898      898   \n",
       "3341             US  43.839612 -104.567488  ...     642      646      646   \n",
       "\n",
       "      4/16/21  4/17/21  4/18/21  4/19/21  4/20/21  4/21/21  4/22/21  \n",
       "0        6750     6760     6763     6763     6773     6793     6819  \n",
       "1       20701    20714    20723    20730    20764    20787    20815  \n",
       "2        2264     2271     2271     2271     2275     2284     2289  \n",
       "3        2560     2563     2563     2567     2569     2569     2573  \n",
       "4        6519     6529     6532     6532     6548     6556     6563  \n",
       "...       ...      ...      ...      ...      ...      ...      ...  \n",
       "3337     3694     3694     3694     3703     3707     3711     3715  \n",
       "3338     2155     2155     2155     2150     2155     2154     2157  \n",
       "3339        0        0        0        0        0        0        0  \n",
       "3340      898      898      898      898      898      898      898  \n",
       "3341      646      646      646      647      647      647      647  \n",
       "\n",
       "[3342 rows x 468 columns]"
      ],
      "text/html": "<div>\n<style scoped>\n    .dataframe tbody tr th:only-of-type {\n        vertical-align: middle;\n    }\n\n    .dataframe tbody tr th {\n        vertical-align: top;\n    }\n\n    .dataframe thead th {\n        text-align: right;\n    }\n</style>\n<table border=\"1\" class=\"dataframe\">\n  <thead>\n    <tr style=\"text-align: right;\">\n      <th></th>\n      <th>UID</th>\n      <th>iso2</th>\n      <th>iso3</th>\n      <th>code3</th>\n      <th>FIPS</th>\n      <th>Admin2</th>\n      <th>Province_State</th>\n      <th>Country_Region</th>\n      <th>Lat</th>\n      <th>Long_</th>\n      <th>...</th>\n      <th>4/13/21</th>\n      <th>4/14/21</th>\n      <th>4/15/21</th>\n      <th>4/16/21</th>\n      <th>4/17/21</th>\n      <th>4/18/21</th>\n      <th>4/19/21</th>\n      <th>4/20/21</th>\n      <th>4/21/21</th>\n      <th>4/22/21</th>\n    </tr>\n  </thead>\n  <tbody>\n    <tr>\n      <th>0</th>\n      <td>84001001</td>\n      <td>US</td>\n      <td>USA</td>\n      <td>840</td>\n      <td>1001.0</td>\n      <td>Autauga</td>\n      <td>Alabama</td>\n      <td>US</td>\n      <td>32.539527</td>\n      <td>-86.644082</td>\n      <td>...</td>\n      <td>6734</td>\n      <td>6740</td>\n      <td>6748</td>\n      <td>6750</td>\n      <td>6760</td>\n      <td>6763</td>\n      <td>6763</td>\n      <td>6773</td>\n      <td>6793</td>\n      <td>6819</td>\n    </tr>\n    <tr>\n      <th>1</th>\n      <td>84001003</td>\n      <td>US</td>\n      <td>USA</td>\n      <td>840</td>\n      <td>1003.0</td>\n      <td>Baldwin</td>\n      <td>Alabama</td>\n      <td>US</td>\n      <td>30.727750</td>\n      <td>-87.722071</td>\n      <td>...</td>\n      <td>20652</td>\n      <td>20670</td>\n      <td>20674</td>\n      <td>20701</td>\n      <td>20714</td>\n      <td>20723</td>\n      <td>20730</td>\n      <td>20764</td>\n      <td>20787</td>\n      <td>20815</td>\n    </tr>\n    <tr>\n      <th>2</th>\n      <td>84001005</td>\n      <td>US</td>\n      <td>USA</td>\n      <td>840</td>\n      <td>1005.0</td>\n      <td>Barbour</td>\n      <td>Alabama</td>\n      <td>US</td>\n      <td>31.868263</td>\n      <td>-85.387129</td>\n      <td>...</td>\n      <td>2252</td>\n      <td>2257</td>\n      <td>2262</td>\n      <td>2264</td>\n      <td>2271</td>\n      <td>2271</td>\n      <td>2271</td>\n      <td>2275</td>\n      <td>2284</td>\n      <td>2289</td>\n    </tr>\n    <tr>\n      <th>3</th>\n      <td>84001007</td>\n      <td>US</td>\n      <td>USA</td>\n      <td>840</td>\n      <td>1007.0</td>\n      <td>Bibb</td>\n      <td>Alabama</td>\n      <td>US</td>\n      <td>32.996421</td>\n      <td>-87.125115</td>\n      <td>...</td>\n      <td>2564</td>\n      <td>2559</td>\n      <td>2560</td>\n      <td>2560</td>\n      <td>2563</td>\n      <td>2563</td>\n      <td>2567</td>\n      <td>2569</td>\n      <td>2569</td>\n      <td>2573</td>\n    </tr>\n    <tr>\n      <th>4</th>\n      <td>84001009</td>\n      <td>US</td>\n      <td>USA</td>\n      <td>840</td>\n      <td>1009.0</td>\n      <td>Blount</td>\n      <td>Alabama</td>\n      <td>US</td>\n      <td>33.982109</td>\n      <td>-86.567906</td>\n      <td>...</td>\n      <td>6497</td>\n      <td>6507</td>\n      <td>6511</td>\n      <td>6519</td>\n      <td>6529</td>\n      <td>6532</td>\n      <td>6532</td>\n      <td>6548</td>\n      <td>6556</td>\n      <td>6563</td>\n    </tr>\n    <tr>\n      <th>...</th>\n      <td>...</td>\n      <td>...</td>\n      <td>...</td>\n      <td>...</td>\n      <td>...</td>\n      <td>...</td>\n      <td>...</td>\n      <td>...</td>\n      <td>...</td>\n      <td>...</td>\n      <td>...</td>\n      <td>...</td>\n      <td>...</td>\n      <td>...</td>\n      <td>...</td>\n      <td>...</td>\n      <td>...</td>\n      <td>...</td>\n      <td>...</td>\n      <td>...</td>\n      <td>...</td>\n    </tr>\n    <tr>\n      <th>3337</th>\n      <td>84056039</td>\n      <td>US</td>\n      <td>USA</td>\n      <td>840</td>\n      <td>56039.0</td>\n      <td>Teton</td>\n      <td>Wyoming</td>\n      <td>US</td>\n      <td>43.935225</td>\n      <td>-110.589080</td>\n      <td>...</td>\n      <td>3675</td>\n      <td>3684</td>\n      <td>3689</td>\n      <td>3694</td>\n      <td>3694</td>\n      <td>3694</td>\n      <td>3703</td>\n      <td>3707</td>\n      <td>3711</td>\n      <td>3715</td>\n    </tr>\n    <tr>\n      <th>3338</th>\n      <td>84056041</td>\n      <td>US</td>\n      <td>USA</td>\n      <td>840</td>\n      <td>56041.0</td>\n      <td>Uinta</td>\n      <td>Wyoming</td>\n      <td>US</td>\n      <td>41.287818</td>\n      <td>-110.547578</td>\n      <td>...</td>\n      <td>2153</td>\n      <td>2153</td>\n      <td>2155</td>\n      <td>2155</td>\n      <td>2155</td>\n      <td>2155</td>\n      <td>2150</td>\n      <td>2155</td>\n      <td>2154</td>\n      <td>2157</td>\n    </tr>\n    <tr>\n      <th>3339</th>\n      <td>84090056</td>\n      <td>US</td>\n      <td>USA</td>\n      <td>840</td>\n      <td>90056.0</td>\n      <td>Unassigned</td>\n      <td>Wyoming</td>\n      <td>US</td>\n      <td>0.000000</td>\n      <td>0.000000</td>\n      <td>...</td>\n      <td>0</td>\n      <td>0</td>\n      <td>0</td>\n      <td>0</td>\n      <td>0</td>\n      <td>0</td>\n      <td>0</td>\n      <td>0</td>\n      <td>0</td>\n      <td>0</td>\n    </tr>\n    <tr>\n      <th>3340</th>\n      <td>84056043</td>\n      <td>US</td>\n      <td>USA</td>\n      <td>840</td>\n      <td>56043.0</td>\n      <td>Washakie</td>\n      <td>Wyoming</td>\n      <td>US</td>\n      <td>43.904516</td>\n      <td>-107.680187</td>\n      <td>...</td>\n      <td>898</td>\n      <td>898</td>\n      <td>898</td>\n      <td>898</td>\n      <td>898</td>\n      <td>898</td>\n      <td>898</td>\n      <td>898</td>\n      <td>898</td>\n      <td>898</td>\n    </tr>\n    <tr>\n      <th>3341</th>\n      <td>84056045</td>\n      <td>US</td>\n      <td>USA</td>\n      <td>840</td>\n      <td>56045.0</td>\n      <td>Weston</td>\n      <td>Wyoming</td>\n      <td>US</td>\n      <td>43.839612</td>\n      <td>-104.567488</td>\n      <td>...</td>\n      <td>642</td>\n      <td>646</td>\n      <td>646</td>\n      <td>646</td>\n      <td>646</td>\n      <td>646</td>\n      <td>647</td>\n      <td>647</td>\n      <td>647</td>\n      <td>647</td>\n    </tr>\n  </tbody>\n</table>\n<p>3342 rows × 468 columns</p>\n</div>"
     },
     "metadata": {},
     "execution_count": 2
    }
   ],
   "source": [
    "covid"
   ]
  },
  {
   "source": [
    "## 1. What is the total number of reported COVID-19 cases in the USA?\n",
    "\n",
    "Reported cases per day are comulative, that means that we will get the total commulative looking at he last column. Then we will sum the last column to get the total cases "
   ],
   "cell_type": "markdown",
   "metadata": {}
  },
  {
   "cell_type": "code",
   "execution_count": 3,
   "metadata": {},
   "outputs": [],
   "source": [
    "last_day = covid.columns[-1]\n"
   ]
  },
  {
   "cell_type": "code",
   "execution_count": 4,
   "metadata": {},
   "outputs": [
    {
     "output_type": "execute_result",
     "data": {
      "text/plain": [
       "'4/22/21'"
      ]
     },
     "metadata": {},
     "execution_count": 4
    }
   ],
   "source": [
    "last_day"
   ]
  },
  {
   "source": [
    "covid[last_day]"
   ],
   "cell_type": "code",
   "metadata": {},
   "execution_count": 5,
   "outputs": [
    {
     "output_type": "execute_result",
     "data": {
      "text/plain": [
       "0        6819\n",
       "1       20815\n",
       "2        2289\n",
       "3        2573\n",
       "4        6563\n",
       "        ...  \n",
       "3337     3715\n",
       "3338     2157\n",
       "3339        0\n",
       "3340      898\n",
       "3341      647\n",
       "Name: 4/22/21, Length: 3342, dtype: int64"
      ]
     },
     "metadata": {},
     "execution_count": 5
    }
   ]
  },
  {
   "cell_type": "code",
   "execution_count": 6,
   "metadata": {},
   "outputs": [
    {
     "output_type": "execute_result",
     "data": {
      "text/plain": [
       "31929351"
      ]
     },
     "metadata": {},
     "execution_count": 6
    }
   ],
   "source": [
    "sum(covid[last_day])\n"
   ]
  },
  {
   "source": [
    "## 2. What is the total number of reported COVID-19 cases for Virginia?\n",
    "Lets create a boolean filter to get a table that belongs to 'Province_State' == 'Virginia'"
   ],
   "cell_type": "markdown",
   "metadata": {}
  },
  {
   "cell_type": "code",
   "execution_count": 7,
   "metadata": {},
   "outputs": [],
   "source": [
    "virginia_filter = covid['Province_State'] == 'Virginia'  "
   ]
  },
  {
   "cell_type": "code",
   "execution_count": 8,
   "metadata": {},
   "outputs": [
    {
     "output_type": "execute_result",
     "data": {
      "text/plain": [
       "0       False\n",
       "1       False\n",
       "2       False\n",
       "3       False\n",
       "4       False\n",
       "        ...  \n",
       "3337    False\n",
       "3338    False\n",
       "3339    False\n",
       "3340    False\n",
       "3341    False\n",
       "Name: Province_State, Length: 3342, dtype: bool"
      ]
     },
     "metadata": {},
     "execution_count": 8
    }
   ],
   "source": [
    "virginia_filter"
   ]
  },
  {
   "cell_type": "code",
   "execution_count": 9,
   "metadata": {},
   "outputs": [
    {
     "output_type": "execute_result",
     "data": {
      "text/plain": [
       "           UID iso2 iso3  code3     FIPS        Admin2 Province_State  \\\n",
       "3010  84051001   US  USA    840  51001.0      Accomack       Virginia   \n",
       "3011  84051003   US  USA    840  51003.0     Albemarle       Virginia   \n",
       "3012  84051510   US  USA    840  51510.0    Alexandria       Virginia   \n",
       "3013  84051005   US  USA    840  51005.0     Alleghany       Virginia   \n",
       "3014  84051007   US  USA    840  51007.0        Amelia       Virginia   \n",
       "...        ...  ...  ...    ...      ...           ...            ...   \n",
       "3140  84051830   US  USA    840  51830.0  Williamsburg       Virginia   \n",
       "3141  84051840   US  USA    840  51840.0    Winchester       Virginia   \n",
       "3142  84051195   US  USA    840  51195.0          Wise       Virginia   \n",
       "3143  84051197   US  USA    840  51197.0         Wythe       Virginia   \n",
       "3144  84051199   US  USA    840  51199.0          York       Virginia   \n",
       "\n",
       "     Country_Region        Lat      Long_  ... 4/13/21  4/14/21  4/15/21  \\\n",
       "3010             US  37.767072 -75.632346  ...    2750     2756     2762   \n",
       "3011             US  38.020807 -78.554811  ...    5448     5470     5491   \n",
       "3012             US  38.814003 -77.081831  ...   11348    11375    11387   \n",
       "3013             US  37.786361 -80.002225  ...    1296     1299     1298   \n",
       "3014             US  37.340810 -77.985846  ...     845      844      846   \n",
       "...             ...        ...        ...  ...     ...      ...      ...   \n",
       "3140             US  37.281313 -76.709051  ...     731      731      737   \n",
       "3141             US  39.170545 -78.173251  ...    2752     2751     2759   \n",
       "3142             US  36.974615 -82.624105  ...    3027     3033     3034   \n",
       "3143             US  36.915820 -81.078341  ...    2451     2461     2473   \n",
       "3144             US  37.243748 -76.544128  ...    3565     3575     3581   \n",
       "\n",
       "      4/16/21  4/17/21  4/18/21  4/19/21  4/20/21  4/21/21  4/22/21  \n",
       "3010     2763     2770     2773     2775     2776     2778     2777  \n",
       "3011     5506     5515     5526     5535     5555     5620     5635  \n",
       "3012    11402    11442    11461    11481    11491    11519    11522  \n",
       "3013     1298     1299     1299     1299     1302     1299     1302  \n",
       "3014      850      852      855      855      856      857      859  \n",
       "...       ...      ...      ...      ...      ...      ...      ...  \n",
       "3140      738      741      748      749      743      746      748  \n",
       "3141     2762     2765     2773     2786     2785     2790     2793  \n",
       "3142     3039     3042     3046     3048     3057     3066     3078  \n",
       "3143     2490     2494     2503     2508     2526     2527     2536  \n",
       "3144     3588     3597     3604     3608     3619     3622     3632  \n",
       "\n",
       "[135 rows x 468 columns]"
      ],
      "text/html": "<div>\n<style scoped>\n    .dataframe tbody tr th:only-of-type {\n        vertical-align: middle;\n    }\n\n    .dataframe tbody tr th {\n        vertical-align: top;\n    }\n\n    .dataframe thead th {\n        text-align: right;\n    }\n</style>\n<table border=\"1\" class=\"dataframe\">\n  <thead>\n    <tr style=\"text-align: right;\">\n      <th></th>\n      <th>UID</th>\n      <th>iso2</th>\n      <th>iso3</th>\n      <th>code3</th>\n      <th>FIPS</th>\n      <th>Admin2</th>\n      <th>Province_State</th>\n      <th>Country_Region</th>\n      <th>Lat</th>\n      <th>Long_</th>\n      <th>...</th>\n      <th>4/13/21</th>\n      <th>4/14/21</th>\n      <th>4/15/21</th>\n      <th>4/16/21</th>\n      <th>4/17/21</th>\n      <th>4/18/21</th>\n      <th>4/19/21</th>\n      <th>4/20/21</th>\n      <th>4/21/21</th>\n      <th>4/22/21</th>\n    </tr>\n  </thead>\n  <tbody>\n    <tr>\n      <th>3010</th>\n      <td>84051001</td>\n      <td>US</td>\n      <td>USA</td>\n      <td>840</td>\n      <td>51001.0</td>\n      <td>Accomack</td>\n      <td>Virginia</td>\n      <td>US</td>\n      <td>37.767072</td>\n      <td>-75.632346</td>\n      <td>...</td>\n      <td>2750</td>\n      <td>2756</td>\n      <td>2762</td>\n      <td>2763</td>\n      <td>2770</td>\n      <td>2773</td>\n      <td>2775</td>\n      <td>2776</td>\n      <td>2778</td>\n      <td>2777</td>\n    </tr>\n    <tr>\n      <th>3011</th>\n      <td>84051003</td>\n      <td>US</td>\n      <td>USA</td>\n      <td>840</td>\n      <td>51003.0</td>\n      <td>Albemarle</td>\n      <td>Virginia</td>\n      <td>US</td>\n      <td>38.020807</td>\n      <td>-78.554811</td>\n      <td>...</td>\n      <td>5448</td>\n      <td>5470</td>\n      <td>5491</td>\n      <td>5506</td>\n      <td>5515</td>\n      <td>5526</td>\n      <td>5535</td>\n      <td>5555</td>\n      <td>5620</td>\n      <td>5635</td>\n    </tr>\n    <tr>\n      <th>3012</th>\n      <td>84051510</td>\n      <td>US</td>\n      <td>USA</td>\n      <td>840</td>\n      <td>51510.0</td>\n      <td>Alexandria</td>\n      <td>Virginia</td>\n      <td>US</td>\n      <td>38.814003</td>\n      <td>-77.081831</td>\n      <td>...</td>\n      <td>11348</td>\n      <td>11375</td>\n      <td>11387</td>\n      <td>11402</td>\n      <td>11442</td>\n      <td>11461</td>\n      <td>11481</td>\n      <td>11491</td>\n      <td>11519</td>\n      <td>11522</td>\n    </tr>\n    <tr>\n      <th>3013</th>\n      <td>84051005</td>\n      <td>US</td>\n      <td>USA</td>\n      <td>840</td>\n      <td>51005.0</td>\n      <td>Alleghany</td>\n      <td>Virginia</td>\n      <td>US</td>\n      <td>37.786361</td>\n      <td>-80.002225</td>\n      <td>...</td>\n      <td>1296</td>\n      <td>1299</td>\n      <td>1298</td>\n      <td>1298</td>\n      <td>1299</td>\n      <td>1299</td>\n      <td>1299</td>\n      <td>1302</td>\n      <td>1299</td>\n      <td>1302</td>\n    </tr>\n    <tr>\n      <th>3014</th>\n      <td>84051007</td>\n      <td>US</td>\n      <td>USA</td>\n      <td>840</td>\n      <td>51007.0</td>\n      <td>Amelia</td>\n      <td>Virginia</td>\n      <td>US</td>\n      <td>37.340810</td>\n      <td>-77.985846</td>\n      <td>...</td>\n      <td>845</td>\n      <td>844</td>\n      <td>846</td>\n      <td>850</td>\n      <td>852</td>\n      <td>855</td>\n      <td>855</td>\n      <td>856</td>\n      <td>857</td>\n      <td>859</td>\n    </tr>\n    <tr>\n      <th>...</th>\n      <td>...</td>\n      <td>...</td>\n      <td>...</td>\n      <td>...</td>\n      <td>...</td>\n      <td>...</td>\n      <td>...</td>\n      <td>...</td>\n      <td>...</td>\n      <td>...</td>\n      <td>...</td>\n      <td>...</td>\n      <td>...</td>\n      <td>...</td>\n      <td>...</td>\n      <td>...</td>\n      <td>...</td>\n      <td>...</td>\n      <td>...</td>\n      <td>...</td>\n      <td>...</td>\n    </tr>\n    <tr>\n      <th>3140</th>\n      <td>84051830</td>\n      <td>US</td>\n      <td>USA</td>\n      <td>840</td>\n      <td>51830.0</td>\n      <td>Williamsburg</td>\n      <td>Virginia</td>\n      <td>US</td>\n      <td>37.281313</td>\n      <td>-76.709051</td>\n      <td>...</td>\n      <td>731</td>\n      <td>731</td>\n      <td>737</td>\n      <td>738</td>\n      <td>741</td>\n      <td>748</td>\n      <td>749</td>\n      <td>743</td>\n      <td>746</td>\n      <td>748</td>\n    </tr>\n    <tr>\n      <th>3141</th>\n      <td>84051840</td>\n      <td>US</td>\n      <td>USA</td>\n      <td>840</td>\n      <td>51840.0</td>\n      <td>Winchester</td>\n      <td>Virginia</td>\n      <td>US</td>\n      <td>39.170545</td>\n      <td>-78.173251</td>\n      <td>...</td>\n      <td>2752</td>\n      <td>2751</td>\n      <td>2759</td>\n      <td>2762</td>\n      <td>2765</td>\n      <td>2773</td>\n      <td>2786</td>\n      <td>2785</td>\n      <td>2790</td>\n      <td>2793</td>\n    </tr>\n    <tr>\n      <th>3142</th>\n      <td>84051195</td>\n      <td>US</td>\n      <td>USA</td>\n      <td>840</td>\n      <td>51195.0</td>\n      <td>Wise</td>\n      <td>Virginia</td>\n      <td>US</td>\n      <td>36.974615</td>\n      <td>-82.624105</td>\n      <td>...</td>\n      <td>3027</td>\n      <td>3033</td>\n      <td>3034</td>\n      <td>3039</td>\n      <td>3042</td>\n      <td>3046</td>\n      <td>3048</td>\n      <td>3057</td>\n      <td>3066</td>\n      <td>3078</td>\n    </tr>\n    <tr>\n      <th>3143</th>\n      <td>84051197</td>\n      <td>US</td>\n      <td>USA</td>\n      <td>840</td>\n      <td>51197.0</td>\n      <td>Wythe</td>\n      <td>Virginia</td>\n      <td>US</td>\n      <td>36.915820</td>\n      <td>-81.078341</td>\n      <td>...</td>\n      <td>2451</td>\n      <td>2461</td>\n      <td>2473</td>\n      <td>2490</td>\n      <td>2494</td>\n      <td>2503</td>\n      <td>2508</td>\n      <td>2526</td>\n      <td>2527</td>\n      <td>2536</td>\n    </tr>\n    <tr>\n      <th>3144</th>\n      <td>84051199</td>\n      <td>US</td>\n      <td>USA</td>\n      <td>840</td>\n      <td>51199.0</td>\n      <td>York</td>\n      <td>Virginia</td>\n      <td>US</td>\n      <td>37.243748</td>\n      <td>-76.544128</td>\n      <td>...</td>\n      <td>3565</td>\n      <td>3575</td>\n      <td>3581</td>\n      <td>3588</td>\n      <td>3597</td>\n      <td>3604</td>\n      <td>3608</td>\n      <td>3619</td>\n      <td>3622</td>\n      <td>3632</td>\n    </tr>\n  </tbody>\n</table>\n<p>135 rows × 468 columns</p>\n</div>"
     },
     "metadata": {},
     "execution_count": 9
    }
   ],
   "source": [
    "covid_virginia = covid[virginia_filter]\n",
    "covid_virginia"
   ]
  },
  {
   "source": [
    "Then, check last day data and sum the values"
   ],
   "cell_type": "markdown",
   "metadata": {}
  },
  {
   "source": [
    "covid_virginia[last_day]"
   ],
   "cell_type": "code",
   "metadata": {},
   "execution_count": 10,
   "outputs": [
    {
     "output_type": "execute_result",
     "data": {
      "text/plain": [
       "3010     2777\n",
       "3011     5635\n",
       "3012    11522\n",
       "3013     1302\n",
       "3014      859\n",
       "        ...  \n",
       "3140      748\n",
       "3141     2793\n",
       "3142     3078\n",
       "3143     2536\n",
       "3144     3632\n",
       "Name: 4/22/21, Length: 135, dtype: int64"
      ]
     },
     "metadata": {},
     "execution_count": 10
    }
   ]
  },
  {
   "cell_type": "code",
   "execution_count": 11,
   "metadata": {},
   "outputs": [
    {
     "output_type": "execute_result",
     "data": {
      "text/plain": [
       "650981"
      ]
     },
     "metadata": {},
     "execution_count": 11
    }
   ],
   "source": [
    "sum(covid_virginia[last_day])"
   ]
  },
  {
   "source": [
    "## 3. Provide a bar chart displaying the new reported cases in Virginia over the last 10 days.\n",
    "To get the new cases reported on day \"n\" we need to calculate the diference between \"n\" and \"n-1\", where \"n-1\" is the day before n.\n",
    "\n",
    "First, get que last 11 days on the chart"
   ],
   "cell_type": "markdown",
   "metadata": {}
  },
  {
   "cell_type": "code",
   "execution_count": 12,
   "metadata": {},
   "outputs": [
    {
     "output_type": "execute_result",
     "data": {
      "text/plain": [
       "Index(['4/12/21', '4/13/21', '4/14/21', '4/15/21', '4/16/21', '4/17/21',\n",
       "       '4/18/21', '4/19/21', '4/20/21', '4/21/21', '4/22/21'],\n",
       "      dtype='object')"
      ]
     },
     "metadata": {},
     "execution_count": 12
    }
   ],
   "source": [
    "last_11_days = covid_virginia.columns[-11:]\n",
    "last_11_days"
   ]
  },
  {
   "source": [
    "Then, sum the total cases reported of the last 11 days"
   ],
   "cell_type": "markdown",
   "metadata": {}
  },
  {
   "cell_type": "code",
   "execution_count": 13,
   "metadata": {},
   "outputs": [
    {
     "output_type": "execute_result",
     "data": {
      "text/plain": [
       "[636862,\n",
       " 638910,\n",
       " 640211,\n",
       " 641626,\n",
       " 643220,\n",
       " 644828,\n",
       " 646133,\n",
       " 647111,\n",
       " 648347,\n",
       " 649608,\n",
       " 650981]"
      ]
     },
     "metadata": {},
     "execution_count": 13
    }
   ],
   "source": [
    "sum_last_11_days=[sum(covid_virginia[day]) for day in last_11_days]\n",
    "sum_last_11_days"
   ]
  },
  {
   "source": [
    "new_cases_last_10_days = []\n",
    "for i in range(len(sum_last_11_days)-1):\n",
    "    new_cases = sum_last_11_days[i+1]-sum_last_11_days[i]\n",
    "    new_cases_last_10_days.append(new_cases)\n",
    "new_cases_last_10_days"
   ],
   "cell_type": "code",
   "metadata": {},
   "execution_count": 14,
   "outputs": [
    {
     "output_type": "execute_result",
     "data": {
      "text/plain": [
       "[2048, 1301, 1415, 1594, 1608, 1305, 978, 1236, 1261, 1373]"
      ]
     },
     "metadata": {},
     "execution_count": 14
    }
   ]
  },
  {
   "source": [
    "Now, lets create a new table or dataframe, with the last days, and new cases"
   ],
   "cell_type": "markdown",
   "metadata": {}
  },
  {
   "cell_type": "code",
   "execution_count": 15,
   "metadata": {},
   "outputs": [
    {
     "output_type": "execute_result",
     "data": {
      "text/plain": [
       "       Day  New Cases\n",
       "0  4/13/21       2048\n",
       "1  4/14/21       1301\n",
       "2  4/15/21       1415\n",
       "3  4/16/21       1594\n",
       "4  4/17/21       1608\n",
       "5  4/18/21       1305\n",
       "6  4/19/21        978\n",
       "7  4/20/21       1236\n",
       "8  4/21/21       1261\n",
       "9  4/22/21       1373"
      ],
      "text/html": "<div>\n<style scoped>\n    .dataframe tbody tr th:only-of-type {\n        vertical-align: middle;\n    }\n\n    .dataframe tbody tr th {\n        vertical-align: top;\n    }\n\n    .dataframe thead th {\n        text-align: right;\n    }\n</style>\n<table border=\"1\" class=\"dataframe\">\n  <thead>\n    <tr style=\"text-align: right;\">\n      <th></th>\n      <th>Day</th>\n      <th>New Cases</th>\n    </tr>\n  </thead>\n  <tbody>\n    <tr>\n      <th>0</th>\n      <td>4/13/21</td>\n      <td>2048</td>\n    </tr>\n    <tr>\n      <th>1</th>\n      <td>4/14/21</td>\n      <td>1301</td>\n    </tr>\n    <tr>\n      <th>2</th>\n      <td>4/15/21</td>\n      <td>1415</td>\n    </tr>\n    <tr>\n      <th>3</th>\n      <td>4/16/21</td>\n      <td>1594</td>\n    </tr>\n    <tr>\n      <th>4</th>\n      <td>4/17/21</td>\n      <td>1608</td>\n    </tr>\n    <tr>\n      <th>5</th>\n      <td>4/18/21</td>\n      <td>1305</td>\n    </tr>\n    <tr>\n      <th>6</th>\n      <td>4/19/21</td>\n      <td>978</td>\n    </tr>\n    <tr>\n      <th>7</th>\n      <td>4/20/21</td>\n      <td>1236</td>\n    </tr>\n    <tr>\n      <th>8</th>\n      <td>4/21/21</td>\n      <td>1261</td>\n    </tr>\n    <tr>\n      <th>9</th>\n      <td>4/22/21</td>\n      <td>1373</td>\n    </tr>\n  </tbody>\n</table>\n</div>"
     },
     "metadata": {},
     "execution_count": 15
    }
   ],
   "source": [
    "df = pd.DataFrame({\n",
    "    \"Day\": covid_virginia.columns[-10:],\n",
    "    \"New Cases\": new_cases_last_10_days\n",
    "})\n",
    "df"
   ]
  },
  {
   "cell_type": "code",
   "execution_count": 16,
   "metadata": {},
   "outputs": [
    {
     "output_type": "execute_result",
     "data": {
      "text/plain": [
       "<AxesSubplot:xlabel='Day'>"
      ]
     },
     "metadata": {},
     "execution_count": 16
    },
    {
     "output_type": "display_data",
     "data": {
      "text/plain": "<Figure size 432x288 with 1 Axes>",
      "image/svg+xml": "<?xml version=\"1.0\" encoding=\"utf-8\" standalone=\"no\"?>\r\n<!DOCTYPE svg PUBLIC \"-//W3C//DTD SVG 1.1//EN\"\r\n  \"http://www.w3.org/Graphics/SVG/1.1/DTD/svg11.dtd\">\r\n<svg height=\"291.068125pt\" version=\"1.1\" viewBox=\"0 0 381.65 291.068125\" width=\"381.65pt\" xmlns=\"http://www.w3.org/2000/svg\" xmlns:xlink=\"http://www.w3.org/1999/xlink\">\r\n <metadata>\r\n  <rdf:RDF xmlns:cc=\"http://creativecommons.org/ns#\" xmlns:dc=\"http://purl.org/dc/elements/1.1/\" xmlns:rdf=\"http://www.w3.org/1999/02/22-rdf-syntax-ns#\">\r\n   <cc:Work>\r\n    <dc:type rdf:resource=\"http://purl.org/dc/dcmitype/StillImage\"/>\r\n    <dc:date>2021-04-26T17:31:19.258951</dc:date>\r\n    <dc:format>image/svg+xml</dc:format>\r\n    <dc:creator>\r\n     <cc:Agent>\r\n      <dc:title>Matplotlib v3.4.1, https://matplotlib.org/</dc:title>\r\n     </cc:Agent>\r\n    </dc:creator>\r\n   </cc:Work>\r\n  </rdf:RDF>\r\n </metadata>\r\n <defs>\r\n  <style type=\"text/css\">*{stroke-linecap:butt;stroke-linejoin:round;}</style>\r\n </defs>\r\n <g id=\"figure_1\">\r\n  <g id=\"patch_1\">\r\n   <path d=\"M -0 291.068125 \r\nL 381.65 291.068125 \r\nL 381.65 0 \r\nL -0 0 \r\nz\r\n\" style=\"fill:none;\"/>\r\n  </g>\r\n  <g id=\"axes_1\">\r\n   <g id=\"patch_2\">\r\n    <path d=\"M 39.65 224.64 \r\nL 374.45 224.64 \r\nL 374.45 7.2 \r\nL 39.65 7.2 \r\nz\r\n\" style=\"fill:#ffffff;\"/>\r\n   </g>\r\n   <g id=\"patch_3\">\r\n    <path clip-path=\"url(#p5deb9bb70d)\" d=\"M 48.02 224.64 \r\nL 64.76 224.64 \r\nL 64.76 17.554286 \r\nL 48.02 17.554286 \r\nz\r\n\" style=\"fill:#1f77b4;\"/>\r\n   </g>\r\n   <g id=\"patch_4\">\r\n    <path clip-path=\"url(#p5deb9bb70d)\" d=\"M 81.5 224.64 \r\nL 98.24 224.64 \r\nL 98.24 93.087991 \r\nL 81.5 93.087991 \r\nz\r\n\" style=\"fill:#1f77b4;\"/>\r\n   </g>\r\n   <g id=\"patch_5\">\r\n    <path clip-path=\"url(#p5deb9bb70d)\" d=\"M 114.98 224.64 \r\nL 131.72 224.64 \r\nL 131.72 81.560759 \r\nL 114.98 81.560759 \r\nz\r\n\" style=\"fill:#1f77b4;\"/>\r\n   </g>\r\n   <g id=\"patch_6\">\r\n    <path clip-path=\"url(#p5deb9bb70d)\" d=\"M 148.46 224.64 \r\nL 165.2 224.64 \r\nL 165.2 63.460982 \r\nL 148.46 63.460982 \r\nz\r\n\" style=\"fill:#1f77b4;\"/>\r\n   </g>\r\n   <g id=\"patch_7\">\r\n    <path clip-path=\"url(#p5deb9bb70d)\" d=\"M 181.94 224.64 \r\nL 198.68 224.64 \r\nL 198.68 62.045357 \r\nL 181.94 62.045357 \r\nz\r\n\" style=\"fill:#1f77b4;\"/>\r\n   </g>\r\n   <g id=\"patch_8\">\r\n    <path clip-path=\"url(#p5deb9bb70d)\" d=\"M 215.42 224.64 \r\nL 232.16 224.64 \r\nL 232.16 92.683527 \r\nL 215.42 92.683527 \r\nz\r\n\" style=\"fill:#1f77b4;\"/>\r\n   </g>\r\n   <g id=\"patch_9\">\r\n    <path clip-path=\"url(#p5deb9bb70d)\" d=\"M 248.9 224.64 \r\nL 265.64 224.64 \r\nL 265.64 125.748482 \r\nL 248.9 125.748482 \r\nz\r\n\" style=\"fill:#1f77b4;\"/>\r\n   </g>\r\n   <g id=\"patch_10\">\r\n    <path clip-path=\"url(#p5deb9bb70d)\" d=\"M 282.38 224.64 \r\nL 299.12 224.64 \r\nL 299.12 99.660536 \r\nL 282.38 99.660536 \r\nz\r\n\" style=\"fill:#1f77b4;\"/>\r\n   </g>\r\n   <g id=\"patch_11\">\r\n    <path clip-path=\"url(#p5deb9bb70d)\" d=\"M 315.86 224.64 \r\nL 332.6 224.64 \r\nL 332.6 97.132634 \r\nL 315.86 97.132634 \r\nz\r\n\" style=\"fill:#1f77b4;\"/>\r\n   </g>\r\n   <g id=\"patch_12\">\r\n    <path clip-path=\"url(#p5deb9bb70d)\" d=\"M 349.34 224.64 \r\nL 366.08 224.64 \r\nL 366.08 85.807634 \r\nL 349.34 85.807634 \r\nz\r\n\" style=\"fill:#1f77b4;\"/>\r\n   </g>\r\n   <g id=\"matplotlib.axis_1\">\r\n    <g id=\"xtick_1\">\r\n     <g id=\"line2d_1\">\r\n      <defs>\r\n       <path d=\"M 0 0 \r\nL 0 3.5 \r\n\" id=\"mf4100d827e\" style=\"stroke:#000000;stroke-width:0.8;\"/>\r\n      </defs>\r\n      <g>\r\n       <use style=\"stroke:#000000;stroke-width:0.8;\" x=\"56.39\" xlink:href=\"#mf4100d827e\" y=\"224.64\"/>\r\n      </g>\r\n     </g>\r\n     <g id=\"text_1\">\r\n      <!-- 4/13/21 -->\r\n      <g transform=\"translate(59.149375 270.19)rotate(-90)scale(0.1 -0.1)\">\r\n       <defs>\r\n        <path d=\"M 2419 4116 \r\nL 825 1625 \r\nL 2419 1625 \r\nL 2419 4116 \r\nz\r\nM 2253 4666 \r\nL 3047 4666 \r\nL 3047 1625 \r\nL 3713 1625 \r\nL 3713 1100 \r\nL 3047 1100 \r\nL 3047 0 \r\nL 2419 0 \r\nL 2419 1100 \r\nL 313 1100 \r\nL 313 1709 \r\nL 2253 4666 \r\nz\r\n\" id=\"DejaVuSans-34\" transform=\"scale(0.015625)\"/>\r\n        <path d=\"M 1625 4666 \r\nL 2156 4666 \r\nL 531 -594 \r\nL 0 -594 \r\nL 1625 4666 \r\nz\r\n\" id=\"DejaVuSans-2f\" transform=\"scale(0.015625)\"/>\r\n        <path d=\"M 794 531 \r\nL 1825 531 \r\nL 1825 4091 \r\nL 703 3866 \r\nL 703 4441 \r\nL 1819 4666 \r\nL 2450 4666 \r\nL 2450 531 \r\nL 3481 531 \r\nL 3481 0 \r\nL 794 0 \r\nL 794 531 \r\nz\r\n\" id=\"DejaVuSans-31\" transform=\"scale(0.015625)\"/>\r\n        <path d=\"M 2597 2516 \r\nQ 3050 2419 3304 2112 \r\nQ 3559 1806 3559 1356 \r\nQ 3559 666 3084 287 \r\nQ 2609 -91 1734 -91 \r\nQ 1441 -91 1130 -33 \r\nQ 819 25 488 141 \r\nL 488 750 \r\nQ 750 597 1062 519 \r\nQ 1375 441 1716 441 \r\nQ 2309 441 2620 675 \r\nQ 2931 909 2931 1356 \r\nQ 2931 1769 2642 2001 \r\nQ 2353 2234 1838 2234 \r\nL 1294 2234 \r\nL 1294 2753 \r\nL 1863 2753 \r\nQ 2328 2753 2575 2939 \r\nQ 2822 3125 2822 3475 \r\nQ 2822 3834 2567 4026 \r\nQ 2313 4219 1838 4219 \r\nQ 1578 4219 1281 4162 \r\nQ 984 4106 628 3988 \r\nL 628 4550 \r\nQ 988 4650 1302 4700 \r\nQ 1616 4750 1894 4750 \r\nQ 2613 4750 3031 4423 \r\nQ 3450 4097 3450 3541 \r\nQ 3450 3153 3228 2886 \r\nQ 3006 2619 2597 2516 \r\nz\r\n\" id=\"DejaVuSans-33\" transform=\"scale(0.015625)\"/>\r\n        <path d=\"M 1228 531 \r\nL 3431 531 \r\nL 3431 0 \r\nL 469 0 \r\nL 469 531 \r\nQ 828 903 1448 1529 \r\nQ 2069 2156 2228 2338 \r\nQ 2531 2678 2651 2914 \r\nQ 2772 3150 2772 3378 \r\nQ 2772 3750 2511 3984 \r\nQ 2250 4219 1831 4219 \r\nQ 1534 4219 1204 4116 \r\nQ 875 4013 500 3803 \r\nL 500 4441 \r\nQ 881 4594 1212 4672 \r\nQ 1544 4750 1819 4750 \r\nQ 2544 4750 2975 4387 \r\nQ 3406 4025 3406 3419 \r\nQ 3406 3131 3298 2873 \r\nQ 3191 2616 2906 2266 \r\nQ 2828 2175 2409 1742 \r\nQ 1991 1309 1228 531 \r\nz\r\n\" id=\"DejaVuSans-32\" transform=\"scale(0.015625)\"/>\r\n       </defs>\r\n       <use xlink:href=\"#DejaVuSans-34\"/>\r\n       <use x=\"63.623047\" xlink:href=\"#DejaVuSans-2f\"/>\r\n       <use x=\"97.314453\" xlink:href=\"#DejaVuSans-31\"/>\r\n       <use x=\"160.9375\" xlink:href=\"#DejaVuSans-33\"/>\r\n       <use x=\"224.560547\" xlink:href=\"#DejaVuSans-2f\"/>\r\n       <use x=\"258.251953\" xlink:href=\"#DejaVuSans-32\"/>\r\n       <use x=\"321.875\" xlink:href=\"#DejaVuSans-31\"/>\r\n      </g>\r\n     </g>\r\n    </g>\r\n    <g id=\"xtick_2\">\r\n     <g id=\"line2d_2\">\r\n      <g>\r\n       <use style=\"stroke:#000000;stroke-width:0.8;\" x=\"89.87\" xlink:href=\"#mf4100d827e\" y=\"224.64\"/>\r\n      </g>\r\n     </g>\r\n     <g id=\"text_2\">\r\n      <!-- 4/14/21 -->\r\n      <g transform=\"translate(92.629375 270.19)rotate(-90)scale(0.1 -0.1)\">\r\n       <use xlink:href=\"#DejaVuSans-34\"/>\r\n       <use x=\"63.623047\" xlink:href=\"#DejaVuSans-2f\"/>\r\n       <use x=\"97.314453\" xlink:href=\"#DejaVuSans-31\"/>\r\n       <use x=\"160.9375\" xlink:href=\"#DejaVuSans-34\"/>\r\n       <use x=\"224.560547\" xlink:href=\"#DejaVuSans-2f\"/>\r\n       <use x=\"258.251953\" xlink:href=\"#DejaVuSans-32\"/>\r\n       <use x=\"321.875\" xlink:href=\"#DejaVuSans-31\"/>\r\n      </g>\r\n     </g>\r\n    </g>\r\n    <g id=\"xtick_3\">\r\n     <g id=\"line2d_3\">\r\n      <g>\r\n       <use style=\"stroke:#000000;stroke-width:0.8;\" x=\"123.35\" xlink:href=\"#mf4100d827e\" y=\"224.64\"/>\r\n      </g>\r\n     </g>\r\n     <g id=\"text_3\">\r\n      <!-- 4/15/21 -->\r\n      <g transform=\"translate(126.109375 270.19)rotate(-90)scale(0.1 -0.1)\">\r\n       <defs>\r\n        <path d=\"M 691 4666 \r\nL 3169 4666 \r\nL 3169 4134 \r\nL 1269 4134 \r\nL 1269 2991 \r\nQ 1406 3038 1543 3061 \r\nQ 1681 3084 1819 3084 \r\nQ 2600 3084 3056 2656 \r\nQ 3513 2228 3513 1497 \r\nQ 3513 744 3044 326 \r\nQ 2575 -91 1722 -91 \r\nQ 1428 -91 1123 -41 \r\nQ 819 9 494 109 \r\nL 494 744 \r\nQ 775 591 1075 516 \r\nQ 1375 441 1709 441 \r\nQ 2250 441 2565 725 \r\nQ 2881 1009 2881 1497 \r\nQ 2881 1984 2565 2268 \r\nQ 2250 2553 1709 2553 \r\nQ 1456 2553 1204 2497 \r\nQ 953 2441 691 2322 \r\nL 691 4666 \r\nz\r\n\" id=\"DejaVuSans-35\" transform=\"scale(0.015625)\"/>\r\n       </defs>\r\n       <use xlink:href=\"#DejaVuSans-34\"/>\r\n       <use x=\"63.623047\" xlink:href=\"#DejaVuSans-2f\"/>\r\n       <use x=\"97.314453\" xlink:href=\"#DejaVuSans-31\"/>\r\n       <use x=\"160.9375\" xlink:href=\"#DejaVuSans-35\"/>\r\n       <use x=\"224.560547\" xlink:href=\"#DejaVuSans-2f\"/>\r\n       <use x=\"258.251953\" xlink:href=\"#DejaVuSans-32\"/>\r\n       <use x=\"321.875\" xlink:href=\"#DejaVuSans-31\"/>\r\n      </g>\r\n     </g>\r\n    </g>\r\n    <g id=\"xtick_4\">\r\n     <g id=\"line2d_4\">\r\n      <g>\r\n       <use style=\"stroke:#000000;stroke-width:0.8;\" x=\"156.83\" xlink:href=\"#mf4100d827e\" y=\"224.64\"/>\r\n      </g>\r\n     </g>\r\n     <g id=\"text_4\">\r\n      <!-- 4/16/21 -->\r\n      <g transform=\"translate(159.589375 270.19)rotate(-90)scale(0.1 -0.1)\">\r\n       <defs>\r\n        <path d=\"M 2113 2584 \r\nQ 1688 2584 1439 2293 \r\nQ 1191 2003 1191 1497 \r\nQ 1191 994 1439 701 \r\nQ 1688 409 2113 409 \r\nQ 2538 409 2786 701 \r\nQ 3034 994 3034 1497 \r\nQ 3034 2003 2786 2293 \r\nQ 2538 2584 2113 2584 \r\nz\r\nM 3366 4563 \r\nL 3366 3988 \r\nQ 3128 4100 2886 4159 \r\nQ 2644 4219 2406 4219 \r\nQ 1781 4219 1451 3797 \r\nQ 1122 3375 1075 2522 \r\nQ 1259 2794 1537 2939 \r\nQ 1816 3084 2150 3084 \r\nQ 2853 3084 3261 2657 \r\nQ 3669 2231 3669 1497 \r\nQ 3669 778 3244 343 \r\nQ 2819 -91 2113 -91 \r\nQ 1303 -91 875 529 \r\nQ 447 1150 447 2328 \r\nQ 447 3434 972 4092 \r\nQ 1497 4750 2381 4750 \r\nQ 2619 4750 2861 4703 \r\nQ 3103 4656 3366 4563 \r\nz\r\n\" id=\"DejaVuSans-36\" transform=\"scale(0.015625)\"/>\r\n       </defs>\r\n       <use xlink:href=\"#DejaVuSans-34\"/>\r\n       <use x=\"63.623047\" xlink:href=\"#DejaVuSans-2f\"/>\r\n       <use x=\"97.314453\" xlink:href=\"#DejaVuSans-31\"/>\r\n       <use x=\"160.9375\" xlink:href=\"#DejaVuSans-36\"/>\r\n       <use x=\"224.560547\" xlink:href=\"#DejaVuSans-2f\"/>\r\n       <use x=\"258.251953\" xlink:href=\"#DejaVuSans-32\"/>\r\n       <use x=\"321.875\" xlink:href=\"#DejaVuSans-31\"/>\r\n      </g>\r\n     </g>\r\n    </g>\r\n    <g id=\"xtick_5\">\r\n     <g id=\"line2d_5\">\r\n      <g>\r\n       <use style=\"stroke:#000000;stroke-width:0.8;\" x=\"190.31\" xlink:href=\"#mf4100d827e\" y=\"224.64\"/>\r\n      </g>\r\n     </g>\r\n     <g id=\"text_5\">\r\n      <!-- 4/17/21 -->\r\n      <g transform=\"translate(193.069375 270.19)rotate(-90)scale(0.1 -0.1)\">\r\n       <defs>\r\n        <path d=\"M 525 4666 \r\nL 3525 4666 \r\nL 3525 4397 \r\nL 1831 0 \r\nL 1172 0 \r\nL 2766 4134 \r\nL 525 4134 \r\nL 525 4666 \r\nz\r\n\" id=\"DejaVuSans-37\" transform=\"scale(0.015625)\"/>\r\n       </defs>\r\n       <use xlink:href=\"#DejaVuSans-34\"/>\r\n       <use x=\"63.623047\" xlink:href=\"#DejaVuSans-2f\"/>\r\n       <use x=\"97.314453\" xlink:href=\"#DejaVuSans-31\"/>\r\n       <use x=\"160.9375\" xlink:href=\"#DejaVuSans-37\"/>\r\n       <use x=\"224.560547\" xlink:href=\"#DejaVuSans-2f\"/>\r\n       <use x=\"258.251953\" xlink:href=\"#DejaVuSans-32\"/>\r\n       <use x=\"321.875\" xlink:href=\"#DejaVuSans-31\"/>\r\n      </g>\r\n     </g>\r\n    </g>\r\n    <g id=\"xtick_6\">\r\n     <g id=\"line2d_6\">\r\n      <g>\r\n       <use style=\"stroke:#000000;stroke-width:0.8;\" x=\"223.79\" xlink:href=\"#mf4100d827e\" y=\"224.64\"/>\r\n      </g>\r\n     </g>\r\n     <g id=\"text_6\">\r\n      <!-- 4/18/21 -->\r\n      <g transform=\"translate(226.549375 270.19)rotate(-90)scale(0.1 -0.1)\">\r\n       <defs>\r\n        <path d=\"M 2034 2216 \r\nQ 1584 2216 1326 1975 \r\nQ 1069 1734 1069 1313 \r\nQ 1069 891 1326 650 \r\nQ 1584 409 2034 409 \r\nQ 2484 409 2743 651 \r\nQ 3003 894 3003 1313 \r\nQ 3003 1734 2745 1975 \r\nQ 2488 2216 2034 2216 \r\nz\r\nM 1403 2484 \r\nQ 997 2584 770 2862 \r\nQ 544 3141 544 3541 \r\nQ 544 4100 942 4425 \r\nQ 1341 4750 2034 4750 \r\nQ 2731 4750 3128 4425 \r\nQ 3525 4100 3525 3541 \r\nQ 3525 3141 3298 2862 \r\nQ 3072 2584 2669 2484 \r\nQ 3125 2378 3379 2068 \r\nQ 3634 1759 3634 1313 \r\nQ 3634 634 3220 271 \r\nQ 2806 -91 2034 -91 \r\nQ 1263 -91 848 271 \r\nQ 434 634 434 1313 \r\nQ 434 1759 690 2068 \r\nQ 947 2378 1403 2484 \r\nz\r\nM 1172 3481 \r\nQ 1172 3119 1398 2916 \r\nQ 1625 2713 2034 2713 \r\nQ 2441 2713 2670 2916 \r\nQ 2900 3119 2900 3481 \r\nQ 2900 3844 2670 4047 \r\nQ 2441 4250 2034 4250 \r\nQ 1625 4250 1398 4047 \r\nQ 1172 3844 1172 3481 \r\nz\r\n\" id=\"DejaVuSans-38\" transform=\"scale(0.015625)\"/>\r\n       </defs>\r\n       <use xlink:href=\"#DejaVuSans-34\"/>\r\n       <use x=\"63.623047\" xlink:href=\"#DejaVuSans-2f\"/>\r\n       <use x=\"97.314453\" xlink:href=\"#DejaVuSans-31\"/>\r\n       <use x=\"160.9375\" xlink:href=\"#DejaVuSans-38\"/>\r\n       <use x=\"224.560547\" xlink:href=\"#DejaVuSans-2f\"/>\r\n       <use x=\"258.251953\" xlink:href=\"#DejaVuSans-32\"/>\r\n       <use x=\"321.875\" xlink:href=\"#DejaVuSans-31\"/>\r\n      </g>\r\n     </g>\r\n    </g>\r\n    <g id=\"xtick_7\">\r\n     <g id=\"line2d_7\">\r\n      <g>\r\n       <use style=\"stroke:#000000;stroke-width:0.8;\" x=\"257.27\" xlink:href=\"#mf4100d827e\" y=\"224.64\"/>\r\n      </g>\r\n     </g>\r\n     <g id=\"text_7\">\r\n      <!-- 4/19/21 -->\r\n      <g transform=\"translate(260.029375 270.19)rotate(-90)scale(0.1 -0.1)\">\r\n       <defs>\r\n        <path d=\"M 703 97 \r\nL 703 672 \r\nQ 941 559 1184 500 \r\nQ 1428 441 1663 441 \r\nQ 2288 441 2617 861 \r\nQ 2947 1281 2994 2138 \r\nQ 2813 1869 2534 1725 \r\nQ 2256 1581 1919 1581 \r\nQ 1219 1581 811 2004 \r\nQ 403 2428 403 3163 \r\nQ 403 3881 828 4315 \r\nQ 1253 4750 1959 4750 \r\nQ 2769 4750 3195 4129 \r\nQ 3622 3509 3622 2328 \r\nQ 3622 1225 3098 567 \r\nQ 2575 -91 1691 -91 \r\nQ 1453 -91 1209 -44 \r\nQ 966 3 703 97 \r\nz\r\nM 1959 2075 \r\nQ 2384 2075 2632 2365 \r\nQ 2881 2656 2881 3163 \r\nQ 2881 3666 2632 3958 \r\nQ 2384 4250 1959 4250 \r\nQ 1534 4250 1286 3958 \r\nQ 1038 3666 1038 3163 \r\nQ 1038 2656 1286 2365 \r\nQ 1534 2075 1959 2075 \r\nz\r\n\" id=\"DejaVuSans-39\" transform=\"scale(0.015625)\"/>\r\n       </defs>\r\n       <use xlink:href=\"#DejaVuSans-34\"/>\r\n       <use x=\"63.623047\" xlink:href=\"#DejaVuSans-2f\"/>\r\n       <use x=\"97.314453\" xlink:href=\"#DejaVuSans-31\"/>\r\n       <use x=\"160.9375\" xlink:href=\"#DejaVuSans-39\"/>\r\n       <use x=\"224.560547\" xlink:href=\"#DejaVuSans-2f\"/>\r\n       <use x=\"258.251953\" xlink:href=\"#DejaVuSans-32\"/>\r\n       <use x=\"321.875\" xlink:href=\"#DejaVuSans-31\"/>\r\n      </g>\r\n     </g>\r\n    </g>\r\n    <g id=\"xtick_8\">\r\n     <g id=\"line2d_8\">\r\n      <g>\r\n       <use style=\"stroke:#000000;stroke-width:0.8;\" x=\"290.75\" xlink:href=\"#mf4100d827e\" y=\"224.64\"/>\r\n      </g>\r\n     </g>\r\n     <g id=\"text_8\">\r\n      <!-- 4/20/21 -->\r\n      <g transform=\"translate(293.509375 270.19)rotate(-90)scale(0.1 -0.1)\">\r\n       <defs>\r\n        <path d=\"M 2034 4250 \r\nQ 1547 4250 1301 3770 \r\nQ 1056 3291 1056 2328 \r\nQ 1056 1369 1301 889 \r\nQ 1547 409 2034 409 \r\nQ 2525 409 2770 889 \r\nQ 3016 1369 3016 2328 \r\nQ 3016 3291 2770 3770 \r\nQ 2525 4250 2034 4250 \r\nz\r\nM 2034 4750 \r\nQ 2819 4750 3233 4129 \r\nQ 3647 3509 3647 2328 \r\nQ 3647 1150 3233 529 \r\nQ 2819 -91 2034 -91 \r\nQ 1250 -91 836 529 \r\nQ 422 1150 422 2328 \r\nQ 422 3509 836 4129 \r\nQ 1250 4750 2034 4750 \r\nz\r\n\" id=\"DejaVuSans-30\" transform=\"scale(0.015625)\"/>\r\n       </defs>\r\n       <use xlink:href=\"#DejaVuSans-34\"/>\r\n       <use x=\"63.623047\" xlink:href=\"#DejaVuSans-2f\"/>\r\n       <use x=\"97.314453\" xlink:href=\"#DejaVuSans-32\"/>\r\n       <use x=\"160.9375\" xlink:href=\"#DejaVuSans-30\"/>\r\n       <use x=\"224.560547\" xlink:href=\"#DejaVuSans-2f\"/>\r\n       <use x=\"258.251953\" xlink:href=\"#DejaVuSans-32\"/>\r\n       <use x=\"321.875\" xlink:href=\"#DejaVuSans-31\"/>\r\n      </g>\r\n     </g>\r\n    </g>\r\n    <g id=\"xtick_9\">\r\n     <g id=\"line2d_9\">\r\n      <g>\r\n       <use style=\"stroke:#000000;stroke-width:0.8;\" x=\"324.23\" xlink:href=\"#mf4100d827e\" y=\"224.64\"/>\r\n      </g>\r\n     </g>\r\n     <g id=\"text_9\">\r\n      <!-- 4/21/21 -->\r\n      <g transform=\"translate(326.989375 270.19)rotate(-90)scale(0.1 -0.1)\">\r\n       <use xlink:href=\"#DejaVuSans-34\"/>\r\n       <use x=\"63.623047\" xlink:href=\"#DejaVuSans-2f\"/>\r\n       <use x=\"97.314453\" xlink:href=\"#DejaVuSans-32\"/>\r\n       <use x=\"160.9375\" xlink:href=\"#DejaVuSans-31\"/>\r\n       <use x=\"224.560547\" xlink:href=\"#DejaVuSans-2f\"/>\r\n       <use x=\"258.251953\" xlink:href=\"#DejaVuSans-32\"/>\r\n       <use x=\"321.875\" xlink:href=\"#DejaVuSans-31\"/>\r\n      </g>\r\n     </g>\r\n    </g>\r\n    <g id=\"xtick_10\">\r\n     <g id=\"line2d_10\">\r\n      <g>\r\n       <use style=\"stroke:#000000;stroke-width:0.8;\" x=\"357.71\" xlink:href=\"#mf4100d827e\" y=\"224.64\"/>\r\n      </g>\r\n     </g>\r\n     <g id=\"text_10\">\r\n      <!-- 4/22/21 -->\r\n      <g transform=\"translate(360.469375 270.19)rotate(-90)scale(0.1 -0.1)\">\r\n       <use xlink:href=\"#DejaVuSans-34\"/>\r\n       <use x=\"63.623047\" xlink:href=\"#DejaVuSans-2f\"/>\r\n       <use x=\"97.314453\" xlink:href=\"#DejaVuSans-32\"/>\r\n       <use x=\"160.9375\" xlink:href=\"#DejaVuSans-32\"/>\r\n       <use x=\"224.560547\" xlink:href=\"#DejaVuSans-2f\"/>\r\n       <use x=\"258.251953\" xlink:href=\"#DejaVuSans-32\"/>\r\n       <use x=\"321.875\" xlink:href=\"#DejaVuSans-31\"/>\r\n      </g>\r\n     </g>\r\n    </g>\r\n    <g id=\"text_11\">\r\n     <!-- Day -->\r\n     <g transform=\"translate(197.176563 281.788438)scale(0.1 -0.1)\">\r\n      <defs>\r\n       <path d=\"M 1259 4147 \r\nL 1259 519 \r\nL 2022 519 \r\nQ 2988 519 3436 956 \r\nQ 3884 1394 3884 2338 \r\nQ 3884 3275 3436 3711 \r\nQ 2988 4147 2022 4147 \r\nL 1259 4147 \r\nz\r\nM 628 4666 \r\nL 1925 4666 \r\nQ 3281 4666 3915 4102 \r\nQ 4550 3538 4550 2338 \r\nQ 4550 1131 3912 565 \r\nQ 3275 0 1925 0 \r\nL 628 0 \r\nL 628 4666 \r\nz\r\n\" id=\"DejaVuSans-44\" transform=\"scale(0.015625)\"/>\r\n       <path d=\"M 2194 1759 \r\nQ 1497 1759 1228 1600 \r\nQ 959 1441 959 1056 \r\nQ 959 750 1161 570 \r\nQ 1363 391 1709 391 \r\nQ 2188 391 2477 730 \r\nQ 2766 1069 2766 1631 \r\nL 2766 1759 \r\nL 2194 1759 \r\nz\r\nM 3341 1997 \r\nL 3341 0 \r\nL 2766 0 \r\nL 2766 531 \r\nQ 2569 213 2275 61 \r\nQ 1981 -91 1556 -91 \r\nQ 1019 -91 701 211 \r\nQ 384 513 384 1019 \r\nQ 384 1609 779 1909 \r\nQ 1175 2209 1959 2209 \r\nL 2766 2209 \r\nL 2766 2266 \r\nQ 2766 2663 2505 2880 \r\nQ 2244 3097 1772 3097 \r\nQ 1472 3097 1187 3025 \r\nQ 903 2953 641 2809 \r\nL 641 3341 \r\nQ 956 3463 1253 3523 \r\nQ 1550 3584 1831 3584 \r\nQ 2591 3584 2966 3190 \r\nQ 3341 2797 3341 1997 \r\nz\r\n\" id=\"DejaVuSans-61\" transform=\"scale(0.015625)\"/>\r\n       <path d=\"M 2059 -325 \r\nQ 1816 -950 1584 -1140 \r\nQ 1353 -1331 966 -1331 \r\nL 506 -1331 \r\nL 506 -850 \r\nL 844 -850 \r\nQ 1081 -850 1212 -737 \r\nQ 1344 -625 1503 -206 \r\nL 1606 56 \r\nL 191 3500 \r\nL 800 3500 \r\nL 1894 763 \r\nL 2988 3500 \r\nL 3597 3500 \r\nL 2059 -325 \r\nz\r\n\" id=\"DejaVuSans-79\" transform=\"scale(0.015625)\"/>\r\n      </defs>\r\n      <use xlink:href=\"#DejaVuSans-44\"/>\r\n      <use x=\"77.001953\" xlink:href=\"#DejaVuSans-61\"/>\r\n      <use x=\"138.28125\" xlink:href=\"#DejaVuSans-79\"/>\r\n     </g>\r\n    </g>\r\n   </g>\r\n   <g id=\"matplotlib.axis_2\">\r\n    <g id=\"ytick_1\">\r\n     <g id=\"line2d_11\">\r\n      <defs>\r\n       <path d=\"M 0 0 \r\nL -3.5 0 \r\n\" id=\"mdc5fe8d271\" style=\"stroke:#000000;stroke-width:0.8;\"/>\r\n      </defs>\r\n      <g>\r\n       <use style=\"stroke:#000000;stroke-width:0.8;\" x=\"39.65\" xlink:href=\"#mdc5fe8d271\" y=\"224.64\"/>\r\n      </g>\r\n     </g>\r\n     <g id=\"text_12\">\r\n      <!-- 0 -->\r\n      <g transform=\"translate(26.2875 228.439219)scale(0.1 -0.1)\">\r\n       <use xlink:href=\"#DejaVuSans-30\"/>\r\n      </g>\r\n     </g>\r\n    </g>\r\n    <g id=\"ytick_2\">\r\n     <g id=\"line2d_12\">\r\n      <g>\r\n       <use style=\"stroke:#000000;stroke-width:0.8;\" x=\"39.65\" xlink:href=\"#mdc5fe8d271\" y=\"199.360982\"/>\r\n      </g>\r\n     </g>\r\n     <g id=\"text_13\">\r\n      <!-- 250 -->\r\n      <g transform=\"translate(13.5625 203.160201)scale(0.1 -0.1)\">\r\n       <use xlink:href=\"#DejaVuSans-32\"/>\r\n       <use x=\"63.623047\" xlink:href=\"#DejaVuSans-35\"/>\r\n       <use x=\"127.246094\" xlink:href=\"#DejaVuSans-30\"/>\r\n      </g>\r\n     </g>\r\n    </g>\r\n    <g id=\"ytick_3\">\r\n     <g id=\"line2d_13\">\r\n      <g>\r\n       <use style=\"stroke:#000000;stroke-width:0.8;\" x=\"39.65\" xlink:href=\"#mdc5fe8d271\" y=\"174.081964\"/>\r\n      </g>\r\n     </g>\r\n     <g id=\"text_14\">\r\n      <!-- 500 -->\r\n      <g transform=\"translate(13.5625 177.881183)scale(0.1 -0.1)\">\r\n       <use xlink:href=\"#DejaVuSans-35\"/>\r\n       <use x=\"63.623047\" xlink:href=\"#DejaVuSans-30\"/>\r\n       <use x=\"127.246094\" xlink:href=\"#DejaVuSans-30\"/>\r\n      </g>\r\n     </g>\r\n    </g>\r\n    <g id=\"ytick_4\">\r\n     <g id=\"line2d_14\">\r\n      <g>\r\n       <use style=\"stroke:#000000;stroke-width:0.8;\" x=\"39.65\" xlink:href=\"#mdc5fe8d271\" y=\"148.802946\"/>\r\n      </g>\r\n     </g>\r\n     <g id=\"text_15\">\r\n      <!-- 750 -->\r\n      <g transform=\"translate(13.5625 152.602165)scale(0.1 -0.1)\">\r\n       <use xlink:href=\"#DejaVuSans-37\"/>\r\n       <use x=\"63.623047\" xlink:href=\"#DejaVuSans-35\"/>\r\n       <use x=\"127.246094\" xlink:href=\"#DejaVuSans-30\"/>\r\n      </g>\r\n     </g>\r\n    </g>\r\n    <g id=\"ytick_5\">\r\n     <g id=\"line2d_15\">\r\n      <g>\r\n       <use style=\"stroke:#000000;stroke-width:0.8;\" x=\"39.65\" xlink:href=\"#mdc5fe8d271\" y=\"123.523929\"/>\r\n      </g>\r\n     </g>\r\n     <g id=\"text_16\">\r\n      <!-- 1000 -->\r\n      <g transform=\"translate(7.2 127.323147)scale(0.1 -0.1)\">\r\n       <use xlink:href=\"#DejaVuSans-31\"/>\r\n       <use x=\"63.623047\" xlink:href=\"#DejaVuSans-30\"/>\r\n       <use x=\"127.246094\" xlink:href=\"#DejaVuSans-30\"/>\r\n       <use x=\"190.869141\" xlink:href=\"#DejaVuSans-30\"/>\r\n      </g>\r\n     </g>\r\n    </g>\r\n    <g id=\"ytick_6\">\r\n     <g id=\"line2d_16\">\r\n      <g>\r\n       <use style=\"stroke:#000000;stroke-width:0.8;\" x=\"39.65\" xlink:href=\"#mdc5fe8d271\" y=\"98.244911\"/>\r\n      </g>\r\n     </g>\r\n     <g id=\"text_17\">\r\n      <!-- 1250 -->\r\n      <g transform=\"translate(7.2 102.044129)scale(0.1 -0.1)\">\r\n       <use xlink:href=\"#DejaVuSans-31\"/>\r\n       <use x=\"63.623047\" xlink:href=\"#DejaVuSans-32\"/>\r\n       <use x=\"127.246094\" xlink:href=\"#DejaVuSans-35\"/>\r\n       <use x=\"190.869141\" xlink:href=\"#DejaVuSans-30\"/>\r\n      </g>\r\n     </g>\r\n    </g>\r\n    <g id=\"ytick_7\">\r\n     <g id=\"line2d_17\">\r\n      <g>\r\n       <use style=\"stroke:#000000;stroke-width:0.8;\" x=\"39.65\" xlink:href=\"#mdc5fe8d271\" y=\"72.965893\"/>\r\n      </g>\r\n     </g>\r\n     <g id=\"text_18\">\r\n      <!-- 1500 -->\r\n      <g transform=\"translate(7.2 76.765112)scale(0.1 -0.1)\">\r\n       <use xlink:href=\"#DejaVuSans-31\"/>\r\n       <use x=\"63.623047\" xlink:href=\"#DejaVuSans-35\"/>\r\n       <use x=\"127.246094\" xlink:href=\"#DejaVuSans-30\"/>\r\n       <use x=\"190.869141\" xlink:href=\"#DejaVuSans-30\"/>\r\n      </g>\r\n     </g>\r\n    </g>\r\n    <g id=\"ytick_8\">\r\n     <g id=\"line2d_18\">\r\n      <g>\r\n       <use style=\"stroke:#000000;stroke-width:0.8;\" x=\"39.65\" xlink:href=\"#mdc5fe8d271\" y=\"47.686875\"/>\r\n      </g>\r\n     </g>\r\n     <g id=\"text_19\">\r\n      <!-- 1750 -->\r\n      <g transform=\"translate(7.2 51.486094)scale(0.1 -0.1)\">\r\n       <use xlink:href=\"#DejaVuSans-31\"/>\r\n       <use x=\"63.623047\" xlink:href=\"#DejaVuSans-37\"/>\r\n       <use x=\"127.246094\" xlink:href=\"#DejaVuSans-35\"/>\r\n       <use x=\"190.869141\" xlink:href=\"#DejaVuSans-30\"/>\r\n      </g>\r\n     </g>\r\n    </g>\r\n    <g id=\"ytick_9\">\r\n     <g id=\"line2d_19\">\r\n      <g>\r\n       <use style=\"stroke:#000000;stroke-width:0.8;\" x=\"39.65\" xlink:href=\"#mdc5fe8d271\" y=\"22.407857\"/>\r\n      </g>\r\n     </g>\r\n     <g id=\"text_20\">\r\n      <!-- 2000 -->\r\n      <g transform=\"translate(7.2 26.207076)scale(0.1 -0.1)\">\r\n       <use xlink:href=\"#DejaVuSans-32\"/>\r\n       <use x=\"63.623047\" xlink:href=\"#DejaVuSans-30\"/>\r\n       <use x=\"127.246094\" xlink:href=\"#DejaVuSans-30\"/>\r\n       <use x=\"190.869141\" xlink:href=\"#DejaVuSans-30\"/>\r\n      </g>\r\n     </g>\r\n    </g>\r\n   </g>\r\n   <g id=\"patch_13\">\r\n    <path d=\"M 39.65 224.64 \r\nL 39.65 7.2 \r\n\" style=\"fill:none;stroke:#000000;stroke-linecap:square;stroke-linejoin:miter;stroke-width:0.8;\"/>\r\n   </g>\r\n   <g id=\"patch_14\">\r\n    <path d=\"M 374.45 224.64 \r\nL 374.45 7.2 \r\n\" style=\"fill:none;stroke:#000000;stroke-linecap:square;stroke-linejoin:miter;stroke-width:0.8;\"/>\r\n   </g>\r\n   <g id=\"patch_15\">\r\n    <path d=\"M 39.65 224.64 \r\nL 374.45 224.64 \r\n\" style=\"fill:none;stroke:#000000;stroke-linecap:square;stroke-linejoin:miter;stroke-width:0.8;\"/>\r\n   </g>\r\n   <g id=\"patch_16\">\r\n    <path d=\"M 39.65 7.2 \r\nL 374.45 7.2 \r\n\" style=\"fill:none;stroke:#000000;stroke-linecap:square;stroke-linejoin:miter;stroke-width:0.8;\"/>\r\n   </g>\r\n   <g id=\"legend_1\">\r\n    <g id=\"patch_17\">\r\n     <path d=\"M 280.776563 29.878125 \r\nL 367.45 29.878125 \r\nQ 369.45 29.878125 369.45 27.878125 \r\nL 369.45 14.2 \r\nQ 369.45 12.2 367.45 12.2 \r\nL 280.776563 12.2 \r\nQ 278.776563 12.2 278.776563 14.2 \r\nL 278.776563 27.878125 \r\nQ 278.776563 29.878125 280.776563 29.878125 \r\nz\r\n\" style=\"fill:#ffffff;opacity:0.8;stroke:#cccccc;stroke-linejoin:miter;\"/>\r\n    </g>\r\n    <g id=\"patch_18\">\r\n     <path d=\"M 282.776563 23.798437 \r\nL 302.776563 23.798437 \r\nL 302.776563 16.798437 \r\nL 282.776563 16.798437 \r\nz\r\n\" style=\"fill:#1f77b4;\"/>\r\n    </g>\r\n    <g id=\"text_21\">\r\n     <!-- New Cases -->\r\n     <g transform=\"translate(310.776563 23.798437)scale(0.1 -0.1)\">\r\n      <defs>\r\n       <path d=\"M 628 4666 \r\nL 1478 4666 \r\nL 3547 763 \r\nL 3547 4666 \r\nL 4159 4666 \r\nL 4159 0 \r\nL 3309 0 \r\nL 1241 3903 \r\nL 1241 0 \r\nL 628 0 \r\nL 628 4666 \r\nz\r\n\" id=\"DejaVuSans-4e\" transform=\"scale(0.015625)\"/>\r\n       <path d=\"M 3597 1894 \r\nL 3597 1613 \r\nL 953 1613 \r\nQ 991 1019 1311 708 \r\nQ 1631 397 2203 397 \r\nQ 2534 397 2845 478 \r\nQ 3156 559 3463 722 \r\nL 3463 178 \r\nQ 3153 47 2828 -22 \r\nQ 2503 -91 2169 -91 \r\nQ 1331 -91 842 396 \r\nQ 353 884 353 1716 \r\nQ 353 2575 817 3079 \r\nQ 1281 3584 2069 3584 \r\nQ 2775 3584 3186 3129 \r\nQ 3597 2675 3597 1894 \r\nz\r\nM 3022 2063 \r\nQ 3016 2534 2758 2815 \r\nQ 2500 3097 2075 3097 \r\nQ 1594 3097 1305 2825 \r\nQ 1016 2553 972 2059 \r\nL 3022 2063 \r\nz\r\n\" id=\"DejaVuSans-65\" transform=\"scale(0.015625)\"/>\r\n       <path d=\"M 269 3500 \r\nL 844 3500 \r\nL 1563 769 \r\nL 2278 3500 \r\nL 2956 3500 \r\nL 3675 769 \r\nL 4391 3500 \r\nL 4966 3500 \r\nL 4050 0 \r\nL 3372 0 \r\nL 2619 2869 \r\nL 1863 0 \r\nL 1184 0 \r\nL 269 3500 \r\nz\r\n\" id=\"DejaVuSans-77\" transform=\"scale(0.015625)\"/>\r\n       <path id=\"DejaVuSans-20\" transform=\"scale(0.015625)\"/>\r\n       <path d=\"M 4122 4306 \r\nL 4122 3641 \r\nQ 3803 3938 3442 4084 \r\nQ 3081 4231 2675 4231 \r\nQ 1875 4231 1450 3742 \r\nQ 1025 3253 1025 2328 \r\nQ 1025 1406 1450 917 \r\nQ 1875 428 2675 428 \r\nQ 3081 428 3442 575 \r\nQ 3803 722 4122 1019 \r\nL 4122 359 \r\nQ 3791 134 3420 21 \r\nQ 3050 -91 2638 -91 \r\nQ 1578 -91 968 557 \r\nQ 359 1206 359 2328 \r\nQ 359 3453 968 4101 \r\nQ 1578 4750 2638 4750 \r\nQ 3056 4750 3426 4639 \r\nQ 3797 4528 4122 4306 \r\nz\r\n\" id=\"DejaVuSans-43\" transform=\"scale(0.015625)\"/>\r\n       <path d=\"M 2834 3397 \r\nL 2834 2853 \r\nQ 2591 2978 2328 3040 \r\nQ 2066 3103 1784 3103 \r\nQ 1356 3103 1142 2972 \r\nQ 928 2841 928 2578 \r\nQ 928 2378 1081 2264 \r\nQ 1234 2150 1697 2047 \r\nL 1894 2003 \r\nQ 2506 1872 2764 1633 \r\nQ 3022 1394 3022 966 \r\nQ 3022 478 2636 193 \r\nQ 2250 -91 1575 -91 \r\nQ 1294 -91 989 -36 \r\nQ 684 19 347 128 \r\nL 347 722 \r\nQ 666 556 975 473 \r\nQ 1284 391 1588 391 \r\nQ 1994 391 2212 530 \r\nQ 2431 669 2431 922 \r\nQ 2431 1156 2273 1281 \r\nQ 2116 1406 1581 1522 \r\nL 1381 1569 \r\nQ 847 1681 609 1914 \r\nQ 372 2147 372 2553 \r\nQ 372 3047 722 3315 \r\nQ 1072 3584 1716 3584 \r\nQ 2034 3584 2315 3537 \r\nQ 2597 3491 2834 3397 \r\nz\r\n\" id=\"DejaVuSans-73\" transform=\"scale(0.015625)\"/>\r\n      </defs>\r\n      <use xlink:href=\"#DejaVuSans-4e\"/>\r\n      <use x=\"74.804688\" xlink:href=\"#DejaVuSans-65\"/>\r\n      <use x=\"136.328125\" xlink:href=\"#DejaVuSans-77\"/>\r\n      <use x=\"218.115234\" xlink:href=\"#DejaVuSans-20\"/>\r\n      <use x=\"249.902344\" xlink:href=\"#DejaVuSans-43\"/>\r\n      <use x=\"319.726562\" xlink:href=\"#DejaVuSans-61\"/>\r\n      <use x=\"381.005859\" xlink:href=\"#DejaVuSans-73\"/>\r\n      <use x=\"433.105469\" xlink:href=\"#DejaVuSans-65\"/>\r\n      <use x=\"494.628906\" xlink:href=\"#DejaVuSans-73\"/>\r\n     </g>\r\n    </g>\r\n   </g>\r\n  </g>\r\n </g>\r\n <defs>\r\n  <clipPath id=\"p5deb9bb70d\">\r\n   <rect height=\"217.44\" width=\"334.8\" x=\"39.65\" y=\"7.2\"/>\r\n  </clipPath>\r\n </defs>\r\n</svg>\r\n",
      "image/png": "[encoded data removed]"
     },
     "metadata": {
      "needs_background": "light"
     }
    }
   ],
   "source": [
    "df.plot(\"Day\",\"New Cases\",kind='bar')"
   ]
  },
  {
   "source": [
    "## 4. Which Virginia county reported the highest number of total cases?"
   ],
   "cell_type": "markdown",
   "metadata": {}
  },
  {
   "source": [
    "Lets create a data frame, with county name and the last day reported cases:"
   ],
   "cell_type": "markdown",
   "metadata": {}
  },
  {
   "cell_type": "code",
   "execution_count": 17,
   "metadata": {},
   "outputs": [
    {
     "output_type": "execute_result",
     "data": {
      "text/plain": [
       "            County  Total cases\n",
       "3010      Accomack         2777\n",
       "3011     Albemarle         5635\n",
       "3012    Alexandria        11522\n",
       "3013     Alleghany         1302\n",
       "3014        Amelia          859\n",
       "...            ...          ...\n",
       "3140  Williamsburg          748\n",
       "3141    Winchester         2793\n",
       "3142          Wise         3078\n",
       "3143         Wythe         2536\n",
       "3144          York         3632\n",
       "\n",
       "[135 rows x 2 columns]"
      ],
      "text/html": "<div>\n<style scoped>\n    .dataframe tbody tr th:only-of-type {\n        vertical-align: middle;\n    }\n\n    .dataframe tbody tr th {\n        vertical-align: top;\n    }\n\n    .dataframe thead th {\n        text-align: right;\n    }\n</style>\n<table border=\"1\" class=\"dataframe\">\n  <thead>\n    <tr style=\"text-align: right;\">\n      <th></th>\n      <th>County</th>\n      <th>Total cases</th>\n    </tr>\n  </thead>\n  <tbody>\n    <tr>\n      <th>3010</th>\n      <td>Accomack</td>\n      <td>2777</td>\n    </tr>\n    <tr>\n      <th>3011</th>\n      <td>Albemarle</td>\n      <td>5635</td>\n    </tr>\n    <tr>\n      <th>3012</th>\n      <td>Alexandria</td>\n      <td>11522</td>\n    </tr>\n    <tr>\n      <th>3013</th>\n      <td>Alleghany</td>\n      <td>1302</td>\n    </tr>\n    <tr>\n      <th>3014</th>\n      <td>Amelia</td>\n      <td>859</td>\n    </tr>\n    <tr>\n      <th>...</th>\n      <td>...</td>\n      <td>...</td>\n    </tr>\n    <tr>\n      <th>3140</th>\n      <td>Williamsburg</td>\n      <td>748</td>\n    </tr>\n    <tr>\n      <th>3141</th>\n      <td>Winchester</td>\n      <td>2793</td>\n    </tr>\n    <tr>\n      <th>3142</th>\n      <td>Wise</td>\n      <td>3078</td>\n    </tr>\n    <tr>\n      <th>3143</th>\n      <td>Wythe</td>\n      <td>2536</td>\n    </tr>\n    <tr>\n      <th>3144</th>\n      <td>York</td>\n      <td>3632</td>\n    </tr>\n  </tbody>\n</table>\n<p>135 rows × 2 columns</p>\n</div>"
     },
     "metadata": {},
     "execution_count": 17
    }
   ],
   "source": [
    "df = pd.DataFrame({\n",
    "    \"County\": covid_virginia[\"Admin2\"],\n",
    "    \"Total cases\": covid_virginia[covid_virginia.columns[-1]]\n",
    "})\n",
    "df"
   ]
  },
  {
   "source": [
    "Then, get the max value, and from there get the name of the county"
   ],
   "cell_type": "markdown",
   "metadata": {}
  },
  {
   "cell_type": "code",
   "execution_count": 18,
   "metadata": {},
   "outputs": [
    {
     "output_type": "execute_result",
     "data": {
      "text/plain": [
       "       County  Total cases\n",
       "3047  Fairfax        74988"
      ],
      "text/html": "<div>\n<style scoped>\n    .dataframe tbody tr th:only-of-type {\n        vertical-align: middle;\n    }\n\n    .dataframe tbody tr th {\n        vertical-align: top;\n    }\n\n    .dataframe thead th {\n        text-align: right;\n    }\n</style>\n<table border=\"1\" class=\"dataframe\">\n  <thead>\n    <tr style=\"text-align: right;\">\n      <th></th>\n      <th>County</th>\n      <th>Total cases</th>\n    </tr>\n  </thead>\n  <tbody>\n    <tr>\n      <th>3047</th>\n      <td>Fairfax</td>\n      <td>74988</td>\n    </tr>\n  </tbody>\n</table>\n</div>"
     },
     "metadata": {},
     "execution_count": 18
    }
   ],
   "source": [
    "df.loc[df['Total cases'] == max(df[\"Total cases\"])]\n"
   ]
  },
  {
   "source": [
    "## 5a. Which Virginia county reported the highest number of new COVID-19 cases in a day? When did this occur?\n",
    "\n",
    "Same logic that question 3, first, lets find the total number of days reported\n",
    "\n"
   ],
   "cell_type": "markdown",
   "metadata": {}
  },
  {
   "cell_type": "code",
   "execution_count": 19,
   "metadata": {},
   "outputs": [
    {
     "output_type": "execute_result",
     "data": {
      "text/plain": [
       "457"
      ]
     },
     "metadata": {},
     "execution_count": 19
    }
   ],
   "source": [
    "columns = covid_virginia.columns\n",
    "days = 0\n",
    "for colum_name in columns:\n",
    "    days = days + (1 if '/' in colum_name else 0)\n",
    "days"
   ]
  },
  {
   "source": [
    "Next we will build a helper function to get the county name, maximun cases per day and date"
   ],
   "cell_type": "markdown",
   "metadata": {}
  },
  {
   "source": [
    "def get_top_new_cases(row, days):\n",
    "    total_cases_arr = row[-days:]\n",
    "    county_name = row[\"Admin2\"]\n",
    "    prev_cases = 0\n",
    "    max_cases = 0\n",
    "    max_index = 0\n",
    "    for i, cases in enumerate(total_cases_arr):\n",
    "        new_cases = cases-prev_cases\n",
    "        if new_cases > max_cases:\n",
    "            max_cases = new_cases\n",
    "            max_index = i\n",
    "        prev_cases=cases\n",
    "    return [county_name, max_cases, max_index]  "
   ],
   "cell_type": "code",
   "metadata": {
    "tags": []
   },
   "execution_count": 20,
   "outputs": []
  },
  {
   "source": [
    "Then, apply the function on every county"
   ],
   "cell_type": "markdown",
   "metadata": {}
  },
  {
   "cell_type": "code",
   "execution_count": 21,
   "metadata": {},
   "outputs": [
    {
     "output_type": "execute_result",
     "data": {
      "text/plain": [
       "['Fairfax', 1485, 361]"
      ]
     },
     "metadata": {},
     "execution_count": 21
    }
   ],
   "source": [
    "top_county = ['', 0, 0]\n",
    "for i, county in covid_virginia.iterrows():\n",
    "    county_max_new_cases = get_top_new_cases(county, days)\n",
    "    if county_max_new_cases[1] > top_county[1]:\n",
    "        top_county = county_max_new_cases\n",
    "    \n",
    "top_county"
   ]
  },
  {
   "source": [
    "Finally, to get the date, lets use the covid_virginia dataframe like this"
   ],
   "cell_type": "markdown",
   "metadata": {}
  },
  {
   "cell_type": "code",
   "execution_count": 22,
   "metadata": {},
   "outputs": [
    {
     "output_type": "execute_result",
     "data": {
      "text/plain": [
       "'1/17/21'"
      ]
     },
     "metadata": {},
     "execution_count": 22
    }
   ],
   "source": [
    "dates = covid_virginia.columns[-days:]\n",
    "target_day = dates[top_county[2]]\n",
    "target_day"
   ]
  },
  {
   "source": [
    "## 5b. When did Fairfax report the highest number of COVID-19 cases in a day? "
   ],
   "cell_type": "markdown",
   "metadata": {}
  },
  {
   "cell_type": "code",
   "execution_count": 23,
   "metadata": {},
   "outputs": [
    {
     "output_type": "stream",
     "name": "stdout",
     "text": [
      "['Fairfax', 1485, 361]\ndate: 1/17/21\n"
     ]
    }
   ],
   "source": [
    "fairfax_va_county = covid_virginia[covid_virginia.Admin2 == 'Fairfax'] #get data about Fairfax\n",
    "days_recorded = [ column_name for column_name in fairfax_va_county.columns if '/' in column_name]\n",
    "nr_of_days = len(days_recorded)\n",
    "max_cases_resported = get_top_new_cases(fairfax_va_county.squeeze(), nr_of_days)\n",
    "print(max_cases_resported)\n",
    "print('date:', days_recorded[max_cases_resported[2]] )\n"
   ]
  },
  {
   "source": [
    "## 6. Find the total number and average number of new cases per day reported in March 2021 for Fairfax, Virginia.\n"
   ],
   "cell_type": "markdown",
   "metadata": {}
  },
  {
   "cell_type": "code",
   "execution_count": 24,
   "metadata": {},
   "outputs": [
    {
     "output_type": "stream",
     "name": "stdout",
     "text": [
      "Total new cases in march 4708\n"
     ]
    }
   ],
   "source": [
    "import re\n",
    "regex = re.compile('3/\\w+/21')\n",
    "march_days =  [ column_name for column_name in fairfax_va_county.columns if re.match(regex, column_name)]\n",
    "data = fairfax_va_county.squeeze()\n",
    "print('Total new cases in march', data[march_days[-1]] - data[march_days[0]])\n"
   ]
  },
  {
   "cell_type": "code",
   "execution_count": 25,
   "metadata": {},
   "outputs": [
    {
     "output_type": "stream",
     "name": "stdout",
     "text": [
      "Average new cases in March 156.06451612903226\n"
     ]
    }
   ],
   "source": [
    "def new_cases_per_day(row, days, prev=0):\n",
    "    result = []\n",
    "    for day in days:\n",
    "        result.append(row[day] - prev)\n",
    "        prev = row[day]\n",
    "    return result\n",
    "\n",
    "march_new_cases = new_cases_per_day(data, march_days, prev=data['2/28/21'])\n",
    "print('Average new cases in March', sum(march_new_cases)/len(march_days))\n"
   ]
  },
  {
   "source": [
    "## 7. Provide one figure with one subplot that shows two plotted lines, where each line represents the total number of cases over time (from the earliest to the most recent date) for Fairfax and Arlington."
   ],
   "cell_type": "markdown",
   "metadata": {}
  },
  {
   "cell_type": "code",
   "execution_count": 26,
   "metadata": {},
   "outputs": [
    {
     "output_type": "display_data",
     "data": {
      "text/plain": "<Figure size 432x288 with 1 Axes>",
      "image/svg+xml": "<?xml version=\"1.0\" encoding=\"utf-8\" standalone=\"no\"?>\r\n<!DOCTYPE svg PUBLIC \"-//W3C//DTD SVG 1.1//EN\"\r\n  \"http://www.w3.org/Graphics/SVG/1.1/DTD/svg11.dtd\">\r\n<svg height=\"248.518125pt\" version=\"1.1\" viewBox=\"0 0 388.0125 248.518125\" width=\"388.0125pt\" xmlns=\"http://www.w3.org/2000/svg\" xmlns:xlink=\"http://www.w3.org/1999/xlink\">\r\n <metadata>\r\n  <rdf:RDF xmlns:cc=\"http://creativecommons.org/ns#\" xmlns:dc=\"http://purl.org/dc/elements/1.1/\" xmlns:rdf=\"http://www.w3.org/1999/02/22-rdf-syntax-ns#\">\r\n   <cc:Work>\r\n    <dc:type rdf:resource=\"http://purl.org/dc/dcmitype/StillImage\"/>\r\n    <dc:date>2021-04-26T17:31:20.487821</dc:date>\r\n    <dc:format>image/svg+xml</dc:format>\r\n    <dc:creator>\r\n     <cc:Agent>\r\n      <dc:title>Matplotlib v3.4.1, https://matplotlib.org/</dc:title>\r\n     </cc:Agent>\r\n    </dc:creator>\r\n   </cc:Work>\r\n  </rdf:RDF>\r\n </metadata>\r\n <defs>\r\n  <style type=\"text/css\">*{stroke-linecap:butt;stroke-linejoin:round;}</style>\r\n </defs>\r\n <g id=\"figure_1\">\r\n  <g id=\"patch_1\">\r\n   <path d=\"M 0 248.518125 \r\nL 388.0125 248.518125 \r\nL 388.0125 0 \r\nL 0 0 \r\nz\r\n\" style=\"fill:none;\"/>\r\n  </g>\r\n  <g id=\"axes_1\">\r\n   <g id=\"patch_2\">\r\n    <path d=\"M 46.0125 224.64 \r\nL 380.8125 224.64 \r\nL 380.8125 7.2 \r\nL 46.0125 7.2 \r\nz\r\n\" style=\"fill:#ffffff;\"/>\r\n   </g>\r\n   <g id=\"matplotlib.axis_1\">\r\n    <g id=\"xtick_1\">\r\n     <g id=\"line2d_1\">\r\n      <defs>\r\n       <path d=\"M 0 0 \r\nL 0 3.5 \r\n\" id=\"m76e5845d59\" style=\"stroke:#000000;stroke-width:0.8;\"/>\r\n      </defs>\r\n      <g>\r\n       <use style=\"stroke:#000000;stroke-width:0.8;\" x=\"61.230682\" xlink:href=\"#m76e5845d59\" y=\"224.64\"/>\r\n      </g>\r\n     </g>\r\n     <g id=\"text_1\">\r\n      <!-- 1/22/20 -->\r\n      <g transform=\"translate(41.955682 239.238438)scale(0.1 -0.1)\">\r\n       <defs>\r\n        <path d=\"M 794 531 \r\nL 1825 531 \r\nL 1825 4091 \r\nL 703 3866 \r\nL 703 4441 \r\nL 1819 4666 \r\nL 2450 4666 \r\nL 2450 531 \r\nL 3481 531 \r\nL 3481 0 \r\nL 794 0 \r\nL 794 531 \r\nz\r\n\" id=\"DejaVuSans-31\" transform=\"scale(0.015625)\"/>\r\n        <path d=\"M 1625 4666 \r\nL 2156 4666 \r\nL 531 -594 \r\nL 0 -594 \r\nL 1625 4666 \r\nz\r\n\" id=\"DejaVuSans-2f\" transform=\"scale(0.015625)\"/>\r\n        <path d=\"M 1228 531 \r\nL 3431 531 \r\nL 3431 0 \r\nL 469 0 \r\nL 469 531 \r\nQ 828 903 1448 1529 \r\nQ 2069 2156 2228 2338 \r\nQ 2531 2678 2651 2914 \r\nQ 2772 3150 2772 3378 \r\nQ 2772 3750 2511 3984 \r\nQ 2250 4219 1831 4219 \r\nQ 1534 4219 1204 4116 \r\nQ 875 4013 500 3803 \r\nL 500 4441 \r\nQ 881 4594 1212 4672 \r\nQ 1544 4750 1819 4750 \r\nQ 2544 4750 2975 4387 \r\nQ 3406 4025 3406 3419 \r\nQ 3406 3131 3298 2873 \r\nQ 3191 2616 2906 2266 \r\nQ 2828 2175 2409 1742 \r\nQ 1991 1309 1228 531 \r\nz\r\n\" id=\"DejaVuSans-32\" transform=\"scale(0.015625)\"/>\r\n        <path d=\"M 2034 4250 \r\nQ 1547 4250 1301 3770 \r\nQ 1056 3291 1056 2328 \r\nQ 1056 1369 1301 889 \r\nQ 1547 409 2034 409 \r\nQ 2525 409 2770 889 \r\nQ 3016 1369 3016 2328 \r\nQ 3016 3291 2770 3770 \r\nQ 2525 4250 2034 4250 \r\nz\r\nM 2034 4750 \r\nQ 2819 4750 3233 4129 \r\nQ 3647 3509 3647 2328 \r\nQ 3647 1150 3233 529 \r\nQ 2819 -91 2034 -91 \r\nQ 1250 -91 836 529 \r\nQ 422 1150 422 2328 \r\nQ 422 3509 836 4129 \r\nQ 1250 4750 2034 4750 \r\nz\r\n\" id=\"DejaVuSans-30\" transform=\"scale(0.015625)\"/>\r\n       </defs>\r\n       <use xlink:href=\"#DejaVuSans-31\"/>\r\n       <use x=\"63.623047\" xlink:href=\"#DejaVuSans-2f\"/>\r\n       <use x=\"97.314453\" xlink:href=\"#DejaVuSans-32\"/>\r\n       <use x=\"160.9375\" xlink:href=\"#DejaVuSans-32\"/>\r\n       <use x=\"224.560547\" xlink:href=\"#DejaVuSans-2f\"/>\r\n       <use x=\"258.251953\" xlink:href=\"#DejaVuSans-32\"/>\r\n       <use x=\"321.875\" xlink:href=\"#DejaVuSans-30\"/>\r\n      </g>\r\n     </g>\r\n    </g>\r\n    <g id=\"xtick_2\">\r\n     <g id=\"line2d_2\">\r\n      <g>\r\n       <use style=\"stroke:#000000;stroke-width:0.8;\" x=\"127.977093\" xlink:href=\"#m76e5845d59\" y=\"224.64\"/>\r\n      </g>\r\n     </g>\r\n     <g id=\"text_2\">\r\n      <!-- 5/1/20 -->\r\n      <g transform=\"translate(111.883343 239.238438)scale(0.1 -0.1)\">\r\n       <defs>\r\n        <path d=\"M 691 4666 \r\nL 3169 4666 \r\nL 3169 4134 \r\nL 1269 4134 \r\nL 1269 2991 \r\nQ 1406 3038 1543 3061 \r\nQ 1681 3084 1819 3084 \r\nQ 2600 3084 3056 2656 \r\nQ 3513 2228 3513 1497 \r\nQ 3513 744 3044 326 \r\nQ 2575 -91 1722 -91 \r\nQ 1428 -91 1123 -41 \r\nQ 819 9 494 109 \r\nL 494 744 \r\nQ 775 591 1075 516 \r\nQ 1375 441 1709 441 \r\nQ 2250 441 2565 725 \r\nQ 2881 1009 2881 1497 \r\nQ 2881 1984 2565 2268 \r\nQ 2250 2553 1709 2553 \r\nQ 1456 2553 1204 2497 \r\nQ 953 2441 691 2322 \r\nL 691 4666 \r\nz\r\n\" id=\"DejaVuSans-35\" transform=\"scale(0.015625)\"/>\r\n       </defs>\r\n       <use xlink:href=\"#DejaVuSans-35\"/>\r\n       <use x=\"63.623047\" xlink:href=\"#DejaVuSans-2f\"/>\r\n       <use x=\"97.314453\" xlink:href=\"#DejaVuSans-31\"/>\r\n       <use x=\"160.9375\" xlink:href=\"#DejaVuSans-2f\"/>\r\n       <use x=\"194.628906\" xlink:href=\"#DejaVuSans-32\"/>\r\n       <use x=\"258.251953\" xlink:href=\"#DejaVuSans-30\"/>\r\n      </g>\r\n     </g>\r\n    </g>\r\n    <g id=\"xtick_3\">\r\n     <g id=\"line2d_3\">\r\n      <g>\r\n       <use style=\"stroke:#000000;stroke-width:0.8;\" x=\"194.723505\" xlink:href=\"#m76e5845d59\" y=\"224.64\"/>\r\n      </g>\r\n     </g>\r\n     <g id=\"text_3\">\r\n      <!-- 8/9/20 -->\r\n      <g transform=\"translate(178.629755 239.238438)scale(0.1 -0.1)\">\r\n       <defs>\r\n        <path d=\"M 2034 2216 \r\nQ 1584 2216 1326 1975 \r\nQ 1069 1734 1069 1313 \r\nQ 1069 891 1326 650 \r\nQ 1584 409 2034 409 \r\nQ 2484 409 2743 651 \r\nQ 3003 894 3003 1313 \r\nQ 3003 1734 2745 1975 \r\nQ 2488 2216 2034 2216 \r\nz\r\nM 1403 2484 \r\nQ 997 2584 770 2862 \r\nQ 544 3141 544 3541 \r\nQ 544 4100 942 4425 \r\nQ 1341 4750 2034 4750 \r\nQ 2731 4750 3128 4425 \r\nQ 3525 4100 3525 3541 \r\nQ 3525 3141 3298 2862 \r\nQ 3072 2584 2669 2484 \r\nQ 3125 2378 3379 2068 \r\nQ 3634 1759 3634 1313 \r\nQ 3634 634 3220 271 \r\nQ 2806 -91 2034 -91 \r\nQ 1263 -91 848 271 \r\nQ 434 634 434 1313 \r\nQ 434 1759 690 2068 \r\nQ 947 2378 1403 2484 \r\nz\r\nM 1172 3481 \r\nQ 1172 3119 1398 2916 \r\nQ 1625 2713 2034 2713 \r\nQ 2441 2713 2670 2916 \r\nQ 2900 3119 2900 3481 \r\nQ 2900 3844 2670 4047 \r\nQ 2441 4250 2034 4250 \r\nQ 1625 4250 1398 4047 \r\nQ 1172 3844 1172 3481 \r\nz\r\n\" id=\"DejaVuSans-38\" transform=\"scale(0.015625)\"/>\r\n        <path d=\"M 703 97 \r\nL 703 672 \r\nQ 941 559 1184 500 \r\nQ 1428 441 1663 441 \r\nQ 2288 441 2617 861 \r\nQ 2947 1281 2994 2138 \r\nQ 2813 1869 2534 1725 \r\nQ 2256 1581 1919 1581 \r\nQ 1219 1581 811 2004 \r\nQ 403 2428 403 3163 \r\nQ 403 3881 828 4315 \r\nQ 1253 4750 1959 4750 \r\nQ 2769 4750 3195 4129 \r\nQ 3622 3509 3622 2328 \r\nQ 3622 1225 3098 567 \r\nQ 2575 -91 1691 -91 \r\nQ 1453 -91 1209 -44 \r\nQ 966 3 703 97 \r\nz\r\nM 1959 2075 \r\nQ 2384 2075 2632 2365 \r\nQ 2881 2656 2881 3163 \r\nQ 2881 3666 2632 3958 \r\nQ 2384 4250 1959 4250 \r\nQ 1534 4250 1286 3958 \r\nQ 1038 3666 1038 3163 \r\nQ 1038 2656 1286 2365 \r\nQ 1534 2075 1959 2075 \r\nz\r\n\" id=\"DejaVuSans-39\" transform=\"scale(0.015625)\"/>\r\n       </defs>\r\n       <use xlink:href=\"#DejaVuSans-38\"/>\r\n       <use x=\"63.623047\" xlink:href=\"#DejaVuSans-2f\"/>\r\n       <use x=\"97.314453\" xlink:href=\"#DejaVuSans-39\"/>\r\n       <use x=\"160.9375\" xlink:href=\"#DejaVuSans-2f\"/>\r\n       <use x=\"194.628906\" xlink:href=\"#DejaVuSans-32\"/>\r\n       <use x=\"258.251953\" xlink:href=\"#DejaVuSans-30\"/>\r\n      </g>\r\n     </g>\r\n    </g>\r\n    <g id=\"xtick_4\">\r\n     <g id=\"line2d_4\">\r\n      <g>\r\n       <use style=\"stroke:#000000;stroke-width:0.8;\" x=\"261.469916\" xlink:href=\"#m76e5845d59\" y=\"224.64\"/>\r\n      </g>\r\n     </g>\r\n     <g id=\"text_4\">\r\n      <!-- 11/17/20 -->\r\n      <g transform=\"translate(239.013666 239.238438)scale(0.1 -0.1)\">\r\n       <defs>\r\n        <path d=\"M 525 4666 \r\nL 3525 4666 \r\nL 3525 4397 \r\nL 1831 0 \r\nL 1172 0 \r\nL 2766 4134 \r\nL 525 4134 \r\nL 525 4666 \r\nz\r\n\" id=\"DejaVuSans-37\" transform=\"scale(0.015625)\"/>\r\n       </defs>\r\n       <use xlink:href=\"#DejaVuSans-31\"/>\r\n       <use x=\"63.623047\" xlink:href=\"#DejaVuSans-31\"/>\r\n       <use x=\"127.246094\" xlink:href=\"#DejaVuSans-2f\"/>\r\n       <use x=\"160.9375\" xlink:href=\"#DejaVuSans-31\"/>\r\n       <use x=\"224.560547\" xlink:href=\"#DejaVuSans-37\"/>\r\n       <use x=\"288.183594\" xlink:href=\"#DejaVuSans-2f\"/>\r\n       <use x=\"321.875\" xlink:href=\"#DejaVuSans-32\"/>\r\n       <use x=\"385.498047\" xlink:href=\"#DejaVuSans-30\"/>\r\n      </g>\r\n     </g>\r\n    </g>\r\n    <g id=\"xtick_5\">\r\n     <g id=\"line2d_5\">\r\n      <g>\r\n       <use style=\"stroke:#000000;stroke-width:0.8;\" x=\"328.216328\" xlink:href=\"#m76e5845d59\" y=\"224.64\"/>\r\n      </g>\r\n     </g>\r\n     <g id=\"text_5\">\r\n      <!-- 2/25/21 -->\r\n      <g transform=\"translate(308.941328 239.238438)scale(0.1 -0.1)\">\r\n       <use xlink:href=\"#DejaVuSans-32\"/>\r\n       <use x=\"63.623047\" xlink:href=\"#DejaVuSans-2f\"/>\r\n       <use x=\"97.314453\" xlink:href=\"#DejaVuSans-32\"/>\r\n       <use x=\"160.9375\" xlink:href=\"#DejaVuSans-35\"/>\r\n       <use x=\"224.560547\" xlink:href=\"#DejaVuSans-2f\"/>\r\n       <use x=\"258.251953\" xlink:href=\"#DejaVuSans-32\"/>\r\n       <use x=\"321.875\" xlink:href=\"#DejaVuSans-31\"/>\r\n      </g>\r\n     </g>\r\n    </g>\r\n   </g>\r\n   <g id=\"matplotlib.axis_2\">\r\n    <g id=\"ytick_1\">\r\n     <g id=\"line2d_6\">\r\n      <defs>\r\n       <path d=\"M 0 0 \r\nL -3.5 0 \r\n\" id=\"mf9789d7e9e\" style=\"stroke:#000000;stroke-width:0.8;\"/>\r\n      </defs>\r\n      <g>\r\n       <use style=\"stroke:#000000;stroke-width:0.8;\" x=\"46.0125\" xlink:href=\"#mf9789d7e9e\" y=\"214.756364\"/>\r\n      </g>\r\n     </g>\r\n     <g id=\"text_6\">\r\n      <!-- 0 -->\r\n      <g transform=\"translate(32.65 218.555582)scale(0.1 -0.1)\">\r\n       <use xlink:href=\"#DejaVuSans-30\"/>\r\n      </g>\r\n     </g>\r\n    </g>\r\n    <g id=\"ytick_2\">\r\n     <g id=\"line2d_7\">\r\n      <g>\r\n       <use style=\"stroke:#000000;stroke-width:0.8;\" x=\"46.0125\" xlink:href=\"#mf9789d7e9e\" y=\"188.395782\"/>\r\n      </g>\r\n     </g>\r\n     <g id=\"text_7\">\r\n      <!-- 10000 -->\r\n      <g transform=\"translate(7.2 192.195001)scale(0.1 -0.1)\">\r\n       <use xlink:href=\"#DejaVuSans-31\"/>\r\n       <use x=\"63.623047\" xlink:href=\"#DejaVuSans-30\"/>\r\n       <use x=\"127.246094\" xlink:href=\"#DejaVuSans-30\"/>\r\n       <use x=\"190.869141\" xlink:href=\"#DejaVuSans-30\"/>\r\n       <use x=\"254.492188\" xlink:href=\"#DejaVuSans-30\"/>\r\n      </g>\r\n     </g>\r\n    </g>\r\n    <g id=\"ytick_3\">\r\n     <g id=\"line2d_8\">\r\n      <g>\r\n       <use style=\"stroke:#000000;stroke-width:0.8;\" x=\"46.0125\" xlink:href=\"#mf9789d7e9e\" y=\"162.035201\"/>\r\n      </g>\r\n     </g>\r\n     <g id=\"text_8\">\r\n      <!-- 20000 -->\r\n      <g transform=\"translate(7.2 165.83442)scale(0.1 -0.1)\">\r\n       <use xlink:href=\"#DejaVuSans-32\"/>\r\n       <use x=\"63.623047\" xlink:href=\"#DejaVuSans-30\"/>\r\n       <use x=\"127.246094\" xlink:href=\"#DejaVuSans-30\"/>\r\n       <use x=\"190.869141\" xlink:href=\"#DejaVuSans-30\"/>\r\n       <use x=\"254.492188\" xlink:href=\"#DejaVuSans-30\"/>\r\n      </g>\r\n     </g>\r\n    </g>\r\n    <g id=\"ytick_4\">\r\n     <g id=\"line2d_9\">\r\n      <g>\r\n       <use style=\"stroke:#000000;stroke-width:0.8;\" x=\"46.0125\" xlink:href=\"#mf9789d7e9e\" y=\"135.67462\"/>\r\n      </g>\r\n     </g>\r\n     <g id=\"text_9\">\r\n      <!-- 30000 -->\r\n      <g transform=\"translate(7.2 139.473838)scale(0.1 -0.1)\">\r\n       <defs>\r\n        <path d=\"M 2597 2516 \r\nQ 3050 2419 3304 2112 \r\nQ 3559 1806 3559 1356 \r\nQ 3559 666 3084 287 \r\nQ 2609 -91 1734 -91 \r\nQ 1441 -91 1130 -33 \r\nQ 819 25 488 141 \r\nL 488 750 \r\nQ 750 597 1062 519 \r\nQ 1375 441 1716 441 \r\nQ 2309 441 2620 675 \r\nQ 2931 909 2931 1356 \r\nQ 2931 1769 2642 2001 \r\nQ 2353 2234 1838 2234 \r\nL 1294 2234 \r\nL 1294 2753 \r\nL 1863 2753 \r\nQ 2328 2753 2575 2939 \r\nQ 2822 3125 2822 3475 \r\nQ 2822 3834 2567 4026 \r\nQ 2313 4219 1838 4219 \r\nQ 1578 4219 1281 4162 \r\nQ 984 4106 628 3988 \r\nL 628 4550 \r\nQ 988 4650 1302 4700 \r\nQ 1616 4750 1894 4750 \r\nQ 2613 4750 3031 4423 \r\nQ 3450 4097 3450 3541 \r\nQ 3450 3153 3228 2886 \r\nQ 3006 2619 2597 2516 \r\nz\r\n\" id=\"DejaVuSans-33\" transform=\"scale(0.015625)\"/>\r\n       </defs>\r\n       <use xlink:href=\"#DejaVuSans-33\"/>\r\n       <use x=\"63.623047\" xlink:href=\"#DejaVuSans-30\"/>\r\n       <use x=\"127.246094\" xlink:href=\"#DejaVuSans-30\"/>\r\n       <use x=\"190.869141\" xlink:href=\"#DejaVuSans-30\"/>\r\n       <use x=\"254.492188\" xlink:href=\"#DejaVuSans-30\"/>\r\n      </g>\r\n     </g>\r\n    </g>\r\n    <g id=\"ytick_5\">\r\n     <g id=\"line2d_10\">\r\n      <g>\r\n       <use style=\"stroke:#000000;stroke-width:0.8;\" x=\"46.0125\" xlink:href=\"#mf9789d7e9e\" y=\"109.314038\"/>\r\n      </g>\r\n     </g>\r\n     <g id=\"text_10\">\r\n      <!-- 40000 -->\r\n      <g transform=\"translate(7.2 113.113257)scale(0.1 -0.1)\">\r\n       <defs>\r\n        <path d=\"M 2419 4116 \r\nL 825 1625 \r\nL 2419 1625 \r\nL 2419 4116 \r\nz\r\nM 2253 4666 \r\nL 3047 4666 \r\nL 3047 1625 \r\nL 3713 1625 \r\nL 3713 1100 \r\nL 3047 1100 \r\nL 3047 0 \r\nL 2419 0 \r\nL 2419 1100 \r\nL 313 1100 \r\nL 313 1709 \r\nL 2253 4666 \r\nz\r\n\" id=\"DejaVuSans-34\" transform=\"scale(0.015625)\"/>\r\n       </defs>\r\n       <use xlink:href=\"#DejaVuSans-34\"/>\r\n       <use x=\"63.623047\" xlink:href=\"#DejaVuSans-30\"/>\r\n       <use x=\"127.246094\" xlink:href=\"#DejaVuSans-30\"/>\r\n       <use x=\"190.869141\" xlink:href=\"#DejaVuSans-30\"/>\r\n       <use x=\"254.492188\" xlink:href=\"#DejaVuSans-30\"/>\r\n      </g>\r\n     </g>\r\n    </g>\r\n    <g id=\"ytick_6\">\r\n     <g id=\"line2d_11\">\r\n      <g>\r\n       <use style=\"stroke:#000000;stroke-width:0.8;\" x=\"46.0125\" xlink:href=\"#mf9789d7e9e\" y=\"82.953457\"/>\r\n      </g>\r\n     </g>\r\n     <g id=\"text_11\">\r\n      <!-- 50000 -->\r\n      <g transform=\"translate(7.2 86.752676)scale(0.1 -0.1)\">\r\n       <use xlink:href=\"#DejaVuSans-35\"/>\r\n       <use x=\"63.623047\" xlink:href=\"#DejaVuSans-30\"/>\r\n       <use x=\"127.246094\" xlink:href=\"#DejaVuSans-30\"/>\r\n       <use x=\"190.869141\" xlink:href=\"#DejaVuSans-30\"/>\r\n       <use x=\"254.492188\" xlink:href=\"#DejaVuSans-30\"/>\r\n      </g>\r\n     </g>\r\n    </g>\r\n    <g id=\"ytick_7\">\r\n     <g id=\"line2d_12\">\r\n      <g>\r\n       <use style=\"stroke:#000000;stroke-width:0.8;\" x=\"46.0125\" xlink:href=\"#mf9789d7e9e\" y=\"56.592876\"/>\r\n      </g>\r\n     </g>\r\n     <g id=\"text_12\">\r\n      <!-- 60000 -->\r\n      <g transform=\"translate(7.2 60.392094)scale(0.1 -0.1)\">\r\n       <defs>\r\n        <path d=\"M 2113 2584 \r\nQ 1688 2584 1439 2293 \r\nQ 1191 2003 1191 1497 \r\nQ 1191 994 1439 701 \r\nQ 1688 409 2113 409 \r\nQ 2538 409 2786 701 \r\nQ 3034 994 3034 1497 \r\nQ 3034 2003 2786 2293 \r\nQ 2538 2584 2113 2584 \r\nz\r\nM 3366 4563 \r\nL 3366 3988 \r\nQ 3128 4100 2886 4159 \r\nQ 2644 4219 2406 4219 \r\nQ 1781 4219 1451 3797 \r\nQ 1122 3375 1075 2522 \r\nQ 1259 2794 1537 2939 \r\nQ 1816 3084 2150 3084 \r\nQ 2853 3084 3261 2657 \r\nQ 3669 2231 3669 1497 \r\nQ 3669 778 3244 343 \r\nQ 2819 -91 2113 -91 \r\nQ 1303 -91 875 529 \r\nQ 447 1150 447 2328 \r\nQ 447 3434 972 4092 \r\nQ 1497 4750 2381 4750 \r\nQ 2619 4750 2861 4703 \r\nQ 3103 4656 3366 4563 \r\nz\r\n\" id=\"DejaVuSans-36\" transform=\"scale(0.015625)\"/>\r\n       </defs>\r\n       <use xlink:href=\"#DejaVuSans-36\"/>\r\n       <use x=\"63.623047\" xlink:href=\"#DejaVuSans-30\"/>\r\n       <use x=\"127.246094\" xlink:href=\"#DejaVuSans-30\"/>\r\n       <use x=\"190.869141\" xlink:href=\"#DejaVuSans-30\"/>\r\n       <use x=\"254.492188\" xlink:href=\"#DejaVuSans-30\"/>\r\n      </g>\r\n     </g>\r\n    </g>\r\n    <g id=\"ytick_8\">\r\n     <g id=\"line2d_13\">\r\n      <g>\r\n       <use style=\"stroke:#000000;stroke-width:0.8;\" x=\"46.0125\" xlink:href=\"#mf9789d7e9e\" y=\"30.232294\"/>\r\n      </g>\r\n     </g>\r\n     <g id=\"text_13\">\r\n      <!-- 70000 -->\r\n      <g transform=\"translate(7.2 34.031513)scale(0.1 -0.1)\">\r\n       <use xlink:href=\"#DejaVuSans-37\"/>\r\n       <use x=\"63.623047\" xlink:href=\"#DejaVuSans-30\"/>\r\n       <use x=\"127.246094\" xlink:href=\"#DejaVuSans-30\"/>\r\n       <use x=\"190.869141\" xlink:href=\"#DejaVuSans-30\"/>\r\n       <use x=\"254.492188\" xlink:href=\"#DejaVuSans-30\"/>\r\n      </g>\r\n     </g>\r\n    </g>\r\n   </g>\r\n   <g id=\"line2d_14\">\r\n    <path clip-path=\"url(#pc9623d4152)\" d=\"M 61.230682 214.756364 \r\nL 101.278529 214.674646 \r\nL 104.615849 214.429492 \r\nL 110.623026 213.633403 \r\nL 113.960347 212.708146 \r\nL 114.627811 212.262653 \r\nL 115.295275 212.099217 \r\nL 115.962739 211.687992 \r\nL 116.630203 211.574641 \r\nL 118.632596 210.865542 \r\nL 121.969916 208.809416 \r\nL 122.63738 208.529994 \r\nL 125.307237 206.842917 \r\nL 125.974701 206.115365 \r\nL 127.309629 205.237558 \r\nL 127.977093 204.483645 \r\nL 128.644557 204.090872 \r\nL 129.979486 202.590955 \r\nL 131.314414 201.533896 \r\nL 131.981878 201.45745 \r\nL 135.319199 197.701068 \r\nL 135.986663 197.1844 \r\nL 136.654127 196.433124 \r\nL 137.989055 195.286438 \r\nL 139.323983 194.08176 \r\nL 140.658911 193.238221 \r\nL 141.326376 192.138985 \r\nL 141.99384 191.733032 \r\nL 142.661304 191.176824 \r\nL 143.328768 191.060837 \r\nL 143.996232 189.76126 \r\nL 144.663696 188.820188 \r\nL 145.33116 188.213894 \r\nL 145.998624 187.069845 \r\nL 146.666089 186.450371 \r\nL 150.003409 184.188634 \r\nL 150.670873 183.611337 \r\nL 151.338337 183.376728 \r\nL 152.005801 182.976047 \r\nL 152.673266 181.92426 \r\nL 153.34073 181.534123 \r\nL 154.675658 181.157167 \r\nL 158.680443 180.216094 \r\nL 161.350299 179.588712 \r\nL 163.352691 178.96133 \r\nL 164.68762 178.876976 \r\nL 166.690012 178.436755 \r\nL 167.357476 178.273319 \r\nL 169.359868 178.15206 \r\nL 172.029725 177.311158 \r\nL 172.697189 177.348063 \r\nL 176.701974 176.385901 \r\nL 177.369438 176.338452 \r\nL 178.036902 176.130204 \r\nL 179.37183 175.924591 \r\nL 185.379007 174.41413 \r\nL 186.046471 174.016085 \r\nL 188.048864 173.61804 \r\nL 188.716328 173.59168 \r\nL 190.051256 173.190999 \r\nL 190.71872 172.824587 \r\nL 191.386184 172.613702 \r\nL 192.721112 172.350096 \r\nL 193.388577 171.944143 \r\nL 195.390969 171.406388 \r\nL 198.060825 170.42841 \r\nL 198.728289 170.25443 \r\nL 200.063218 169.758851 \r\nL 203.400538 168.543629 \r\nL 204.735467 168.021689 \r\nL 206.070395 167.628916 \r\nL 207.405323 167.085888 \r\nL 210.742644 165.709866 \r\nL 212.077572 165.356634 \r\nL 213.4125 164.716072 \r\nL 216.749821 163.724914 \r\nL 218.084749 163.086988 \r\nL 219.419677 162.741665 \r\nL 222.756998 161.352462 \r\nL 224.75939 160.883244 \r\nL 225.426854 160.706628 \r\nL 226.094318 160.382393 \r\nL 226.761782 160.224229 \r\nL 227.429246 159.923718 \r\nL 228.096711 159.868361 \r\nL 229.431639 159.449228 \r\nL 230.766567 159.230435 \r\nL 232.768959 158.45807 \r\nL 234.103888 158.220825 \r\nL 234.771352 157.733154 \r\nL 240.778529 155.365974 \r\nL 243.448385 154.525071 \r\nL 244.783313 153.765887 \r\nL 248.120634 152.418861 \r\nL 248.788098 151.933826 \r\nL 249.455562 151.638588 \r\nL 251.457955 150.439181 \r\nL 252.125419 150.283654 \r\nL 253.460347 149.57719 \r\nL 258.80006 145.849804 \r\nL 259.467524 145.538749 \r\nL 260.134988 145.080075 \r\nL 260.802452 144.03356 \r\nL 261.469916 143.527437 \r\nL 264.139773 140.788572 \r\nL 264.807237 140.037296 \r\nL 266.142165 137.838823 \r\nL 267.477093 135.843327 \r\nL 268.144557 135.795878 \r\nL 268.812022 134.488393 \r\nL 269.479486 133.536777 \r\nL 270.814414 132.282013 \r\nL 271.481878 131.296127 \r\nL 272.149342 130.626568 \r\nL 273.48427 128.876226 \r\nL 274.819199 125.757769 \r\nL 275.486663 123.846627 \r\nL 276.821591 121.366096 \r\nL 278.156519 119.555124 \r\nL 280.158911 116.204694 \r\nL 280.826376 115.395424 \r\nL 282.161304 113.328755 \r\nL 282.828768 112.640744 \r\nL 283.496232 111.359619 \r\nL 284.163696 108.995075 \r\nL 285.498624 107.244733 \r\nL 286.166089 105.784356 \r\nL 286.833553 104.679848 \r\nL 287.501017 104.650851 \r\nL 288.168481 102.831971 \r\nL 290.170873 100.261815 \r\nL 292.173266 95.719887 \r\nL 292.84073 94.167248 \r\nL 293.508194 93.244628 \r\nL 294.175658 92.567161 \r\nL 295.510586 90.242158 \r\nL 298.180443 83.375226 \r\nL 299.515371 81.095036 \r\nL 300.182835 79.436955 \r\nL 300.850299 78.324539 \r\nL 301.517763 76.387036 \r\nL 302.185227 72.47249 \r\nL 302.852691 70.814409 \r\nL 303.520156 69.989323 \r\nL 304.18762 68.969169 \r\nL 306.857476 65.884981 \r\nL 307.52494 64.068737 \r\nL 308.192404 63.027494 \r\nL 308.859868 61.622475 \r\nL 310.862261 58.488201 \r\nL 312.197189 57.33888 \r\nL 312.864653 56.698318 \r\nL 313.532117 55.89432 \r\nL 314.199581 55.288027 \r\nL 314.867045 54.215151 \r\nL 315.53451 52.836493 \r\nL 316.201974 52.232836 \r\nL 316.869438 51.998226 \r\nL 317.536902 51.407749 \r\nL 318.87183 49.069566 \r\nL 319.539294 48.294565 \r\nL 320.206758 47.24805 \r\nL 320.874222 46.575855 \r\nL 322.209151 45.64269 \r\nL 326.213935 42.576955 \r\nL 326.8814 42.176274 \r\nL 328.883792 40.254587 \r\nL 329.551256 39.843362 \r\nL 330.21872 39.266066 \r\nL 332.221112 38.132561 \r\nL 334.223505 36.73545 \r\nL 335.558433 35.978901 \r\nL 338.895754 34.210106 \r\nL 340.230682 33.514187 \r\nL 341.56561 32.760274 \r\nL 342.233074 32.035358 \r\nL 344.235467 30.603979 \r\nL 346.237859 29.618093 \r\nL 346.905323 29.109334 \r\nL 348.240251 27.865114 \r\nL 350.242644 26.768514 \r\nL 350.910108 26.512816 \r\nL 351.577572 25.853802 \r\nL 355.582356 23.50771 \r\nL 356.249821 22.901417 \r\nL 358.252213 21.464765 \r\nL 359.587141 20.34444 \r\nL 360.254605 20.107195 \r\nL 362.924462 18.372669 \r\nL 365.594318 17.083636 \r\nL 365.594318 17.083636 \r\n\" style=\"fill:none;stroke:#1f77b4;stroke-linecap:square;stroke-width:1.5;\"/>\r\n   </g>\r\n   <g id=\"line2d_15\">\r\n    <path clip-path=\"url(#pc9623d4152)\" d=\"M 61.230682 214.756364 \r\nL 102.613457 214.661466 \r\nL 111.29049 214.221244 \r\nL 115.295275 213.791566 \r\nL 120.634988 213.193181 \r\nL 126.642165 212.352279 \r\nL 129.312022 211.840883 \r\nL 139.323983 210.4385 \r\nL 141.326376 210.108993 \r\nL 145.33116 209.51588 \r\nL 147.333553 209.202189 \r\nL 152.005801 208.970216 \r\nL 154.675658 208.746151 \r\nL 159.347907 208.503634 \r\nL 179.37183 207.628462 \r\nL 182.041687 207.507204 \r\nL 191.386184 206.919363 \r\nL 196.058433 206.571403 \r\nL 198.728289 206.331522 \r\nL 201.398146 206.075824 \r\nL 206.737859 205.643511 \r\nL 209.407715 205.385177 \r\nL 212.745036 205.213833 \r\nL 220.754605 204.763067 \r\nL 222.756998 204.6339 \r\nL 228.096711 204.309665 \r\nL 230.766567 204.188407 \r\nL 238.776136 203.553117 \r\nL 254.127811 201.789594 \r\nL 256.797667 201.33092 \r\nL 260.134988 200.790528 \r\nL 262.13738 200.226411 \r\nL 263.472309 199.98653 \r\nL 272.149342 197.695795 \r\nL 273.48427 197.252938 \r\nL 274.819199 196.557018 \r\nL 275.486663 196.451576 \r\nL 276.154127 196.140521 \r\nL 276.821591 196.048259 \r\nL 277.489055 195.760929 \r\nL 278.156519 195.610673 \r\nL 278.823983 195.262714 \r\nL 282.828768 194.139753 \r\nL 283.496232 193.7338 \r\nL 290.838337 191.369256 \r\nL 292.84073 190.372826 \r\nL 294.175658 190.140853 \r\nL 295.510586 189.605733 \r\nL 296.17805 189.307858 \r\nL 297.512978 188.40369 \r\nL 298.847907 187.863299 \r\nL 301.517763 187.025032 \r\nL 302.852691 186.313296 \r\nL 304.18762 185.989061 \r\nL 305.522548 185.743908 \r\nL 309.527333 184.475964 \r\nL 314.867045 183.03404 \r\nL 316.201974 182.541097 \r\nL 318.204366 182.164141 \r\nL 320.206758 181.673834 \r\nL 337.560825 179.101041 \r\nL 350.910108 177.253165 \r\nL 354.914892 176.628419 \r\nL 356.249821 176.438623 \r\nL 357.584749 176.188197 \r\nL 360.922069 175.895595 \r\nL 364.25939 175.581904 \r\nL 365.594318 175.471189 \r\nL 365.594318 175.471189 \r\n\" style=\"fill:none;stroke:#ff7f0e;stroke-linecap:square;stroke-width:1.5;\"/>\r\n   </g>\r\n   <g id=\"patch_3\">\r\n    <path d=\"M 46.0125 224.64 \r\nL 46.0125 7.2 \r\n\" style=\"fill:none;stroke:#000000;stroke-linecap:square;stroke-linejoin:miter;stroke-width:0.8;\"/>\r\n   </g>\r\n   <g id=\"patch_4\">\r\n    <path d=\"M 380.8125 224.64 \r\nL 380.8125 7.2 \r\n\" style=\"fill:none;stroke:#000000;stroke-linecap:square;stroke-linejoin:miter;stroke-width:0.8;\"/>\r\n   </g>\r\n   <g id=\"patch_5\">\r\n    <path d=\"M 46.0125 224.64 \r\nL 380.8125 224.64 \r\n\" style=\"fill:none;stroke:#000000;stroke-linecap:square;stroke-linejoin:miter;stroke-width:0.8;\"/>\r\n   </g>\r\n   <g id=\"patch_6\">\r\n    <path d=\"M 46.0125 7.2 \r\nL 380.8125 7.2 \r\n\" style=\"fill:none;stroke:#000000;stroke-linecap:square;stroke-linejoin:miter;stroke-width:0.8;\"/>\r\n   </g>\r\n   <g id=\"legend_1\">\r\n    <g id=\"patch_7\">\r\n     <path d=\"M 53.0125 44.55625 \r\nL 130.582812 44.55625 \r\nQ 132.582812 44.55625 132.582812 42.55625 \r\nL 132.582812 14.2 \r\nQ 132.582812 12.2 130.582812 12.2 \r\nL 53.0125 12.2 \r\nQ 51.0125 12.2 51.0125 14.2 \r\nL 51.0125 42.55625 \r\nQ 51.0125 44.55625 53.0125 44.55625 \r\nz\r\n\" style=\"fill:#ffffff;opacity:0.8;stroke:#cccccc;stroke-linejoin:miter;\"/>\r\n    </g>\r\n    <g id=\"line2d_16\">\r\n     <path d=\"M 55.0125 20.298437 \r\nL 75.0125 20.298437 \r\n\" style=\"fill:none;stroke:#1f77b4;stroke-linecap:square;stroke-width:1.5;\"/>\r\n    </g>\r\n    <g id=\"line2d_17\"/>\r\n    <g id=\"text_14\">\r\n     <!-- Fairfax -->\r\n     <g transform=\"translate(83.0125 23.798437)scale(0.1 -0.1)\">\r\n      <defs>\r\n       <path d=\"M 628 4666 \r\nL 3309 4666 \r\nL 3309 4134 \r\nL 1259 4134 \r\nL 1259 2759 \r\nL 3109 2759 \r\nL 3109 2228 \r\nL 1259 2228 \r\nL 1259 0 \r\nL 628 0 \r\nL 628 4666 \r\nz\r\n\" id=\"DejaVuSans-46\" transform=\"scale(0.015625)\"/>\r\n       <path d=\"M 2194 1759 \r\nQ 1497 1759 1228 1600 \r\nQ 959 1441 959 1056 \r\nQ 959 750 1161 570 \r\nQ 1363 391 1709 391 \r\nQ 2188 391 2477 730 \r\nQ 2766 1069 2766 1631 \r\nL 2766 1759 \r\nL 2194 1759 \r\nz\r\nM 3341 1997 \r\nL 3341 0 \r\nL 2766 0 \r\nL 2766 531 \r\nQ 2569 213 2275 61 \r\nQ 1981 -91 1556 -91 \r\nQ 1019 -91 701 211 \r\nQ 384 513 384 1019 \r\nQ 384 1609 779 1909 \r\nQ 1175 2209 1959 2209 \r\nL 2766 2209 \r\nL 2766 2266 \r\nQ 2766 2663 2505 2880 \r\nQ 2244 3097 1772 3097 \r\nQ 1472 3097 1187 3025 \r\nQ 903 2953 641 2809 \r\nL 641 3341 \r\nQ 956 3463 1253 3523 \r\nQ 1550 3584 1831 3584 \r\nQ 2591 3584 2966 3190 \r\nQ 3341 2797 3341 1997 \r\nz\r\n\" id=\"DejaVuSans-61\" transform=\"scale(0.015625)\"/>\r\n       <path d=\"M 603 3500 \r\nL 1178 3500 \r\nL 1178 0 \r\nL 603 0 \r\nL 603 3500 \r\nz\r\nM 603 4863 \r\nL 1178 4863 \r\nL 1178 4134 \r\nL 603 4134 \r\nL 603 4863 \r\nz\r\n\" id=\"DejaVuSans-69\" transform=\"scale(0.015625)\"/>\r\n       <path d=\"M 2631 2963 \r\nQ 2534 3019 2420 3045 \r\nQ 2306 3072 2169 3072 \r\nQ 1681 3072 1420 2755 \r\nQ 1159 2438 1159 1844 \r\nL 1159 0 \r\nL 581 0 \r\nL 581 3500 \r\nL 1159 3500 \r\nL 1159 2956 \r\nQ 1341 3275 1631 3429 \r\nQ 1922 3584 2338 3584 \r\nQ 2397 3584 2469 3576 \r\nQ 2541 3569 2628 3553 \r\nL 2631 2963 \r\nz\r\n\" id=\"DejaVuSans-72\" transform=\"scale(0.015625)\"/>\r\n       <path d=\"M 2375 4863 \r\nL 2375 4384 \r\nL 1825 4384 \r\nQ 1516 4384 1395 4259 \r\nQ 1275 4134 1275 3809 \r\nL 1275 3500 \r\nL 2222 3500 \r\nL 2222 3053 \r\nL 1275 3053 \r\nL 1275 0 \r\nL 697 0 \r\nL 697 3053 \r\nL 147 3053 \r\nL 147 3500 \r\nL 697 3500 \r\nL 697 3744 \r\nQ 697 4328 969 4595 \r\nQ 1241 4863 1831 4863 \r\nL 2375 4863 \r\nz\r\n\" id=\"DejaVuSans-66\" transform=\"scale(0.015625)\"/>\r\n       <path d=\"M 3513 3500 \r\nL 2247 1797 \r\nL 3578 0 \r\nL 2900 0 \r\nL 1881 1375 \r\nL 863 0 \r\nL 184 0 \r\nL 1544 1831 \r\nL 300 3500 \r\nL 978 3500 \r\nL 1906 2253 \r\nL 2834 3500 \r\nL 3513 3500 \r\nz\r\n\" id=\"DejaVuSans-78\" transform=\"scale(0.015625)\"/>\r\n      </defs>\r\n      <use xlink:href=\"#DejaVuSans-46\"/>\r\n      <use x=\"48.394531\" xlink:href=\"#DejaVuSans-61\"/>\r\n      <use x=\"109.673828\" xlink:href=\"#DejaVuSans-69\"/>\r\n      <use x=\"137.457031\" xlink:href=\"#DejaVuSans-72\"/>\r\n      <use x=\"178.570312\" xlink:href=\"#DejaVuSans-66\"/>\r\n      <use x=\"213.775391\" xlink:href=\"#DejaVuSans-61\"/>\r\n      <use x=\"275.054688\" xlink:href=\"#DejaVuSans-78\"/>\r\n     </g>\r\n    </g>\r\n    <g id=\"line2d_18\">\r\n     <path d=\"M 55.0125 34.976562 \r\nL 75.0125 34.976562 \r\n\" style=\"fill:none;stroke:#ff7f0e;stroke-linecap:square;stroke-width:1.5;\"/>\r\n    </g>\r\n    <g id=\"line2d_19\"/>\r\n    <g id=\"text_15\">\r\n     <!-- Arlington -->\r\n     <g transform=\"translate(83.0125 38.476562)scale(0.1 -0.1)\">\r\n      <defs>\r\n       <path d=\"M 2188 4044 \r\nL 1331 1722 \r\nL 3047 1722 \r\nL 2188 4044 \r\nz\r\nM 1831 4666 \r\nL 2547 4666 \r\nL 4325 0 \r\nL 3669 0 \r\nL 3244 1197 \r\nL 1141 1197 \r\nL 716 0 \r\nL 50 0 \r\nL 1831 4666 \r\nz\r\n\" id=\"DejaVuSans-41\" transform=\"scale(0.015625)\"/>\r\n       <path d=\"M 603 4863 \r\nL 1178 4863 \r\nL 1178 0 \r\nL 603 0 \r\nL 603 4863 \r\nz\r\n\" id=\"DejaVuSans-6c\" transform=\"scale(0.015625)\"/>\r\n       <path d=\"M 3513 2113 \r\nL 3513 0 \r\nL 2938 0 \r\nL 2938 2094 \r\nQ 2938 2591 2744 2837 \r\nQ 2550 3084 2163 3084 \r\nQ 1697 3084 1428 2787 \r\nQ 1159 2491 1159 1978 \r\nL 1159 0 \r\nL 581 0 \r\nL 581 3500 \r\nL 1159 3500 \r\nL 1159 2956 \r\nQ 1366 3272 1645 3428 \r\nQ 1925 3584 2291 3584 \r\nQ 2894 3584 3203 3211 \r\nQ 3513 2838 3513 2113 \r\nz\r\n\" id=\"DejaVuSans-6e\" transform=\"scale(0.015625)\"/>\r\n       <path d=\"M 2906 1791 \r\nQ 2906 2416 2648 2759 \r\nQ 2391 3103 1925 3103 \r\nQ 1463 3103 1205 2759 \r\nQ 947 2416 947 1791 \r\nQ 947 1169 1205 825 \r\nQ 1463 481 1925 481 \r\nQ 2391 481 2648 825 \r\nQ 2906 1169 2906 1791 \r\nz\r\nM 3481 434 \r\nQ 3481 -459 3084 -895 \r\nQ 2688 -1331 1869 -1331 \r\nQ 1566 -1331 1297 -1286 \r\nQ 1028 -1241 775 -1147 \r\nL 775 -588 \r\nQ 1028 -725 1275 -790 \r\nQ 1522 -856 1778 -856 \r\nQ 2344 -856 2625 -561 \r\nQ 2906 -266 2906 331 \r\nL 2906 616 \r\nQ 2728 306 2450 153 \r\nQ 2172 0 1784 0 \r\nQ 1141 0 747 490 \r\nQ 353 981 353 1791 \r\nQ 353 2603 747 3093 \r\nQ 1141 3584 1784 3584 \r\nQ 2172 3584 2450 3431 \r\nQ 2728 3278 2906 2969 \r\nL 2906 3500 \r\nL 3481 3500 \r\nL 3481 434 \r\nz\r\n\" id=\"DejaVuSans-67\" transform=\"scale(0.015625)\"/>\r\n       <path d=\"M 1172 4494 \r\nL 1172 3500 \r\nL 2356 3500 \r\nL 2356 3053 \r\nL 1172 3053 \r\nL 1172 1153 \r\nQ 1172 725 1289 603 \r\nQ 1406 481 1766 481 \r\nL 2356 481 \r\nL 2356 0 \r\nL 1766 0 \r\nQ 1100 0 847 248 \r\nQ 594 497 594 1153 \r\nL 594 3053 \r\nL 172 3053 \r\nL 172 3500 \r\nL 594 3500 \r\nL 594 4494 \r\nL 1172 4494 \r\nz\r\n\" id=\"DejaVuSans-74\" transform=\"scale(0.015625)\"/>\r\n       <path d=\"M 1959 3097 \r\nQ 1497 3097 1228 2736 \r\nQ 959 2375 959 1747 \r\nQ 959 1119 1226 758 \r\nQ 1494 397 1959 397 \r\nQ 2419 397 2687 759 \r\nQ 2956 1122 2956 1747 \r\nQ 2956 2369 2687 2733 \r\nQ 2419 3097 1959 3097 \r\nz\r\nM 1959 3584 \r\nQ 2709 3584 3137 3096 \r\nQ 3566 2609 3566 1747 \r\nQ 3566 888 3137 398 \r\nQ 2709 -91 1959 -91 \r\nQ 1206 -91 779 398 \r\nQ 353 888 353 1747 \r\nQ 353 2609 779 3096 \r\nQ 1206 3584 1959 3584 \r\nz\r\n\" id=\"DejaVuSans-6f\" transform=\"scale(0.015625)\"/>\r\n      </defs>\r\n      <use xlink:href=\"#DejaVuSans-41\"/>\r\n      <use x=\"68.408203\" xlink:href=\"#DejaVuSans-72\"/>\r\n      <use x=\"109.521484\" xlink:href=\"#DejaVuSans-6c\"/>\r\n      <use x=\"137.304688\" xlink:href=\"#DejaVuSans-69\"/>\r\n      <use x=\"165.087891\" xlink:href=\"#DejaVuSans-6e\"/>\r\n      <use x=\"228.466797\" xlink:href=\"#DejaVuSans-67\"/>\r\n      <use x=\"291.943359\" xlink:href=\"#DejaVuSans-74\"/>\r\n      <use x=\"331.152344\" xlink:href=\"#DejaVuSans-6f\"/>\r\n      <use x=\"392.333984\" xlink:href=\"#DejaVuSans-6e\"/>\r\n     </g>\r\n    </g>\r\n   </g>\r\n  </g>\r\n </g>\r\n <defs>\r\n  <clipPath id=\"pc9623d4152\">\r\n   <rect height=\"217.44\" width=\"334.8\" x=\"46.0125\" y=\"7.2\"/>\r\n  </clipPath>\r\n </defs>\r\n</svg>\r\n",
      "image/png": "[encoded data removed]"
     },
     "metadata": {
      "needs_background": "light"
     }
    }
   ],
   "source": [
    "fairfax = covid_virginia[(covid_virginia.Admin2 == 'Fairfax')]\n",
    "arlington = covid_virginia[(covid_virginia.Admin2 == 'Arlington')]\n",
    "dates_recorded = [ date for date in fairfax.columns if '/' in date]\n",
    "df = pd.DataFrame({\n",
    "   'Fairfax': fairfax.squeeze()[dates_recorded],\n",
    "   'Arlington': arlington.squeeze()[dates_recorded]\n",
    "   }, index=dates_recorded)\n",
    "lines = df.plot.line()\n"
   ]
  },
  {
   "source": [
    "## 8. Provide one figure with two subplots that display two choropleth maps projecting each county’s total reported COVID-19 cases in Virginia. One choropleth map will pertain to April 15, 2020, and the other for April 15, 2021.\n",
    "- The figure’s subplot must contain two rows and one column.\n",
    "- Include a basemap using the contextily library.\n",
    "- Do not use mapclassify for the legend display.\n",
    "- You may choose any argument for the cmap parameter but use the same one for both choropleth maps.\n",
    "- Do not display the x and y axis on the maps.\n",
    "- Provide a title for each subplot."
   ],
   "cell_type": "markdown",
   "metadata": {}
  },
  {
   "cell_type": "code",
   "execution_count": 27,
   "metadata": {},
   "outputs": [
    {
     "output_type": "error",
     "ename": "ModuleNotFoundError",
     "evalue": "No module named 'geopandas'",
     "traceback": [
      "\u001b[1;31m---------------------------------------------------------------------------\u001b[0m",
      "\u001b[1;31mModuleNotFoundError\u001b[0m                       Traceback (most recent call last)",
      "\u001b[1;32m<ipython-input-27-881a3be7dd1b>\u001b[0m in \u001b[0;36m<module>\u001b[1;34m\u001b[0m\n\u001b[1;32m----> 1\u001b[1;33m \u001b[1;32mimport\u001b[0m \u001b[0mgeopandas\u001b[0m \u001b[1;32mas\u001b[0m \u001b[0mgpd\u001b[0m\u001b[1;33m\u001b[0m\u001b[1;33m\u001b[0m\u001b[0m\n\u001b[0m\u001b[0;32m      2\u001b[0m \u001b[0mcounties\u001b[0m \u001b[1;33m=\u001b[0m \u001b[0mgpd\u001b[0m\u001b[1;33m.\u001b[0m\u001b[0mread_file\u001b[0m\u001b[1;33m(\u001b[0m\u001b[0mgpd\u001b[0m\u001b[1;33m.\u001b[0m\u001b[0mdatasets\u001b[0m\u001b[1;33m.\u001b[0m\u001b[0mget_path\u001b[0m\u001b[1;33m(\u001b[0m\u001b[1;34m'counties'\u001b[0m\u001b[1;33m)\u001b[0m\u001b[1;33m)\u001b[0m\u001b[1;33m\u001b[0m\u001b[1;33m\u001b[0m\u001b[0m\n",
      "\u001b[1;31mModuleNotFoundError\u001b[0m: No module named 'geopandas'"
     ]
    }
   ],
   "source": [
    "import geopandas as gpd\n",
    "counties = gpd.read_file(gpd.datasets.get_path('counties'))"
   ]
  },
  {
   "cell_type": "code",
   "execution_count": null,
   "metadata": {},
   "outputs": [],
   "source": []
  }
 ]
}