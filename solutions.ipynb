{
 "metadata": {
  "orig_nbformat": 2,
  "kernelspec": {
   "name": "python390jvsc74a57bd0ee5cc6fef2d70a7e71ee3826687cbd150f18158e0b1eef11d4f4f92bb920e304",
   "display_name": "Python 3.9.0 64-bit"
  },
  "metadata": {
   "interpreter": {
    "hash": "ee5cc6fef2d70a7e71ee3826687cbd150f18158e0b1eef11d4f4f92bb920e304"
   }
  }
 },
 "nbformat": 4,
 "nbformat_minor": 2,
 "cells": [
  {
   "source": [
    "# Data analysis\n",
    "\n",
    "> Covid related data analysis from the csv provided\n",
    "\n",
    "## Import data to current notebook\n",
    "\n",
    "Call pandas and matplotlib libraries, then read csv"
   ],
   "cell_type": "markdown",
   "metadata": {}
  },
  {
   "source": [
    "import pandas as pd\n",
    "import matplotlib.pyplot as plt\n",
    "\n",
    "covid = pd.read_csv(\"project_covid19.csv\")\n"
   ],
   "cell_type": "code",
   "metadata": {},
   "execution_count": 1,
   "outputs": []
  },
  {
   "source": [
    "Check the data imported"
   ],
   "cell_type": "markdown",
   "metadata": {}
  },
  {
   "cell_type": "code",
   "execution_count": 2,
   "metadata": {},
   "outputs": [
    {
     "output_type": "execute_result",
     "data": {
      "text/plain": [
       "           UID iso2 iso3  code3     FIPS      Admin2 Province_State  \\\n",
       "0     84001001   US  USA    840   1001.0     Autauga        Alabama   \n",
       "1     84001003   US  USA    840   1003.0     Baldwin        Alabama   \n",
       "2     84001005   US  USA    840   1005.0     Barbour        Alabama   \n",
       "3     84001007   US  USA    840   1007.0        Bibb        Alabama   \n",
       "4     84001009   US  USA    840   1009.0      Blount        Alabama   \n",
       "...        ...  ...  ...    ...      ...         ...            ...   \n",
       "3337  84056039   US  USA    840  56039.0       Teton        Wyoming   \n",
       "3338  84056041   US  USA    840  56041.0       Uinta        Wyoming   \n",
       "3339  84090056   US  USA    840  90056.0  Unassigned        Wyoming   \n",
       "3340  84056043   US  USA    840  56043.0    Washakie        Wyoming   \n",
       "3341  84056045   US  USA    840  56045.0      Weston        Wyoming   \n",
       "\n",
       "     Country_Region        Lat       Long_  ... 4/13/21  4/14/21  4/15/21  \\\n",
       "0                US  32.539527  -86.644082  ...    6734     6740     6748   \n",
       "1                US  30.727750  -87.722071  ...   20652    20670    20674   \n",
       "2                US  31.868263  -85.387129  ...    2252     2257     2262   \n",
       "3                US  32.996421  -87.125115  ...    2564     2559     2560   \n",
       "4                US  33.982109  -86.567906  ...    6497     6507     6511   \n",
       "...             ...        ...         ...  ...     ...      ...      ...   \n",
       "3337             US  43.935225 -110.589080  ...    3675     3684     3689   \n",
       "3338             US  41.287818 -110.547578  ...    2153     2153     2155   \n",
       "3339             US   0.000000    0.000000  ...       0        0        0   \n",
       "3340             US  43.904516 -107.680187  ...     898      898      898   \n",
       "3341             US  43.839612 -104.567488  ...     642      646      646   \n",
       "\n",
       "      4/16/21  4/17/21  4/18/21  4/19/21  4/20/21  4/21/21  4/22/21  \n",
       "0        6750     6760     6763     6763     6773     6793     6819  \n",
       "1       20701    20714    20723    20730    20764    20787    20815  \n",
       "2        2264     2271     2271     2271     2275     2284     2289  \n",
       "3        2560     2563     2563     2567     2569     2569     2573  \n",
       "4        6519     6529     6532     6532     6548     6556     6563  \n",
       "...       ...      ...      ...      ...      ...      ...      ...  \n",
       "3337     3694     3694     3694     3703     3707     3711     3715  \n",
       "3338     2155     2155     2155     2150     2155     2154     2157  \n",
       "3339        0        0        0        0        0        0        0  \n",
       "3340      898      898      898      898      898      898      898  \n",
       "3341      646      646      646      647      647      647      647  \n",
       "\n",
       "[3342 rows x 468 columns]"
      ],
      "text/html": "<div>\n<style scoped>\n    .dataframe tbody tr th:only-of-type {\n        vertical-align: middle;\n    }\n\n    .dataframe tbody tr th {\n        vertical-align: top;\n    }\n\n    .dataframe thead th {\n        text-align: right;\n    }\n</style>\n<table border=\"1\" class=\"dataframe\">\n  <thead>\n    <tr style=\"text-align: right;\">\n      <th></th>\n      <th>UID</th>\n      <th>iso2</th>\n      <th>iso3</th>\n      <th>code3</th>\n      <th>FIPS</th>\n      <th>Admin2</th>\n      <th>Province_State</th>\n      <th>Country_Region</th>\n      <th>Lat</th>\n      <th>Long_</th>\n      <th>...</th>\n      <th>4/13/21</th>\n      <th>4/14/21</th>\n      <th>4/15/21</th>\n      <th>4/16/21</th>\n      <th>4/17/21</th>\n      <th>4/18/21</th>\n      <th>4/19/21</th>\n      <th>4/20/21</th>\n      <th>4/21/21</th>\n      <th>4/22/21</th>\n    </tr>\n  </thead>\n  <tbody>\n    <tr>\n      <th>0</th>\n      <td>84001001</td>\n      <td>US</td>\n      <td>USA</td>\n      <td>840</td>\n      <td>1001.0</td>\n      <td>Autauga</td>\n      <td>Alabama</td>\n      <td>US</td>\n      <td>32.539527</td>\n      <td>-86.644082</td>\n      <td>...</td>\n      <td>6734</td>\n      <td>6740</td>\n      <td>6748</td>\n      <td>6750</td>\n      <td>6760</td>\n      <td>6763</td>\n      <td>6763</td>\n      <td>6773</td>\n      <td>6793</td>\n      <td>6819</td>\n    </tr>\n    <tr>\n      <th>1</th>\n      <td>84001003</td>\n      <td>US</td>\n      <td>USA</td>\n      <td>840</td>\n      <td>1003.0</td>\n      <td>Baldwin</td>\n      <td>Alabama</td>\n      <td>US</td>\n      <td>30.727750</td>\n      <td>-87.722071</td>\n      <td>...</td>\n      <td>20652</td>\n      <td>20670</td>\n      <td>20674</td>\n      <td>20701</td>\n      <td>20714</td>\n      <td>20723</td>\n      <td>20730</td>\n      <td>20764</td>\n      <td>20787</td>\n      <td>20815</td>\n    </tr>\n    <tr>\n      <th>2</th>\n      <td>84001005</td>\n      <td>US</td>\n      <td>USA</td>\n      <td>840</td>\n      <td>1005.0</td>\n      <td>Barbour</td>\n      <td>Alabama</td>\n      <td>US</td>\n      <td>31.868263</td>\n      <td>-85.387129</td>\n      <td>...</td>\n      <td>2252</td>\n      <td>2257</td>\n      <td>2262</td>\n      <td>2264</td>\n      <td>2271</td>\n      <td>2271</td>\n      <td>2271</td>\n      <td>2275</td>\n      <td>2284</td>\n      <td>2289</td>\n    </tr>\n    <tr>\n      <th>3</th>\n      <td>84001007</td>\n      <td>US</td>\n      <td>USA</td>\n      <td>840</td>\n      <td>1007.0</td>\n      <td>Bibb</td>\n      <td>Alabama</td>\n      <td>US</td>\n      <td>32.996421</td>\n      <td>-87.125115</td>\n      <td>...</td>\n      <td>2564</td>\n      <td>2559</td>\n      <td>2560</td>\n      <td>2560</td>\n      <td>2563</td>\n      <td>2563</td>\n      <td>2567</td>\n      <td>2569</td>\n      <td>2569</td>\n      <td>2573</td>\n    </tr>\n    <tr>\n      <th>4</th>\n      <td>84001009</td>\n      <td>US</td>\n      <td>USA</td>\n      <td>840</td>\n      <td>1009.0</td>\n      <td>Blount</td>\n      <td>Alabama</td>\n      <td>US</td>\n      <td>33.982109</td>\n      <td>-86.567906</td>\n      <td>...</td>\n      <td>6497</td>\n      <td>6507</td>\n      <td>6511</td>\n      <td>6519</td>\n      <td>6529</td>\n      <td>6532</td>\n      <td>6532</td>\n      <td>6548</td>\n      <td>6556</td>\n      <td>6563</td>\n    </tr>\n    <tr>\n      <th>...</th>\n      <td>...</td>\n      <td>...</td>\n      <td>...</td>\n      <td>...</td>\n      <td>...</td>\n      <td>...</td>\n      <td>...</td>\n      <td>...</td>\n      <td>...</td>\n      <td>...</td>\n      <td>...</td>\n      <td>...</td>\n      <td>...</td>\n      <td>...</td>\n      <td>...</td>\n      <td>...</td>\n      <td>...</td>\n      <td>...</td>\n      <td>...</td>\n      <td>...</td>\n      <td>...</td>\n    </tr>\n    <tr>\n      <th>3337</th>\n      <td>84056039</td>\n      <td>US</td>\n      <td>USA</td>\n      <td>840</td>\n      <td>56039.0</td>\n      <td>Teton</td>\n      <td>Wyoming</td>\n      <td>US</td>\n      <td>43.935225</td>\n      <td>-110.589080</td>\n      <td>...</td>\n      <td>3675</td>\n      <td>3684</td>\n      <td>3689</td>\n      <td>3694</td>\n      <td>3694</td>\n      <td>3694</td>\n      <td>3703</td>\n      <td>3707</td>\n      <td>3711</td>\n      <td>3715</td>\n    </tr>\n    <tr>\n      <th>3338</th>\n      <td>84056041</td>\n      <td>US</td>\n      <td>USA</td>\n      <td>840</td>\n      <td>56041.0</td>\n      <td>Uinta</td>\n      <td>Wyoming</td>\n      <td>US</td>\n      <td>41.287818</td>\n      <td>-110.547578</td>\n      <td>...</td>\n      <td>2153</td>\n      <td>2153</td>\n      <td>2155</td>\n      <td>2155</td>\n      <td>2155</td>\n      <td>2155</td>\n      <td>2150</td>\n      <td>2155</td>\n      <td>2154</td>\n      <td>2157</td>\n    </tr>\n    <tr>\n      <th>3339</th>\n      <td>84090056</td>\n      <td>US</td>\n      <td>USA</td>\n      <td>840</td>\n      <td>90056.0</td>\n      <td>Unassigned</td>\n      <td>Wyoming</td>\n      <td>US</td>\n      <td>0.000000</td>\n      <td>0.000000</td>\n      <td>...</td>\n      <td>0</td>\n      <td>0</td>\n      <td>0</td>\n      <td>0</td>\n      <td>0</td>\n      <td>0</td>\n      <td>0</td>\n      <td>0</td>\n      <td>0</td>\n      <td>0</td>\n    </tr>\n    <tr>\n      <th>3340</th>\n      <td>84056043</td>\n      <td>US</td>\n      <td>USA</td>\n      <td>840</td>\n      <td>56043.0</td>\n      <td>Washakie</td>\n      <td>Wyoming</td>\n      <td>US</td>\n      <td>43.904516</td>\n      <td>-107.680187</td>\n      <td>...</td>\n      <td>898</td>\n      <td>898</td>\n      <td>898</td>\n      <td>898</td>\n      <td>898</td>\n      <td>898</td>\n      <td>898</td>\n      <td>898</td>\n      <td>898</td>\n      <td>898</td>\n    </tr>\n    <tr>\n      <th>3341</th>\n      <td>84056045</td>\n      <td>US</td>\n      <td>USA</td>\n      <td>840</td>\n      <td>56045.0</td>\n      <td>Weston</td>\n      <td>Wyoming</td>\n      <td>US</td>\n      <td>43.839612</td>\n      <td>-104.567488</td>\n      <td>...</td>\n      <td>642</td>\n      <td>646</td>\n      <td>646</td>\n      <td>646</td>\n      <td>646</td>\n      <td>646</td>\n      <td>647</td>\n      <td>647</td>\n      <td>647</td>\n      <td>647</td>\n    </tr>\n  </tbody>\n</table>\n<p>3342 rows × 468 columns</p>\n</div>"
     },
     "metadata": {},
     "execution_count": 2
    }
   ],
   "source": [
    "covid"
   ]
  },
  {
   "source": [
    "## 1. What is the total number of reported COVID-19 cases in the USA?\n",
    "\n",
    "Reported cases per day are comulative, that means that we will get the total commulative looking at he last column. Then we will sum the last column to get the total cases "
   ],
   "cell_type": "markdown",
   "metadata": {}
  },
  {
   "cell_type": "code",
   "execution_count": 3,
   "metadata": {},
   "outputs": [],
   "source": [
    "last_day = covid.columns[-1]\n"
   ]
  },
  {
   "cell_type": "code",
   "execution_count": 4,
   "metadata": {},
   "outputs": [
    {
     "output_type": "execute_result",
     "data": {
      "text/plain": [
       "'4/22/21'"
      ]
     },
     "metadata": {},
     "execution_count": 4
    }
   ],
   "source": [
    "last_day"
   ]
  },
  {
   "source": [
    "covid[last_day]"
   ],
   "cell_type": "code",
   "metadata": {},
   "execution_count": 5,
   "outputs": [
    {
     "output_type": "execute_result",
     "data": {
      "text/plain": [
       "0        6819\n",
       "1       20815\n",
       "2        2289\n",
       "3        2573\n",
       "4        6563\n",
       "        ...  \n",
       "3337     3715\n",
       "3338     2157\n",
       "3339        0\n",
       "3340      898\n",
       "3341      647\n",
       "Name: 4/22/21, Length: 3342, dtype: int64"
      ]
     },
     "metadata": {},
     "execution_count": 5
    }
   ]
  },
  {
   "cell_type": "code",
   "execution_count": 6,
   "metadata": {},
   "outputs": [
    {
     "output_type": "execute_result",
     "data": {
      "text/plain": [
       "31929351"
      ]
     },
     "metadata": {},
     "execution_count": 6
    }
   ],
   "source": [
    "sum(covid[last_day])\n"
   ]
  },
  {
   "source": [
    "## 2. What is the total number of reported COVID-19 cases for Virginia?\n",
    "Lets create a boolean filter to get a table that belongs to 'Province_State' == 'Virginia'"
   ],
   "cell_type": "markdown",
   "metadata": {}
  },
  {
   "cell_type": "code",
   "execution_count": 7,
   "metadata": {},
   "outputs": [],
   "source": [
    "virginia_filter = covid['Province_State'] == 'Virginia'  "
   ]
  },
  {
   "cell_type": "code",
   "execution_count": 8,
   "metadata": {},
   "outputs": [
    {
     "output_type": "execute_result",
     "data": {
      "text/plain": [
       "0       False\n",
       "1       False\n",
       "2       False\n",
       "3       False\n",
       "4       False\n",
       "        ...  \n",
       "3337    False\n",
       "3338    False\n",
       "3339    False\n",
       "3340    False\n",
       "3341    False\n",
       "Name: Province_State, Length: 3342, dtype: bool"
      ]
     },
     "metadata": {},
     "execution_count": 8
    }
   ],
   "source": [
    "virginia_filter"
   ]
  },
  {
   "cell_type": "code",
   "execution_count": 9,
   "metadata": {},
   "outputs": [
    {
     "output_type": "execute_result",
     "data": {
      "text/plain": [
       "           UID iso2 iso3  code3     FIPS        Admin2 Province_State  \\\n",
       "3010  84051001   US  USA    840  51001.0      Accomack       Virginia   \n",
       "3011  84051003   US  USA    840  51003.0     Albemarle       Virginia   \n",
       "3012  84051510   US  USA    840  51510.0    Alexandria       Virginia   \n",
       "3013  84051005   US  USA    840  51005.0     Alleghany       Virginia   \n",
       "3014  84051007   US  USA    840  51007.0        Amelia       Virginia   \n",
       "...        ...  ...  ...    ...      ...           ...            ...   \n",
       "3140  84051830   US  USA    840  51830.0  Williamsburg       Virginia   \n",
       "3141  84051840   US  USA    840  51840.0    Winchester       Virginia   \n",
       "3142  84051195   US  USA    840  51195.0          Wise       Virginia   \n",
       "3143  84051197   US  USA    840  51197.0         Wythe       Virginia   \n",
       "3144  84051199   US  USA    840  51199.0          York       Virginia   \n",
       "\n",
       "     Country_Region        Lat      Long_  ... 4/13/21  4/14/21  4/15/21  \\\n",
       "3010             US  37.767072 -75.632346  ...    2750     2756     2762   \n",
       "3011             US  38.020807 -78.554811  ...    5448     5470     5491   \n",
       "3012             US  38.814003 -77.081831  ...   11348    11375    11387   \n",
       "3013             US  37.786361 -80.002225  ...    1296     1299     1298   \n",
       "3014             US  37.340810 -77.985846  ...     845      844      846   \n",
       "...             ...        ...        ...  ...     ...      ...      ...   \n",
       "3140             US  37.281313 -76.709051  ...     731      731      737   \n",
       "3141             US  39.170545 -78.173251  ...    2752     2751     2759   \n",
       "3142             US  36.974615 -82.624105  ...    3027     3033     3034   \n",
       "3143             US  36.915820 -81.078341  ...    2451     2461     2473   \n",
       "3144             US  37.243748 -76.544128  ...    3565     3575     3581   \n",
       "\n",
       "      4/16/21  4/17/21  4/18/21  4/19/21  4/20/21  4/21/21  4/22/21  \n",
       "3010     2763     2770     2773     2775     2776     2778     2777  \n",
       "3011     5506     5515     5526     5535     5555     5620     5635  \n",
       "3012    11402    11442    11461    11481    11491    11519    11522  \n",
       "3013     1298     1299     1299     1299     1302     1299     1302  \n",
       "3014      850      852      855      855      856      857      859  \n",
       "...       ...      ...      ...      ...      ...      ...      ...  \n",
       "3140      738      741      748      749      743      746      748  \n",
       "3141     2762     2765     2773     2786     2785     2790     2793  \n",
       "3142     3039     3042     3046     3048     3057     3066     3078  \n",
       "3143     2490     2494     2503     2508     2526     2527     2536  \n",
       "3144     3588     3597     3604     3608     3619     3622     3632  \n",
       "\n",
       "[135 rows x 468 columns]"
      ],
      "text/html": "<div>\n<style scoped>\n    .dataframe tbody tr th:only-of-type {\n        vertical-align: middle;\n    }\n\n    .dataframe tbody tr th {\n        vertical-align: top;\n    }\n\n    .dataframe thead th {\n        text-align: right;\n    }\n</style>\n<table border=\"1\" class=\"dataframe\">\n  <thead>\n    <tr style=\"text-align: right;\">\n      <th></th>\n      <th>UID</th>\n      <th>iso2</th>\n      <th>iso3</th>\n      <th>code3</th>\n      <th>FIPS</th>\n      <th>Admin2</th>\n      <th>Province_State</th>\n      <th>Country_Region</th>\n      <th>Lat</th>\n      <th>Long_</th>\n      <th>...</th>\n      <th>4/13/21</th>\n      <th>4/14/21</th>\n      <th>4/15/21</th>\n      <th>4/16/21</th>\n      <th>4/17/21</th>\n      <th>4/18/21</th>\n      <th>4/19/21</th>\n      <th>4/20/21</th>\n      <th>4/21/21</th>\n      <th>4/22/21</th>\n    </tr>\n  </thead>\n  <tbody>\n    <tr>\n      <th>3010</th>\n      <td>84051001</td>\n      <td>US</td>\n      <td>USA</td>\n      <td>840</td>\n      <td>51001.0</td>\n      <td>Accomack</td>\n      <td>Virginia</td>\n      <td>US</td>\n      <td>37.767072</td>\n      <td>-75.632346</td>\n      <td>...</td>\n      <td>2750</td>\n      <td>2756</td>\n      <td>2762</td>\n      <td>2763</td>\n      <td>2770</td>\n      <td>2773</td>\n      <td>2775</td>\n      <td>2776</td>\n      <td>2778</td>\n      <td>2777</td>\n    </tr>\n    <tr>\n      <th>3011</th>\n      <td>84051003</td>\n      <td>US</td>\n      <td>USA</td>\n      <td>840</td>\n      <td>51003.0</td>\n      <td>Albemarle</td>\n      <td>Virginia</td>\n      <td>US</td>\n      <td>38.020807</td>\n      <td>-78.554811</td>\n      <td>...</td>\n      <td>5448</td>\n      <td>5470</td>\n      <td>5491</td>\n      <td>5506</td>\n      <td>5515</td>\n      <td>5526</td>\n      <td>5535</td>\n      <td>5555</td>\n      <td>5620</td>\n      <td>5635</td>\n    </tr>\n    <tr>\n      <th>3012</th>\n      <td>84051510</td>\n      <td>US</td>\n      <td>USA</td>\n      <td>840</td>\n      <td>51510.0</td>\n      <td>Alexandria</td>\n      <td>Virginia</td>\n      <td>US</td>\n      <td>38.814003</td>\n      <td>-77.081831</td>\n      <td>...</td>\n      <td>11348</td>\n      <td>11375</td>\n      <td>11387</td>\n      <td>11402</td>\n      <td>11442</td>\n      <td>11461</td>\n      <td>11481</td>\n      <td>11491</td>\n      <td>11519</td>\n      <td>11522</td>\n    </tr>\n    <tr>\n      <th>3013</th>\n      <td>84051005</td>\n      <td>US</td>\n      <td>USA</td>\n      <td>840</td>\n      <td>51005.0</td>\n      <td>Alleghany</td>\n      <td>Virginia</td>\n      <td>US</td>\n      <td>37.786361</td>\n      <td>-80.002225</td>\n      <td>...</td>\n      <td>1296</td>\n      <td>1299</td>\n      <td>1298</td>\n      <td>1298</td>\n      <td>1299</td>\n      <td>1299</td>\n      <td>1299</td>\n      <td>1302</td>\n      <td>1299</td>\n      <td>1302</td>\n    </tr>\n    <tr>\n      <th>3014</th>\n      <td>84051007</td>\n      <td>US</td>\n      <td>USA</td>\n      <td>840</td>\n      <td>51007.0</td>\n      <td>Amelia</td>\n      <td>Virginia</td>\n      <td>US</td>\n      <td>37.340810</td>\n      <td>-77.985846</td>\n      <td>...</td>\n      <td>845</td>\n      <td>844</td>\n      <td>846</td>\n      <td>850</td>\n      <td>852</td>\n      <td>855</td>\n      <td>855</td>\n      <td>856</td>\n      <td>857</td>\n      <td>859</td>\n    </tr>\n    <tr>\n      <th>...</th>\n      <td>...</td>\n      <td>...</td>\n      <td>...</td>\n      <td>...</td>\n      <td>...</td>\n      <td>...</td>\n      <td>...</td>\n      <td>...</td>\n      <td>...</td>\n      <td>...</td>\n      <td>...</td>\n      <td>...</td>\n      <td>...</td>\n      <td>...</td>\n      <td>...</td>\n      <td>...</td>\n      <td>...</td>\n      <td>...</td>\n      <td>...</td>\n      <td>...</td>\n      <td>...</td>\n    </tr>\n    <tr>\n      <th>3140</th>\n      <td>84051830</td>\n      <td>US</td>\n      <td>USA</td>\n      <td>840</td>\n      <td>51830.0</td>\n      <td>Williamsburg</td>\n      <td>Virginia</td>\n      <td>US</td>\n      <td>37.281313</td>\n      <td>-76.709051</td>\n      <td>...</td>\n      <td>731</td>\n      <td>731</td>\n      <td>737</td>\n      <td>738</td>\n      <td>741</td>\n      <td>748</td>\n      <td>749</td>\n      <td>743</td>\n      <td>746</td>\n      <td>748</td>\n    </tr>\n    <tr>\n      <th>3141</th>\n      <td>84051840</td>\n      <td>US</td>\n      <td>USA</td>\n      <td>840</td>\n      <td>51840.0</td>\n      <td>Winchester</td>\n      <td>Virginia</td>\n      <td>US</td>\n      <td>39.170545</td>\n      <td>-78.173251</td>\n      <td>...</td>\n      <td>2752</td>\n      <td>2751</td>\n      <td>2759</td>\n      <td>2762</td>\n      <td>2765</td>\n      <td>2773</td>\n      <td>2786</td>\n      <td>2785</td>\n      <td>2790</td>\n      <td>2793</td>\n    </tr>\n    <tr>\n      <th>3142</th>\n      <td>84051195</td>\n      <td>US</td>\n      <td>USA</td>\n      <td>840</td>\n      <td>51195.0</td>\n      <td>Wise</td>\n      <td>Virginia</td>\n      <td>US</td>\n      <td>36.974615</td>\n      <td>-82.624105</td>\n      <td>...</td>\n      <td>3027</td>\n      <td>3033</td>\n      <td>3034</td>\n      <td>3039</td>\n      <td>3042</td>\n      <td>3046</td>\n      <td>3048</td>\n      <td>3057</td>\n      <td>3066</td>\n      <td>3078</td>\n    </tr>\n    <tr>\n      <th>3143</th>\n      <td>84051197</td>\n      <td>US</td>\n      <td>USA</td>\n      <td>840</td>\n      <td>51197.0</td>\n      <td>Wythe</td>\n      <td>Virginia</td>\n      <td>US</td>\n      <td>36.915820</td>\n      <td>-81.078341</td>\n      <td>...</td>\n      <td>2451</td>\n      <td>2461</td>\n      <td>2473</td>\n      <td>2490</td>\n      <td>2494</td>\n      <td>2503</td>\n      <td>2508</td>\n      <td>2526</td>\n      <td>2527</td>\n      <td>2536</td>\n    </tr>\n    <tr>\n      <th>3144</th>\n      <td>84051199</td>\n      <td>US</td>\n      <td>USA</td>\n      <td>840</td>\n      <td>51199.0</td>\n      <td>York</td>\n      <td>Virginia</td>\n      <td>US</td>\n      <td>37.243748</td>\n      <td>-76.544128</td>\n      <td>...</td>\n      <td>3565</td>\n      <td>3575</td>\n      <td>3581</td>\n      <td>3588</td>\n      <td>3597</td>\n      <td>3604</td>\n      <td>3608</td>\n      <td>3619</td>\n      <td>3622</td>\n      <td>3632</td>\n    </tr>\n  </tbody>\n</table>\n<p>135 rows × 468 columns</p>\n</div>"
     },
     "metadata": {},
     "execution_count": 9
    }
   ],
   "source": [
    "covid_virginia = covid[virginia_filter]\n",
    "covid_virginia"
   ]
  },
  {
   "source": [
    "Then, check last day data and sum the values"
   ],
   "cell_type": "markdown",
   "metadata": {}
  },
  {
   "source": [
    "covid_virginia[last_day]"
   ],
   "cell_type": "code",
   "metadata": {},
   "execution_count": 21,
   "outputs": [
    {
     "output_type": "execute_result",
     "data": {
      "text/plain": [
       "3010     2777\n",
       "3011     5635\n",
       "3012    11522\n",
       "3013     1302\n",
       "3014      859\n",
       "        ...  \n",
       "3140      748\n",
       "3141     2793\n",
       "3142     3078\n",
       "3143     2536\n",
       "3144     3632\n",
       "Name: 4/22/21, Length: 135, dtype: int64"
      ]
     },
     "metadata": {},
     "execution_count": 21
    }
   ]
  },
  {
   "cell_type": "code",
   "execution_count": 11,
   "metadata": {},
   "outputs": [
    {
     "output_type": "execute_result",
     "data": {
      "text/plain": [
       "650981"
      ]
     },
     "metadata": {},
     "execution_count": 11
    }
   ],
   "source": [
    "sum(covid_virginia[last_day])"
   ]
  },
  {
   "source": [
    "## 3. Provide a bar chart displaying the new reported cases in Virginia over the last 10 days.\n",
    "To get the new cases reported on day \"n\" we need to calculate the diference between \"n\" and \"n-1\", where \"n-1\" is the day before n.\n",
    "\n",
    "First, get que last 11 days on the chart"
   ],
   "cell_type": "markdown",
   "metadata": {}
  },
  {
   "cell_type": "code",
   "execution_count": 12,
   "metadata": {},
   "outputs": [
    {
     "output_type": "execute_result",
     "data": {
      "text/plain": [
       "Index(['4/12/21', '4/13/21', '4/14/21', '4/15/21', '4/16/21', '4/17/21',\n",
       "       '4/18/21', '4/19/21', '4/20/21', '4/21/21', '4/22/21'],\n",
       "      dtype='object')"
      ]
     },
     "metadata": {},
     "execution_count": 12
    }
   ],
   "source": [
    "last_11_days = covid_virginia.columns[-11:]\n",
    "last_11_days"
   ]
  },
  {
   "cell_type": "code",
   "execution_count": 13,
   "metadata": {},
   "outputs": [
    {
     "output_type": "error",
     "ename": "SyntaxError",
     "evalue": "invalid syntax (<ipython-input-13-e2543ca905a4>, line 1)",
     "traceback": [
      "\u001b[1;36m  File \u001b[1;32m\"<ipython-input-13-e2543ca905a4>\"\u001b[1;36m, line \u001b[1;32m1\u001b[0m\n\u001b[1;33m    Then, sum the total cases reported of the last 11 days\u001b[0m\n\u001b[1;37m                                                          ^\u001b[0m\n\u001b[1;31mSyntaxError\u001b[0m\u001b[1;31m:\u001b[0m invalid syntax\n"
     ]
    }
   ],
   "source": [
    "Then, sum the total cases reported of the last 11 days"
   ]
  },
  {
   "cell_type": "code",
   "execution_count": 28,
   "metadata": {},
   "outputs": [
    {
     "output_type": "execute_result",
     "data": {
      "text/plain": [
       "[636862,\n",
       " 638910,\n",
       " 640211,\n",
       " 641626,\n",
       " 643220,\n",
       " 644828,\n",
       " 646133,\n",
       " 647111,\n",
       " 648347,\n",
       " 649608,\n",
       " 650981]"
      ]
     },
     "metadata": {},
     "execution_count": 28
    }
   ],
   "source": [
    "sum_last_11_days=[sum(covid_virginia[day]) for day in last_11_days]\n",
    "sum_last_11_days"
   ]
  },
  {
   "source": [
    "new_cases_last_10_days = []\n",
    "for i in range(len(sum_last_11_days)-1):\n",
    "    new_cases = sum_last_11_days[i+1]-sum_last_11_days[i]\n",
    "    new_cases_last_10_days.append(new_cases)\n",
    "new_cases_last_10_days"
   ],
   "cell_type": "code",
   "metadata": {},
   "execution_count": 33,
   "outputs": [
    {
     "output_type": "execute_result",
     "data": {
      "text/plain": [
       "[2048, 1301, 1415, 1594, 1608, 1305, 978, 1236, 1261, 1373]"
      ]
     },
     "metadata": {},
     "execution_count": 33
    }
   ]
  },
  {
   "source": [
    "Now, lets create a new table or dataframe, with the last days, and new cases"
   ],
   "cell_type": "markdown",
   "metadata": {}
  },
  {
   "cell_type": "code",
   "execution_count": 35,
   "metadata": {},
   "outputs": [
    {
     "output_type": "execute_result",
     "data": {
      "text/plain": [
       "       Day  New Cases\n",
       "0  4/13/21       2048\n",
       "1  4/14/21       1301\n",
       "2  4/15/21       1415\n",
       "3  4/16/21       1594\n",
       "4  4/17/21       1608\n",
       "5  4/18/21       1305\n",
       "6  4/19/21        978\n",
       "7  4/20/21       1236\n",
       "8  4/21/21       1261\n",
       "9  4/22/21       1373"
      ],
      "text/html": "<div>\n<style scoped>\n    .dataframe tbody tr th:only-of-type {\n        vertical-align: middle;\n    }\n\n    .dataframe tbody tr th {\n        vertical-align: top;\n    }\n\n    .dataframe thead th {\n        text-align: right;\n    }\n</style>\n<table border=\"1\" class=\"dataframe\">\n  <thead>\n    <tr style=\"text-align: right;\">\n      <th></th>\n      <th>Day</th>\n      <th>New Cases</th>\n    </tr>\n  </thead>\n  <tbody>\n    <tr>\n      <th>0</th>\n      <td>4/13/21</td>\n      <td>2048</td>\n    </tr>\n    <tr>\n      <th>1</th>\n      <td>4/14/21</td>\n      <td>1301</td>\n    </tr>\n    <tr>\n      <th>2</th>\n      <td>4/15/21</td>\n      <td>1415</td>\n    </tr>\n    <tr>\n      <th>3</th>\n      <td>4/16/21</td>\n      <td>1594</td>\n    </tr>\n    <tr>\n      <th>4</th>\n      <td>4/17/21</td>\n      <td>1608</td>\n    </tr>\n    <tr>\n      <th>5</th>\n      <td>4/18/21</td>\n      <td>1305</td>\n    </tr>\n    <tr>\n      <th>6</th>\n      <td>4/19/21</td>\n      <td>978</td>\n    </tr>\n    <tr>\n      <th>7</th>\n      <td>4/20/21</td>\n      <td>1236</td>\n    </tr>\n    <tr>\n      <th>8</th>\n      <td>4/21/21</td>\n      <td>1261</td>\n    </tr>\n    <tr>\n      <th>9</th>\n      <td>4/22/21</td>\n      <td>1373</td>\n    </tr>\n  </tbody>\n</table>\n</div>"
     },
     "metadata": {},
     "execution_count": 35
    }
   ],
   "source": [
    "df = pd.DataFrame({\n",
    "    \"Day\": covid_virginia.columns[-10:],\n",
    "    \"New Cases\": new_cases_last_10_days\n",
    "})\n",
    "df"
   ]
  },
  {
   "cell_type": "code",
   "execution_count": 50,
   "metadata": {},
   "outputs": [
    {
     "output_type": "execute_result",
     "data": {
      "text/plain": [
       "<AxesSubplot:xlabel='Day'>"
      ]
     },
     "metadata": {},
     "execution_count": 50
    },
    {
     "output_type": "display_data",
     "data": {
      "text/plain": "<Figure size 432x288 with 1 Axes>",
      "image/svg+xml": "<?xml version=\"1.0\" encoding=\"utf-8\" standalone=\"no\"?>\n<!DOCTYPE svg PUBLIC \"-//W3C//DTD SVG 1.1//EN\"\n  \"http://www.w3.org/Graphics/SVG/1.1/DTD/svg11.dtd\">\n<svg height=\"291.068125pt\" version=\"1.1\" viewBox=\"0 0 381.65 291.068125\" width=\"381.65pt\" xmlns=\"http://www.w3.org/2000/svg\" xmlns:xlink=\"http://www.w3.org/1999/xlink\">\n <metadata>\n  <rdf:RDF xmlns:cc=\"http://creativecommons.org/ns#\" xmlns:dc=\"http://purl.org/dc/elements/1.1/\" xmlns:rdf=\"http://www.w3.org/1999/02/22-rdf-syntax-ns#\">\n   <cc:Work>\n    <dc:type rdf:resource=\"http://purl.org/dc/dcmitype/StillImage\"/>\n    <dc:date>2021-04-25T00:35:07.210522</dc:date>\n    <dc:format>image/svg+xml</dc:format>\n    <dc:creator>\n     <cc:Agent>\n      <dc:title>Matplotlib v3.4.1, https://matplotlib.org/</dc:title>\n     </cc:Agent>\n    </dc:creator>\n   </cc:Work>\n  </rdf:RDF>\n </metadata>\n <defs>\n  <style type=\"text/css\">*{stroke-linecap:butt;stroke-linejoin:round;}</style>\n </defs>\n <g id=\"figure_1\">\n  <g id=\"patch_1\">\n   <path d=\"M -0 291.068125 \nL 381.65 291.068125 \nL 381.65 0 \nL -0 0 \nz\n\" style=\"fill:none;\"/>\n  </g>\n  <g id=\"axes_1\">\n   <g id=\"patch_2\">\n    <path d=\"M 39.65 224.64 \nL 374.45 224.64 \nL 374.45 7.2 \nL 39.65 7.2 \nz\n\" style=\"fill:#ffffff;\"/>\n   </g>\n   <g id=\"patch_3\">\n    <path clip-path=\"url(#p1490b237e7)\" d=\"M 48.02 224.64 \nL 64.76 224.64 \nL 64.76 17.554286 \nL 48.02 17.554286 \nz\n\" style=\"fill:#1f77b4;\"/>\n   </g>\n   <g id=\"patch_4\">\n    <path clip-path=\"url(#p1490b237e7)\" d=\"M 81.5 224.64 \nL 98.24 224.64 \nL 98.24 93.087991 \nL 81.5 93.087991 \nz\n\" style=\"fill:#1f77b4;\"/>\n   </g>\n   <g id=\"patch_5\">\n    <path clip-path=\"url(#p1490b237e7)\" d=\"M 114.98 224.64 \nL 131.72 224.64 \nL 131.72 81.560759 \nL 114.98 81.560759 \nz\n\" style=\"fill:#1f77b4;\"/>\n   </g>\n   <g id=\"patch_6\">\n    <path clip-path=\"url(#p1490b237e7)\" d=\"M 148.46 224.64 \nL 165.2 224.64 \nL 165.2 63.460982 \nL 148.46 63.460982 \nz\n\" style=\"fill:#1f77b4;\"/>\n   </g>\n   <g id=\"patch_7\">\n    <path clip-path=\"url(#p1490b237e7)\" d=\"M 181.94 224.64 \nL 198.68 224.64 \nL 198.68 62.045357 \nL 181.94 62.045357 \nz\n\" style=\"fill:#1f77b4;\"/>\n   </g>\n   <g id=\"patch_8\">\n    <path clip-path=\"url(#p1490b237e7)\" d=\"M 215.42 224.64 \nL 232.16 224.64 \nL 232.16 92.683527 \nL 215.42 92.683527 \nz\n\" style=\"fill:#1f77b4;\"/>\n   </g>\n   <g id=\"patch_9\">\n    <path clip-path=\"url(#p1490b237e7)\" d=\"M 248.9 224.64 \nL 265.64 224.64 \nL 265.64 125.748482 \nL 248.9 125.748482 \nz\n\" style=\"fill:#1f77b4;\"/>\n   </g>\n   <g id=\"patch_10\">\n    <path clip-path=\"url(#p1490b237e7)\" d=\"M 282.38 224.64 \nL 299.12 224.64 \nL 299.12 99.660536 \nL 282.38 99.660536 \nz\n\" style=\"fill:#1f77b4;\"/>\n   </g>\n   <g id=\"patch_11\">\n    <path clip-path=\"url(#p1490b237e7)\" d=\"M 315.86 224.64 \nL 332.6 224.64 \nL 332.6 97.132634 \nL 315.86 97.132634 \nz\n\" style=\"fill:#1f77b4;\"/>\n   </g>\n   <g id=\"patch_12\">\n    <path clip-path=\"url(#p1490b237e7)\" d=\"M 349.34 224.64 \nL 366.08 224.64 \nL 366.08 85.807634 \nL 349.34 85.807634 \nz\n\" style=\"fill:#1f77b4;\"/>\n   </g>\n   <g id=\"matplotlib.axis_1\">\n    <g id=\"xtick_1\">\n     <g id=\"line2d_1\">\n      <defs>\n       <path d=\"M 0 0 \nL 0 3.5 \n\" id=\"m731f38fa69\" style=\"stroke:#000000;stroke-width:0.8;\"/>\n      </defs>\n      <g>\n       <use style=\"stroke:#000000;stroke-width:0.8;\" x=\"56.39\" xlink:href=\"#m731f38fa69\" y=\"224.64\"/>\n      </g>\n     </g>\n     <g id=\"text_1\">\n      <!-- 4/13/21 -->\n      <g transform=\"translate(59.149375 270.19)rotate(-90)scale(0.1 -0.1)\">\n       <defs>\n        <path d=\"M 2419 4116 \nL 825 1625 \nL 2419 1625 \nL 2419 4116 \nz\nM 2253 4666 \nL 3047 4666 \nL 3047 1625 \nL 3713 1625 \nL 3713 1100 \nL 3047 1100 \nL 3047 0 \nL 2419 0 \nL 2419 1100 \nL 313 1100 \nL 313 1709 \nL 2253 4666 \nz\n\" id=\"DejaVuSans-34\" transform=\"scale(0.015625)\"/>\n        <path d=\"M 1625 4666 \nL 2156 4666 \nL 531 -594 \nL 0 -594 \nL 1625 4666 \nz\n\" id=\"DejaVuSans-2f\" transform=\"scale(0.015625)\"/>\n        <path d=\"M 794 531 \nL 1825 531 \nL 1825 4091 \nL 703 3866 \nL 703 4441 \nL 1819 4666 \nL 2450 4666 \nL 2450 531 \nL 3481 531 \nL 3481 0 \nL 794 0 \nL 794 531 \nz\n\" id=\"DejaVuSans-31\" transform=\"scale(0.015625)\"/>\n        <path d=\"M 2597 2516 \nQ 3050 2419 3304 2112 \nQ 3559 1806 3559 1356 \nQ 3559 666 3084 287 \nQ 2609 -91 1734 -91 \nQ 1441 -91 1130 -33 \nQ 819 25 488 141 \nL 488 750 \nQ 750 597 1062 519 \nQ 1375 441 1716 441 \nQ 2309 441 2620 675 \nQ 2931 909 2931 1356 \nQ 2931 1769 2642 2001 \nQ 2353 2234 1838 2234 \nL 1294 2234 \nL 1294 2753 \nL 1863 2753 \nQ 2328 2753 2575 2939 \nQ 2822 3125 2822 3475 \nQ 2822 3834 2567 4026 \nQ 2313 4219 1838 4219 \nQ 1578 4219 1281 4162 \nQ 984 4106 628 3988 \nL 628 4550 \nQ 988 4650 1302 4700 \nQ 1616 4750 1894 4750 \nQ 2613 4750 3031 4423 \nQ 3450 4097 3450 3541 \nQ 3450 3153 3228 2886 \nQ 3006 2619 2597 2516 \nz\n\" id=\"DejaVuSans-33\" transform=\"scale(0.015625)\"/>\n        <path d=\"M 1228 531 \nL 3431 531 \nL 3431 0 \nL 469 0 \nL 469 531 \nQ 828 903 1448 1529 \nQ 2069 2156 2228 2338 \nQ 2531 2678 2651 2914 \nQ 2772 3150 2772 3378 \nQ 2772 3750 2511 3984 \nQ 2250 4219 1831 4219 \nQ 1534 4219 1204 4116 \nQ 875 4013 500 3803 \nL 500 4441 \nQ 881 4594 1212 4672 \nQ 1544 4750 1819 4750 \nQ 2544 4750 2975 4387 \nQ 3406 4025 3406 3419 \nQ 3406 3131 3298 2873 \nQ 3191 2616 2906 2266 \nQ 2828 2175 2409 1742 \nQ 1991 1309 1228 531 \nz\n\" id=\"DejaVuSans-32\" transform=\"scale(0.015625)\"/>\n       </defs>\n       <use xlink:href=\"#DejaVuSans-34\"/>\n       <use x=\"63.623047\" xlink:href=\"#DejaVuSans-2f\"/>\n       <use x=\"97.314453\" xlink:href=\"#DejaVuSans-31\"/>\n       <use x=\"160.9375\" xlink:href=\"#DejaVuSans-33\"/>\n       <use x=\"224.560547\" xlink:href=\"#DejaVuSans-2f\"/>\n       <use x=\"258.251953\" xlink:href=\"#DejaVuSans-32\"/>\n       <use x=\"321.875\" xlink:href=\"#DejaVuSans-31\"/>\n      </g>\n     </g>\n    </g>\n    <g id=\"xtick_2\">\n     <g id=\"line2d_2\">\n      <g>\n       <use style=\"stroke:#000000;stroke-width:0.8;\" x=\"89.87\" xlink:href=\"#m731f38fa69\" y=\"224.64\"/>\n      </g>\n     </g>\n     <g id=\"text_2\">\n      <!-- 4/14/21 -->\n      <g transform=\"translate(92.629375 270.19)rotate(-90)scale(0.1 -0.1)\">\n       <use xlink:href=\"#DejaVuSans-34\"/>\n       <use x=\"63.623047\" xlink:href=\"#DejaVuSans-2f\"/>\n       <use x=\"97.314453\" xlink:href=\"#DejaVuSans-31\"/>\n       <use x=\"160.9375\" xlink:href=\"#DejaVuSans-34\"/>\n       <use x=\"224.560547\" xlink:href=\"#DejaVuSans-2f\"/>\n       <use x=\"258.251953\" xlink:href=\"#DejaVuSans-32\"/>\n       <use x=\"321.875\" xlink:href=\"#DejaVuSans-31\"/>\n      </g>\n     </g>\n    </g>\n    <g id=\"xtick_3\">\n     <g id=\"line2d_3\">\n      <g>\n       <use style=\"stroke:#000000;stroke-width:0.8;\" x=\"123.35\" xlink:href=\"#m731f38fa69\" y=\"224.64\"/>\n      </g>\n     </g>\n     <g id=\"text_3\">\n      <!-- 4/15/21 -->\n      <g transform=\"translate(126.109375 270.19)rotate(-90)scale(0.1 -0.1)\">\n       <defs>\n        <path d=\"M 691 4666 \nL 3169 4666 \nL 3169 4134 \nL 1269 4134 \nL 1269 2991 \nQ 1406 3038 1543 3061 \nQ 1681 3084 1819 3084 \nQ 2600 3084 3056 2656 \nQ 3513 2228 3513 1497 \nQ 3513 744 3044 326 \nQ 2575 -91 1722 -91 \nQ 1428 -91 1123 -41 \nQ 819 9 494 109 \nL 494 744 \nQ 775 591 1075 516 \nQ 1375 441 1709 441 \nQ 2250 441 2565 725 \nQ 2881 1009 2881 1497 \nQ 2881 1984 2565 2268 \nQ 2250 2553 1709 2553 \nQ 1456 2553 1204 2497 \nQ 953 2441 691 2322 \nL 691 4666 \nz\n\" id=\"DejaVuSans-35\" transform=\"scale(0.015625)\"/>\n       </defs>\n       <use xlink:href=\"#DejaVuSans-34\"/>\n       <use x=\"63.623047\" xlink:href=\"#DejaVuSans-2f\"/>\n       <use x=\"97.314453\" xlink:href=\"#DejaVuSans-31\"/>\n       <use x=\"160.9375\" xlink:href=\"#DejaVuSans-35\"/>\n       <use x=\"224.560547\" xlink:href=\"#DejaVuSans-2f\"/>\n       <use x=\"258.251953\" xlink:href=\"#DejaVuSans-32\"/>\n       <use x=\"321.875\" xlink:href=\"#DejaVuSans-31\"/>\n      </g>\n     </g>\n    </g>\n    <g id=\"xtick_4\">\n     <g id=\"line2d_4\">\n      <g>\n       <use style=\"stroke:#000000;stroke-width:0.8;\" x=\"156.83\" xlink:href=\"#m731f38fa69\" y=\"224.64\"/>\n      </g>\n     </g>\n     <g id=\"text_4\">\n      <!-- 4/16/21 -->\n      <g transform=\"translate(159.589375 270.19)rotate(-90)scale(0.1 -0.1)\">\n       <defs>\n        <path d=\"M 2113 2584 \nQ 1688 2584 1439 2293 \nQ 1191 2003 1191 1497 \nQ 1191 994 1439 701 \nQ 1688 409 2113 409 \nQ 2538 409 2786 701 \nQ 3034 994 3034 1497 \nQ 3034 2003 2786 2293 \nQ 2538 2584 2113 2584 \nz\nM 3366 4563 \nL 3366 3988 \nQ 3128 4100 2886 4159 \nQ 2644 4219 2406 4219 \nQ 1781 4219 1451 3797 \nQ 1122 3375 1075 2522 \nQ 1259 2794 1537 2939 \nQ 1816 3084 2150 3084 \nQ 2853 3084 3261 2657 \nQ 3669 2231 3669 1497 \nQ 3669 778 3244 343 \nQ 2819 -91 2113 -91 \nQ 1303 -91 875 529 \nQ 447 1150 447 2328 \nQ 447 3434 972 4092 \nQ 1497 4750 2381 4750 \nQ 2619 4750 2861 4703 \nQ 3103 4656 3366 4563 \nz\n\" id=\"DejaVuSans-36\" transform=\"scale(0.015625)\"/>\n       </defs>\n       <use xlink:href=\"#DejaVuSans-34\"/>\n       <use x=\"63.623047\" xlink:href=\"#DejaVuSans-2f\"/>\n       <use x=\"97.314453\" xlink:href=\"#DejaVuSans-31\"/>\n       <use x=\"160.9375\" xlink:href=\"#DejaVuSans-36\"/>\n       <use x=\"224.560547\" xlink:href=\"#DejaVuSans-2f\"/>\n       <use x=\"258.251953\" xlink:href=\"#DejaVuSans-32\"/>\n       <use x=\"321.875\" xlink:href=\"#DejaVuSans-31\"/>\n      </g>\n     </g>\n    </g>\n    <g id=\"xtick_5\">\n     <g id=\"line2d_5\">\n      <g>\n       <use style=\"stroke:#000000;stroke-width:0.8;\" x=\"190.31\" xlink:href=\"#m731f38fa69\" y=\"224.64\"/>\n      </g>\n     </g>\n     <g id=\"text_5\">\n      <!-- 4/17/21 -->\n      <g transform=\"translate(193.069375 270.19)rotate(-90)scale(0.1 -0.1)\">\n       <defs>\n        <path d=\"M 525 4666 \nL 3525 4666 \nL 3525 4397 \nL 1831 0 \nL 1172 0 \nL 2766 4134 \nL 525 4134 \nL 525 4666 \nz\n\" id=\"DejaVuSans-37\" transform=\"scale(0.015625)\"/>\n       </defs>\n       <use xlink:href=\"#DejaVuSans-34\"/>\n       <use x=\"63.623047\" xlink:href=\"#DejaVuSans-2f\"/>\n       <use x=\"97.314453\" xlink:href=\"#DejaVuSans-31\"/>\n       <use x=\"160.9375\" xlink:href=\"#DejaVuSans-37\"/>\n       <use x=\"224.560547\" xlink:href=\"#DejaVuSans-2f\"/>\n       <use x=\"258.251953\" xlink:href=\"#DejaVuSans-32\"/>\n       <use x=\"321.875\" xlink:href=\"#DejaVuSans-31\"/>\n      </g>\n     </g>\n    </g>\n    <g id=\"xtick_6\">\n     <g id=\"line2d_6\">\n      <g>\n       <use style=\"stroke:#000000;stroke-width:0.8;\" x=\"223.79\" xlink:href=\"#m731f38fa69\" y=\"224.64\"/>\n      </g>\n     </g>\n     <g id=\"text_6\">\n      <!-- 4/18/21 -->\n      <g transform=\"translate(226.549375 270.19)rotate(-90)scale(0.1 -0.1)\">\n       <defs>\n        <path d=\"M 2034 2216 \nQ 1584 2216 1326 1975 \nQ 1069 1734 1069 1313 \nQ 1069 891 1326 650 \nQ 1584 409 2034 409 \nQ 2484 409 2743 651 \nQ 3003 894 3003 1313 \nQ 3003 1734 2745 1975 \nQ 2488 2216 2034 2216 \nz\nM 1403 2484 \nQ 997 2584 770 2862 \nQ 544 3141 544 3541 \nQ 544 4100 942 4425 \nQ 1341 4750 2034 4750 \nQ 2731 4750 3128 4425 \nQ 3525 4100 3525 3541 \nQ 3525 3141 3298 2862 \nQ 3072 2584 2669 2484 \nQ 3125 2378 3379 2068 \nQ 3634 1759 3634 1313 \nQ 3634 634 3220 271 \nQ 2806 -91 2034 -91 \nQ 1263 -91 848 271 \nQ 434 634 434 1313 \nQ 434 1759 690 2068 \nQ 947 2378 1403 2484 \nz\nM 1172 3481 \nQ 1172 3119 1398 2916 \nQ 1625 2713 2034 2713 \nQ 2441 2713 2670 2916 \nQ 2900 3119 2900 3481 \nQ 2900 3844 2670 4047 \nQ 2441 4250 2034 4250 \nQ 1625 4250 1398 4047 \nQ 1172 3844 1172 3481 \nz\n\" id=\"DejaVuSans-38\" transform=\"scale(0.015625)\"/>\n       </defs>\n       <use xlink:href=\"#DejaVuSans-34\"/>\n       <use x=\"63.623047\" xlink:href=\"#DejaVuSans-2f\"/>\n       <use x=\"97.314453\" xlink:href=\"#DejaVuSans-31\"/>\n       <use x=\"160.9375\" xlink:href=\"#DejaVuSans-38\"/>\n       <use x=\"224.560547\" xlink:href=\"#DejaVuSans-2f\"/>\n       <use x=\"258.251953\" xlink:href=\"#DejaVuSans-32\"/>\n       <use x=\"321.875\" xlink:href=\"#DejaVuSans-31\"/>\n      </g>\n     </g>\n    </g>\n    <g id=\"xtick_7\">\n     <g id=\"line2d_7\">\n      <g>\n       <use style=\"stroke:#000000;stroke-width:0.8;\" x=\"257.27\" xlink:href=\"#m731f38fa69\" y=\"224.64\"/>\n      </g>\n     </g>\n     <g id=\"text_7\">\n      <!-- 4/19/21 -->\n      <g transform=\"translate(260.029375 270.19)rotate(-90)scale(0.1 -0.1)\">\n       <defs>\n        <path d=\"M 703 97 \nL 703 672 \nQ 941 559 1184 500 \nQ 1428 441 1663 441 \nQ 2288 441 2617 861 \nQ 2947 1281 2994 2138 \nQ 2813 1869 2534 1725 \nQ 2256 1581 1919 1581 \nQ 1219 1581 811 2004 \nQ 403 2428 403 3163 \nQ 403 3881 828 4315 \nQ 1253 4750 1959 4750 \nQ 2769 4750 3195 4129 \nQ 3622 3509 3622 2328 \nQ 3622 1225 3098 567 \nQ 2575 -91 1691 -91 \nQ 1453 -91 1209 -44 \nQ 966 3 703 97 \nz\nM 1959 2075 \nQ 2384 2075 2632 2365 \nQ 2881 2656 2881 3163 \nQ 2881 3666 2632 3958 \nQ 2384 4250 1959 4250 \nQ 1534 4250 1286 3958 \nQ 1038 3666 1038 3163 \nQ 1038 2656 1286 2365 \nQ 1534 2075 1959 2075 \nz\n\" id=\"DejaVuSans-39\" transform=\"scale(0.015625)\"/>\n       </defs>\n       <use xlink:href=\"#DejaVuSans-34\"/>\n       <use x=\"63.623047\" xlink:href=\"#DejaVuSans-2f\"/>\n       <use x=\"97.314453\" xlink:href=\"#DejaVuSans-31\"/>\n       <use x=\"160.9375\" xlink:href=\"#DejaVuSans-39\"/>\n       <use x=\"224.560547\" xlink:href=\"#DejaVuSans-2f\"/>\n       <use x=\"258.251953\" xlink:href=\"#DejaVuSans-32\"/>\n       <use x=\"321.875\" xlink:href=\"#DejaVuSans-31\"/>\n      </g>\n     </g>\n    </g>\n    <g id=\"xtick_8\">\n     <g id=\"line2d_8\">\n      <g>\n       <use style=\"stroke:#000000;stroke-width:0.8;\" x=\"290.75\" xlink:href=\"#m731f38fa69\" y=\"224.64\"/>\n      </g>\n     </g>\n     <g id=\"text_8\">\n      <!-- 4/20/21 -->\n      <g transform=\"translate(293.509375 270.19)rotate(-90)scale(0.1 -0.1)\">\n       <defs>\n        <path d=\"M 2034 4250 \nQ 1547 4250 1301 3770 \nQ 1056 3291 1056 2328 \nQ 1056 1369 1301 889 \nQ 1547 409 2034 409 \nQ 2525 409 2770 889 \nQ 3016 1369 3016 2328 \nQ 3016 3291 2770 3770 \nQ 2525 4250 2034 4250 \nz\nM 2034 4750 \nQ 2819 4750 3233 4129 \nQ 3647 3509 3647 2328 \nQ 3647 1150 3233 529 \nQ 2819 -91 2034 -91 \nQ 1250 -91 836 529 \nQ 422 1150 422 2328 \nQ 422 3509 836 4129 \nQ 1250 4750 2034 4750 \nz\n\" id=\"DejaVuSans-30\" transform=\"scale(0.015625)\"/>\n       </defs>\n       <use xlink:href=\"#DejaVuSans-34\"/>\n       <use x=\"63.623047\" xlink:href=\"#DejaVuSans-2f\"/>\n       <use x=\"97.314453\" xlink:href=\"#DejaVuSans-32\"/>\n       <use x=\"160.9375\" xlink:href=\"#DejaVuSans-30\"/>\n       <use x=\"224.560547\" xlink:href=\"#DejaVuSans-2f\"/>\n       <use x=\"258.251953\" xlink:href=\"#DejaVuSans-32\"/>\n       <use x=\"321.875\" xlink:href=\"#DejaVuSans-31\"/>\n      </g>\n     </g>\n    </g>\n    <g id=\"xtick_9\">\n     <g id=\"line2d_9\">\n      <g>\n       <use style=\"stroke:#000000;stroke-width:0.8;\" x=\"324.23\" xlink:href=\"#m731f38fa69\" y=\"224.64\"/>\n      </g>\n     </g>\n     <g id=\"text_9\">\n      <!-- 4/21/21 -->\n      <g transform=\"translate(326.989375 270.19)rotate(-90)scale(0.1 -0.1)\">\n       <use xlink:href=\"#DejaVuSans-34\"/>\n       <use x=\"63.623047\" xlink:href=\"#DejaVuSans-2f\"/>\n       <use x=\"97.314453\" xlink:href=\"#DejaVuSans-32\"/>\n       <use x=\"160.9375\" xlink:href=\"#DejaVuSans-31\"/>\n       <use x=\"224.560547\" xlink:href=\"#DejaVuSans-2f\"/>\n       <use x=\"258.251953\" xlink:href=\"#DejaVuSans-32\"/>\n       <use x=\"321.875\" xlink:href=\"#DejaVuSans-31\"/>\n      </g>\n     </g>\n    </g>\n    <g id=\"xtick_10\">\n     <g id=\"line2d_10\">\n      <g>\n       <use style=\"stroke:#000000;stroke-width:0.8;\" x=\"357.71\" xlink:href=\"#m731f38fa69\" y=\"224.64\"/>\n      </g>\n     </g>\n     <g id=\"text_10\">\n      <!-- 4/22/21 -->\n      <g transform=\"translate(360.469375 270.19)rotate(-90)scale(0.1 -0.1)\">\n       <use xlink:href=\"#DejaVuSans-34\"/>\n       <use x=\"63.623047\" xlink:href=\"#DejaVuSans-2f\"/>\n       <use x=\"97.314453\" xlink:href=\"#DejaVuSans-32\"/>\n       <use x=\"160.9375\" xlink:href=\"#DejaVuSans-32\"/>\n       <use x=\"224.560547\" xlink:href=\"#DejaVuSans-2f\"/>\n       <use x=\"258.251953\" xlink:href=\"#DejaVuSans-32\"/>\n       <use x=\"321.875\" xlink:href=\"#DejaVuSans-31\"/>\n      </g>\n     </g>\n    </g>\n    <g id=\"text_11\">\n     <!-- Day -->\n     <g transform=\"translate(197.176563 281.788438)scale(0.1 -0.1)\">\n      <defs>\n       <path d=\"M 1259 4147 \nL 1259 519 \nL 2022 519 \nQ 2988 519 3436 956 \nQ 3884 1394 3884 2338 \nQ 3884 3275 3436 3711 \nQ 2988 4147 2022 4147 \nL 1259 4147 \nz\nM 628 4666 \nL 1925 4666 \nQ 3281 4666 3915 4102 \nQ 4550 3538 4550 2338 \nQ 4550 1131 3912 565 \nQ 3275 0 1925 0 \nL 628 0 \nL 628 4666 \nz\n\" id=\"DejaVuSans-44\" transform=\"scale(0.015625)\"/>\n       <path d=\"M 2194 1759 \nQ 1497 1759 1228 1600 \nQ 959 1441 959 1056 \nQ 959 750 1161 570 \nQ 1363 391 1709 391 \nQ 2188 391 2477 730 \nQ 2766 1069 2766 1631 \nL 2766 1759 \nL 2194 1759 \nz\nM 3341 1997 \nL 3341 0 \nL 2766 0 \nL 2766 531 \nQ 2569 213 2275 61 \nQ 1981 -91 1556 -91 \nQ 1019 -91 701 211 \nQ 384 513 384 1019 \nQ 384 1609 779 1909 \nQ 1175 2209 1959 2209 \nL 2766 2209 \nL 2766 2266 \nQ 2766 2663 2505 2880 \nQ 2244 3097 1772 3097 \nQ 1472 3097 1187 3025 \nQ 903 2953 641 2809 \nL 641 3341 \nQ 956 3463 1253 3523 \nQ 1550 3584 1831 3584 \nQ 2591 3584 2966 3190 \nQ 3341 2797 3341 1997 \nz\n\" id=\"DejaVuSans-61\" transform=\"scale(0.015625)\"/>\n       <path d=\"M 2059 -325 \nQ 1816 -950 1584 -1140 \nQ 1353 -1331 966 -1331 \nL 506 -1331 \nL 506 -850 \nL 844 -850 \nQ 1081 -850 1212 -737 \nQ 1344 -625 1503 -206 \nL 1606 56 \nL 191 3500 \nL 800 3500 \nL 1894 763 \nL 2988 3500 \nL 3597 3500 \nL 2059 -325 \nz\n\" id=\"DejaVuSans-79\" transform=\"scale(0.015625)\"/>\n      </defs>\n      <use xlink:href=\"#DejaVuSans-44\"/>\n      <use x=\"77.001953\" xlink:href=\"#DejaVuSans-61\"/>\n      <use x=\"138.28125\" xlink:href=\"#DejaVuSans-79\"/>\n     </g>\n    </g>\n   </g>\n   <g id=\"matplotlib.axis_2\">\n    <g id=\"ytick_1\">\n     <g id=\"line2d_11\">\n      <defs>\n       <path d=\"M 0 0 \nL -3.5 0 \n\" id=\"m1a8776ca8a\" style=\"stroke:#000000;stroke-width:0.8;\"/>\n      </defs>\n      <g>\n       <use style=\"stroke:#000000;stroke-width:0.8;\" x=\"39.65\" xlink:href=\"#m1a8776ca8a\" y=\"224.64\"/>\n      </g>\n     </g>\n     <g id=\"text_12\">\n      <!-- 0 -->\n      <g transform=\"translate(26.2875 228.439219)scale(0.1 -0.1)\">\n       <use xlink:href=\"#DejaVuSans-30\"/>\n      </g>\n     </g>\n    </g>\n    <g id=\"ytick_2\">\n     <g id=\"line2d_12\">\n      <g>\n       <use style=\"stroke:#000000;stroke-width:0.8;\" x=\"39.65\" xlink:href=\"#m1a8776ca8a\" y=\"199.360982\"/>\n      </g>\n     </g>\n     <g id=\"text_13\">\n      <!-- 250 -->\n      <g transform=\"translate(13.5625 203.160201)scale(0.1 -0.1)\">\n       <use xlink:href=\"#DejaVuSans-32\"/>\n       <use x=\"63.623047\" xlink:href=\"#DejaVuSans-35\"/>\n       <use x=\"127.246094\" xlink:href=\"#DejaVuSans-30\"/>\n      </g>\n     </g>\n    </g>\n    <g id=\"ytick_3\">\n     <g id=\"line2d_13\">\n      <g>\n       <use style=\"stroke:#000000;stroke-width:0.8;\" x=\"39.65\" xlink:href=\"#m1a8776ca8a\" y=\"174.081964\"/>\n      </g>\n     </g>\n     <g id=\"text_14\">\n      <!-- 500 -->\n      <g transform=\"translate(13.5625 177.881183)scale(0.1 -0.1)\">\n       <use xlink:href=\"#DejaVuSans-35\"/>\n       <use x=\"63.623047\" xlink:href=\"#DejaVuSans-30\"/>\n       <use x=\"127.246094\" xlink:href=\"#DejaVuSans-30\"/>\n      </g>\n     </g>\n    </g>\n    <g id=\"ytick_4\">\n     <g id=\"line2d_14\">\n      <g>\n       <use style=\"stroke:#000000;stroke-width:0.8;\" x=\"39.65\" xlink:href=\"#m1a8776ca8a\" y=\"148.802946\"/>\n      </g>\n     </g>\n     <g id=\"text_15\">\n      <!-- 750 -->\n      <g transform=\"translate(13.5625 152.602165)scale(0.1 -0.1)\">\n       <use xlink:href=\"#DejaVuSans-37\"/>\n       <use x=\"63.623047\" xlink:href=\"#DejaVuSans-35\"/>\n       <use x=\"127.246094\" xlink:href=\"#DejaVuSans-30\"/>\n      </g>\n     </g>\n    </g>\n    <g id=\"ytick_5\">\n     <g id=\"line2d_15\">\n      <g>\n       <use style=\"stroke:#000000;stroke-width:0.8;\" x=\"39.65\" xlink:href=\"#m1a8776ca8a\" y=\"123.523929\"/>\n      </g>\n     </g>\n     <g id=\"text_16\">\n      <!-- 1000 -->\n      <g transform=\"translate(7.2 127.323147)scale(0.1 -0.1)\">\n       <use xlink:href=\"#DejaVuSans-31\"/>\n       <use x=\"63.623047\" xlink:href=\"#DejaVuSans-30\"/>\n       <use x=\"127.246094\" xlink:href=\"#DejaVuSans-30\"/>\n       <use x=\"190.869141\" xlink:href=\"#DejaVuSans-30\"/>\n      </g>\n     </g>\n    </g>\n    <g id=\"ytick_6\">\n     <g id=\"line2d_16\">\n      <g>\n       <use style=\"stroke:#000000;stroke-width:0.8;\" x=\"39.65\" xlink:href=\"#m1a8776ca8a\" y=\"98.244911\"/>\n      </g>\n     </g>\n     <g id=\"text_17\">\n      <!-- 1250 -->\n      <g transform=\"translate(7.2 102.044129)scale(0.1 -0.1)\">\n       <use xlink:href=\"#DejaVuSans-31\"/>\n       <use x=\"63.623047\" xlink:href=\"#DejaVuSans-32\"/>\n       <use x=\"127.246094\" xlink:href=\"#DejaVuSans-35\"/>\n       <use x=\"190.869141\" xlink:href=\"#DejaVuSans-30\"/>\n      </g>\n     </g>\n    </g>\n    <g id=\"ytick_7\">\n     <g id=\"line2d_17\">\n      <g>\n       <use style=\"stroke:#000000;stroke-width:0.8;\" x=\"39.65\" xlink:href=\"#m1a8776ca8a\" y=\"72.965893\"/>\n      </g>\n     </g>\n     <g id=\"text_18\">\n      <!-- 1500 -->\n      <g transform=\"translate(7.2 76.765112)scale(0.1 -0.1)\">\n       <use xlink:href=\"#DejaVuSans-31\"/>\n       <use x=\"63.623047\" xlink:href=\"#DejaVuSans-35\"/>\n       <use x=\"127.246094\" xlink:href=\"#DejaVuSans-30\"/>\n       <use x=\"190.869141\" xlink:href=\"#DejaVuSans-30\"/>\n      </g>\n     </g>\n    </g>\n    <g id=\"ytick_8\">\n     <g id=\"line2d_18\">\n      <g>\n       <use style=\"stroke:#000000;stroke-width:0.8;\" x=\"39.65\" xlink:href=\"#m1a8776ca8a\" y=\"47.686875\"/>\n      </g>\n     </g>\n     <g id=\"text_19\">\n      <!-- 1750 -->\n      <g transform=\"translate(7.2 51.486094)scale(0.1 -0.1)\">\n       <use xlink:href=\"#DejaVuSans-31\"/>\n       <use x=\"63.623047\" xlink:href=\"#DejaVuSans-37\"/>\n       <use x=\"127.246094\" xlink:href=\"#DejaVuSans-35\"/>\n       <use x=\"190.869141\" xlink:href=\"#DejaVuSans-30\"/>\n      </g>\n     </g>\n    </g>\n    <g id=\"ytick_9\">\n     <g id=\"line2d_19\">\n      <g>\n       <use style=\"stroke:#000000;stroke-width:0.8;\" x=\"39.65\" xlink:href=\"#m1a8776ca8a\" y=\"22.407857\"/>\n      </g>\n     </g>\n     <g id=\"text_20\">\n      <!-- 2000 -->\n      <g transform=\"translate(7.2 26.207076)scale(0.1 -0.1)\">\n       <use xlink:href=\"#DejaVuSans-32\"/>\n       <use x=\"63.623047\" xlink:href=\"#DejaVuSans-30\"/>\n       <use x=\"127.246094\" xlink:href=\"#DejaVuSans-30\"/>\n       <use x=\"190.869141\" xlink:href=\"#DejaVuSans-30\"/>\n      </g>\n     </g>\n    </g>\n   </g>\n   <g id=\"patch_13\">\n    <path d=\"M 39.65 224.64 \nL 39.65 7.2 \n\" style=\"fill:none;stroke:#000000;stroke-linecap:square;stroke-linejoin:miter;stroke-width:0.8;\"/>\n   </g>\n   <g id=\"patch_14\">\n    <path d=\"M 374.45 224.64 \nL 374.45 7.2 \n\" style=\"fill:none;stroke:#000000;stroke-linecap:square;stroke-linejoin:miter;stroke-width:0.8;\"/>\n   </g>\n   <g id=\"patch_15\">\n    <path d=\"M 39.65 224.64 \nL 374.45 224.64 \n\" style=\"fill:none;stroke:#000000;stroke-linecap:square;stroke-linejoin:miter;stroke-width:0.8;\"/>\n   </g>\n   <g id=\"patch_16\">\n    <path d=\"M 39.65 7.2 \nL 374.45 7.2 \n\" style=\"fill:none;stroke:#000000;stroke-linecap:square;stroke-linejoin:miter;stroke-width:0.8;\"/>\n   </g>\n   <g id=\"legend_1\">\n    <g id=\"patch_17\">\n     <path d=\"M 280.776563 29.878125 \nL 367.45 29.878125 \nQ 369.45 29.878125 369.45 27.878125 \nL 369.45 14.2 \nQ 369.45 12.2 367.45 12.2 \nL 280.776563 12.2 \nQ 278.776563 12.2 278.776563 14.2 \nL 278.776563 27.878125 \nQ 278.776563 29.878125 280.776563 29.878125 \nz\n\" style=\"fill:#ffffff;opacity:0.8;stroke:#cccccc;stroke-linejoin:miter;\"/>\n    </g>\n    <g id=\"patch_18\">\n     <path d=\"M 282.776563 23.798437 \nL 302.776563 23.798437 \nL 302.776563 16.798437 \nL 282.776563 16.798437 \nz\n\" style=\"fill:#1f77b4;\"/>\n    </g>\n    <g id=\"text_21\">\n     <!-- New Cases -->\n     <g transform=\"translate(310.776563 23.798437)scale(0.1 -0.1)\">\n      <defs>\n       <path d=\"M 628 4666 \nL 1478 4666 \nL 3547 763 \nL 3547 4666 \nL 4159 4666 \nL 4159 0 \nL 3309 0 \nL 1241 3903 \nL 1241 0 \nL 628 0 \nL 628 4666 \nz\n\" id=\"DejaVuSans-4e\" transform=\"scale(0.015625)\"/>\n       <path d=\"M 3597 1894 \nL 3597 1613 \nL 953 1613 \nQ 991 1019 1311 708 \nQ 1631 397 2203 397 \nQ 2534 397 2845 478 \nQ 3156 559 3463 722 \nL 3463 178 \nQ 3153 47 2828 -22 \nQ 2503 -91 2169 -91 \nQ 1331 -91 842 396 \nQ 353 884 353 1716 \nQ 353 2575 817 3079 \nQ 1281 3584 2069 3584 \nQ 2775 3584 3186 3129 \nQ 3597 2675 3597 1894 \nz\nM 3022 2063 \nQ 3016 2534 2758 2815 \nQ 2500 3097 2075 3097 \nQ 1594 3097 1305 2825 \nQ 1016 2553 972 2059 \nL 3022 2063 \nz\n\" id=\"DejaVuSans-65\" transform=\"scale(0.015625)\"/>\n       <path d=\"M 269 3500 \nL 844 3500 \nL 1563 769 \nL 2278 3500 \nL 2956 3500 \nL 3675 769 \nL 4391 3500 \nL 4966 3500 \nL 4050 0 \nL 3372 0 \nL 2619 2869 \nL 1863 0 \nL 1184 0 \nL 269 3500 \nz\n\" id=\"DejaVuSans-77\" transform=\"scale(0.015625)\"/>\n       <path id=\"DejaVuSans-20\" transform=\"scale(0.015625)\"/>\n       <path d=\"M 4122 4306 \nL 4122 3641 \nQ 3803 3938 3442 4084 \nQ 3081 4231 2675 4231 \nQ 1875 4231 1450 3742 \nQ 1025 3253 1025 2328 \nQ 1025 1406 1450 917 \nQ 1875 428 2675 428 \nQ 3081 428 3442 575 \nQ 3803 722 4122 1019 \nL 4122 359 \nQ 3791 134 3420 21 \nQ 3050 -91 2638 -91 \nQ 1578 -91 968 557 \nQ 359 1206 359 2328 \nQ 359 3453 968 4101 \nQ 1578 4750 2638 4750 \nQ 3056 4750 3426 4639 \nQ 3797 4528 4122 4306 \nz\n\" id=\"DejaVuSans-43\" transform=\"scale(0.015625)\"/>\n       <path d=\"M 2834 3397 \nL 2834 2853 \nQ 2591 2978 2328 3040 \nQ 2066 3103 1784 3103 \nQ 1356 3103 1142 2972 \nQ 928 2841 928 2578 \nQ 928 2378 1081 2264 \nQ 1234 2150 1697 2047 \nL 1894 2003 \nQ 2506 1872 2764 1633 \nQ 3022 1394 3022 966 \nQ 3022 478 2636 193 \nQ 2250 -91 1575 -91 \nQ 1294 -91 989 -36 \nQ 684 19 347 128 \nL 347 722 \nQ 666 556 975 473 \nQ 1284 391 1588 391 \nQ 1994 391 2212 530 \nQ 2431 669 2431 922 \nQ 2431 1156 2273 1281 \nQ 2116 1406 1581 1522 \nL 1381 1569 \nQ 847 1681 609 1914 \nQ 372 2147 372 2553 \nQ 372 3047 722 3315 \nQ 1072 3584 1716 3584 \nQ 2034 3584 2315 3537 \nQ 2597 3491 2834 3397 \nz\n\" id=\"DejaVuSans-73\" transform=\"scale(0.015625)\"/>\n      </defs>\n      <use xlink:href=\"#DejaVuSans-4e\"/>\n      <use x=\"74.804688\" xlink:href=\"#DejaVuSans-65\"/>\n      <use x=\"136.328125\" xlink:href=\"#DejaVuSans-77\"/>\n      <use x=\"218.115234\" xlink:href=\"#DejaVuSans-20\"/>\n      <use x=\"249.902344\" xlink:href=\"#DejaVuSans-43\"/>\n      <use x=\"319.726562\" xlink:href=\"#DejaVuSans-61\"/>\n      <use x=\"381.005859\" xlink:href=\"#DejaVuSans-73\"/>\n      <use x=\"433.105469\" xlink:href=\"#DejaVuSans-65\"/>\n      <use x=\"494.628906\" xlink:href=\"#DejaVuSans-73\"/>\n     </g>\n    </g>\n   </g>\n  </g>\n </g>\n <defs>\n  <clipPath id=\"p1490b237e7\">\n   <rect height=\"217.44\" width=\"334.8\" x=\"39.65\" y=\"7.2\"/>\n  </clipPath>\n </defs>\n</svg>\n",
      "image/png": "[encoded data removed]"
     },
     "metadata": {
      "needs_background": "light"
     }
    }
   ],
   "source": [
    "df.plot(\"Day\",\"New Cases\",kind='bar')"
   ]
  },
  {
   "source": [
    "## 4. Which Virginia county reported the highest number of total cases?"
   ],
   "cell_type": "markdown",
   "metadata": {}
  },
  {
   "source": [
    "Lets create a data frame, with county name and the last day reported cases:"
   ],
   "cell_type": "markdown",
   "metadata": {}
  },
  {
   "cell_type": "code",
   "execution_count": 56,
   "metadata": {},
   "outputs": [
    {
     "output_type": "execute_result",
     "data": {
      "text/plain": [
       "            County  Total cases\n",
       "3010      Accomack         2777\n",
       "3011     Albemarle         5635\n",
       "3012    Alexandria        11522\n",
       "3013     Alleghany         1302\n",
       "3014        Amelia          859\n",
       "...            ...          ...\n",
       "3140  Williamsburg          748\n",
       "3141    Winchester         2793\n",
       "3142          Wise         3078\n",
       "3143         Wythe         2536\n",
       "3144          York         3632\n",
       "\n",
       "[135 rows x 2 columns]"
      ],
      "text/html": "<div>\n<style scoped>\n    .dataframe tbody tr th:only-of-type {\n        vertical-align: middle;\n    }\n\n    .dataframe tbody tr th {\n        vertical-align: top;\n    }\n\n    .dataframe thead th {\n        text-align: right;\n    }\n</style>\n<table border=\"1\" class=\"dataframe\">\n  <thead>\n    <tr style=\"text-align: right;\">\n      <th></th>\n      <th>County</th>\n      <th>Total cases</th>\n    </tr>\n  </thead>\n  <tbody>\n    <tr>\n      <th>3010</th>\n      <td>Accomack</td>\n      <td>2777</td>\n    </tr>\n    <tr>\n      <th>3011</th>\n      <td>Albemarle</td>\n      <td>5635</td>\n    </tr>\n    <tr>\n      <th>3012</th>\n      <td>Alexandria</td>\n      <td>11522</td>\n    </tr>\n    <tr>\n      <th>3013</th>\n      <td>Alleghany</td>\n      <td>1302</td>\n    </tr>\n    <tr>\n      <th>3014</th>\n      <td>Amelia</td>\n      <td>859</td>\n    </tr>\n    <tr>\n      <th>...</th>\n      <td>...</td>\n      <td>...</td>\n    </tr>\n    <tr>\n      <th>3140</th>\n      <td>Williamsburg</td>\n      <td>748</td>\n    </tr>\n    <tr>\n      <th>3141</th>\n      <td>Winchester</td>\n      <td>2793</td>\n    </tr>\n    <tr>\n      <th>3142</th>\n      <td>Wise</td>\n      <td>3078</td>\n    </tr>\n    <tr>\n      <th>3143</th>\n      <td>Wythe</td>\n      <td>2536</td>\n    </tr>\n    <tr>\n      <th>3144</th>\n      <td>York</td>\n      <td>3632</td>\n    </tr>\n  </tbody>\n</table>\n<p>135 rows × 2 columns</p>\n</div>"
     },
     "metadata": {},
     "execution_count": 56
    }
   ],
   "source": [
    "df = pd.DataFrame({\n",
    "    \"County\": covid_virginia[\"Admin2\"],\n",
    "    \"Total cases\": covid_virginia[covid_virginia.columns[-1]]\n",
    "})\n",
    "df"
   ]
  },
  {
   "source": [
    "Then, get the max value, and from there get the name of the county"
   ],
   "cell_type": "markdown",
   "metadata": {}
  },
  {
   "cell_type": "code",
   "execution_count": 57,
   "metadata": {},
   "outputs": [
    {
     "output_type": "execute_result",
     "data": {
      "text/plain": [
       "       County  Total cases\n",
       "3047  Fairfax        74988"
      ],
      "text/html": "<div>\n<style scoped>\n    .dataframe tbody tr th:only-of-type {\n        vertical-align: middle;\n    }\n\n    .dataframe tbody tr th {\n        vertical-align: top;\n    }\n\n    .dataframe thead th {\n        text-align: right;\n    }\n</style>\n<table border=\"1\" class=\"dataframe\">\n  <thead>\n    <tr style=\"text-align: right;\">\n      <th></th>\n      <th>County</th>\n      <th>Total cases</th>\n    </tr>\n  </thead>\n  <tbody>\n    <tr>\n      <th>3047</th>\n      <td>Fairfax</td>\n      <td>74988</td>\n    </tr>\n  </tbody>\n</table>\n</div>"
     },
     "metadata": {},
     "execution_count": 57
    }
   ],
   "source": [
    "df.loc[df['Total cases'] == max(df[\"Total cases\"])]\n"
   ]
  },
  {
   "source": [
    "## 5a. Which Virginia county reported the highest number of new COVID-19 cases in a day? When did this occur?\n",
    "\n",
    "Same logic that question 3, first, lets find the total number of days reported\n",
    "\n"
   ],
   "cell_type": "markdown",
   "metadata": {}
  },
  {
   "cell_type": "code",
   "execution_count": 38,
   "metadata": {},
   "outputs": [
    {
     "output_type": "execute_result",
     "data": {
      "text/plain": [
       "457"
      ]
     },
     "metadata": {},
     "execution_count": 38
    }
   ],
   "source": [
    "columns = covid_virginia.columns\n",
    "days = 0\n",
    "for colum_name in columns:\n",
    "    days = days + (1 if '/' in colum_name else 0)\n",
    "days"
   ]
  },
  {
   "source": [
    "Next we will build a helper function to get the county name, maximun cases per day and date"
   ],
   "cell_type": "markdown",
   "metadata": {}
  },
  {
   "source": [
    "def get_top_new_cases(row, days):\n",
    "    total_cases_arr = row[-days:]\n",
    "    county_name = row[\"Admin2\"]\n",
    "    prev_cases = 0\n",
    "    max_cases = 0\n",
    "    max_index = 0\n",
    "    for i, cases in enumerate(total_cases_arr):\n",
    "        new_cases = cases-prev_cases\n",
    "        if new_cases > max_cases:\n",
    "            max_cases = new_cases\n",
    "            max_index = i\n",
    "        prev_cases=cases\n",
    "    return [county_name, max_cases, max_index]  "
   ],
   "cell_type": "code",
   "metadata": {
    "tags": []
   },
   "execution_count": 64,
   "outputs": []
  },
  {
   "source": [
    "Then, apply the function on every county"
   ],
   "cell_type": "markdown",
   "metadata": {}
  },
  {
   "cell_type": "code",
   "execution_count": 89,
   "metadata": {},
   "outputs": [
    {
     "output_type": "execute_result",
     "data": {
      "text/plain": [
       "['Fairfax', 1485, 361]"
      ]
     },
     "metadata": {},
     "execution_count": 89
    }
   ],
   "source": [
    "top_county = ['', 0, 0]\n",
    "for i, county in covid_virginia.iterrows():\n",
    "    county_max_new_cases = get_top_new_cases(county, days)\n",
    "    if county_max_new_cases[1] > top_county[1]:\n",
    "        top_county = county_max_new_cases\n",
    "    \n",
    "top_county"
   ]
  },
  {
   "source": [
    "Finally, to get the date, lets use the covid_virginia dataframe like this"
   ],
   "cell_type": "markdown",
   "metadata": {}
  },
  {
   "cell_type": "code",
   "execution_count": 42,
   "metadata": {},
   "outputs": [
    {
     "output_type": "execute_result",
     "data": {
      "text/plain": [
       "'1/17/21'"
      ]
     },
     "metadata": {},
     "execution_count": 42
    }
   ],
   "source": [
    "dates = covid_virginia.columns[-days:]\n",
    "target_day = dates[top_county[2]]\n",
    "target_day"
   ]
  },
  {
   "source": [
    "## 5b. When did Fairfax report the highest number of COVID-19 cases in a day? "
   ],
   "cell_type": "markdown",
   "metadata": {}
  },
  {
   "cell_type": "code",
   "execution_count": 120,
   "metadata": {},
   "outputs": [
    {
     "output_type": "stream",
     "name": "stdout",
     "text": [
      "['Fairfax', 1485, 361]\ndate: 1/17/21\n"
     ]
    }
   ],
   "source": [
    "fairfax_va_county = covid_virginia[covid_virginia.Admin2 == 'Fairfax'] #get data about Fairfax\n",
    "days_recorded = [ column_name for column_name in fairfax_va_county.columns if '/' in column_name]\n",
    "nr_of_days = len(days_recorded)\n",
    "max_cases_resported = get_top_new_cases(fairfax_va_county.squeeze(), nr_of_days)\n",
    "print(max_cases_resported)\n",
    "print('date:', days_recorded[max_cases_resported[2]] )\n"
   ]
  },
  {
   "source": [
    "## 6. Find the total number and average number of new cases per day reported in March 2021 for Fairfax, Virginia.\n"
   ],
   "cell_type": "markdown",
   "metadata": {}
  },
  {
   "cell_type": "code",
   "execution_count": 137,
   "metadata": {},
   "outputs": [
    {
     "output_type": "stream",
     "name": "stdout",
     "text": [
      "Total new cases 4708\n"
     ]
    }
   ],
   "source": [
    "import re\n",
    "regex = re.compile('3/\\w+/21')\n",
    "march_days =  [ column_name for column_name in fairfax_va_county.columns if re.match(regex, column_name)]\n",
    "data = fairfax_va_county.squeeze()\n",
    "print('Total new cases in march', data[march_days[-1]] - data[march_days[0]])\n"
   ]
  },
  {
   "cell_type": "code",
   "execution_count": 152,
   "metadata": {},
   "outputs": [
    {
     "output_type": "stream",
     "name": "stdout",
     "text": [
      "Average new cases in March 156.06451612903226\n"
     ]
    }
   ],
   "source": [
    "def new_cases_per_day(row, days, prev=0):\n",
    "    result = []\n",
    "    for day in days:\n",
    "        result.append(row[day] - prev)\n",
    "        prev = row[day]\n",
    "    return result\n",
    "\n",
    "march_new_cases = new_cases_per_day(data, march_days, prev=data['2/28/21'])\n",
    "print('Average new cases in March', sum(march_new_cases)/len(march_days))\n"
   ]
  },
  {
   "source": [
    "## 7. Provide one figure with one subplot that shows two plotted lines, where each line represents the total number of cases over time (from the earliest to the most recent date) for Fairfax and Arlington."
   ],
   "cell_type": "markdown",
   "metadata": {}
  },
  {
   "cell_type": "code",
   "execution_count": 180,
   "metadata": {},
   "outputs": [
    {
     "output_type": "stream",
     "name": "stdout",
     "text": [
      "['1/22/20', '1/23/20', '1/24/20', '1/25/20', '1/26/20', '1/27/20', '1/28/20', '1/29/20', '1/30/20', '1/31/20', '2/1/20', '2/2/20', '2/3/20', '2/4/20', '2/5/20', '2/6/20', '2/7/20', '2/8/20', '2/9/20', '2/10/20', '2/11/20', '2/12/20', '2/13/20', '2/14/20', '2/15/20', '2/16/20', '2/17/20', '2/18/20', '2/19/20', '2/20/20', '2/21/20', '2/22/20', '2/23/20', '2/24/20', '2/25/20', '2/26/20', '2/27/20', '2/28/20', '2/29/20', '3/1/20', '3/2/20', '3/3/20', '3/4/20', '3/5/20', '3/6/20', '3/7/20', '3/8/20', '3/9/20', '3/10/20', '3/11/20', '3/12/20', '3/13/20', '3/14/20', '3/15/20', '3/16/20', '3/17/20', '3/18/20', '3/19/20', '3/20/20', '3/21/20', '3/22/20', '3/23/20', '3/24/20', '3/25/20', '3/26/20', '3/27/20', '3/28/20', '3/29/20', '3/30/20', '3/31/20', '4/1/20', '4/2/20', '4/3/20', '4/4/20', '4/5/20', '4/6/20', '4/7/20', '4/8/20', '4/9/20', '4/10/20', '4/11/20', '4/12/20', '4/13/20', '4/14/20', '4/15/20', '4/16/20', '4/17/20', '4/18/20', '4/19/20', '4/20/20', '4/21/20', '4/22/20', '4/23/20', '4/24/20', '4/25/20', '4/26/20', '4/27/20', '4/28/20', '4/29/20', '4/30/20', '5/1/20', '5/2/20', '5/3/20', '5/4/20', '5/5/20', '5/6/20', '5/7/20', '5/8/20', '5/9/20', '5/10/20', '5/11/20', '5/12/20', '5/13/20', '5/14/20', '5/15/20', '5/16/20', '5/17/20', '5/18/20', '5/19/20', '5/20/20', '5/21/20', '5/22/20', '5/23/20', '5/24/20', '5/25/20', '5/26/20', '5/27/20', '5/28/20', '5/29/20', '5/30/20', '5/31/20', '6/1/20', '6/2/20', '6/3/20', '6/4/20', '6/5/20', '6/6/20', '6/7/20', '6/8/20', '6/9/20', '6/10/20', '6/11/20', '6/12/20', '6/13/20', '6/14/20', '6/15/20', '6/16/20', '6/17/20', '6/18/20', '6/19/20', '6/20/20', '6/21/20', '6/22/20', '6/23/20', '6/24/20', '6/25/20', '6/26/20', '6/27/20', '6/28/20', '6/29/20', '6/30/20', '7/1/20', '7/2/20', '7/3/20', '7/4/20', '7/5/20', '7/6/20', '7/7/20', '7/8/20', '7/9/20', '7/10/20', '7/11/20', '7/12/20', '7/13/20', '7/14/20', '7/15/20', '7/16/20', '7/17/20', '7/18/20', '7/19/20', '7/20/20', '7/21/20', '7/22/20', '7/23/20', '7/24/20', '7/25/20', '7/26/20', '7/27/20', '7/28/20', '7/29/20', '7/30/20', '7/31/20', '8/1/20', '8/2/20', '8/3/20', '8/4/20', '8/5/20', '8/6/20', '8/7/20', '8/8/20', '8/9/20', '8/10/20', '8/11/20', '8/12/20', '8/13/20', '8/14/20', '8/15/20', '8/16/20', '8/17/20', '8/18/20', '8/19/20', '8/20/20', '8/21/20', '8/22/20', '8/23/20', '8/24/20', '8/25/20', '8/26/20', '8/27/20', '8/28/20', '8/29/20', '8/30/20', '8/31/20', '9/1/20', '9/2/20', '9/3/20', '9/4/20', '9/5/20', '9/6/20', '9/7/20', '9/8/20', '9/9/20', '9/10/20', '9/11/20', '9/12/20', '9/13/20', '9/14/20', '9/15/20', '9/16/20', '9/17/20', '9/18/20', '9/19/20', '9/20/20', '9/21/20', '9/22/20', '9/23/20', '9/24/20', '9/25/20', '9/26/20', '9/27/20', '9/28/20', '9/29/20', '9/30/20', '10/1/20', '10/2/20', '10/3/20', '10/4/20', '10/5/20', '10/6/20', '10/7/20', '10/8/20', '10/9/20', '10/10/20', '10/11/20', '10/12/20', '10/13/20', '10/14/20', '10/15/20', '10/16/20', '10/17/20', '10/18/20', '10/19/20', '10/20/20', '10/21/20', '10/22/20', '10/23/20', '10/24/20', '10/25/20', '10/26/20', '10/27/20', '10/28/20', '10/29/20', '10/30/20', '10/31/20', '11/1/20', '11/2/20', '11/3/20', '11/4/20', '11/5/20', '11/6/20', '11/7/20', '11/8/20', '11/9/20', '11/10/20', '11/11/20', '11/12/20', '11/13/20', '11/14/20', '11/15/20', '11/16/20', '11/17/20', '11/18/20', '11/19/20', '11/20/20', '11/21/20', '11/22/20', '11/23/20', '11/24/20', '11/25/20', '11/26/20', '11/27/20', '11/28/20', '11/29/20', '11/30/20', '12/1/20', '12/2/20', '12/3/20', '12/4/20', '12/5/20', '12/6/20', '12/7/20', '12/8/20', '12/9/20', '12/10/20', '12/11/20', '12/12/20', '12/13/20', '12/14/20', '12/15/20', '12/16/20', '12/17/20', '12/18/20', '12/19/20', '12/20/20', '12/21/20', '12/22/20', '12/23/20', '12/24/20', '12/25/20', '12/26/20', '12/27/20', '12/28/20', '12/29/20', '12/30/20', '12/31/20', '1/1/21', '1/2/21', '1/3/21', '1/4/21', '1/5/21', '1/6/21', '1/7/21', '1/8/21', '1/9/21', '1/10/21', '1/11/21', '1/12/21', '1/13/21', '1/14/21', '1/15/21', '1/16/21', '1/17/21', '1/18/21', '1/19/21', '1/20/21', '1/21/21', '1/22/21', '1/23/21', '1/24/21', '1/25/21', '1/26/21', '1/27/21', '1/28/21', '1/29/21', '1/30/21', '1/31/21', '2/1/21', '2/2/21', '2/3/21', '2/4/21', '2/5/21', '2/6/21', '2/7/21', '2/8/21', '2/9/21', '2/10/21', '2/11/21', '2/12/21', '2/13/21', '2/14/21', '2/15/21', '2/16/21', '2/17/21', '2/18/21', '2/19/21', '2/20/21', '2/21/21', '2/22/21', '2/23/21', '2/24/21', '2/25/21', '2/26/21', '2/27/21', '2/28/21', '3/1/21', '3/2/21', '3/3/21', '3/4/21', '3/5/21', '3/6/21', '3/7/21', '3/8/21', '3/9/21', '3/10/21', '3/11/21', '3/12/21', '3/13/21', '3/14/21', '3/15/21', '3/16/21', '3/17/21', '3/18/21', '3/19/21', '3/20/21', '3/21/21', '3/22/21', '3/23/21', '3/24/21', '3/25/21', '3/26/21', '3/27/21', '3/28/21', '3/29/21', '3/30/21', '3/31/21', '4/1/21', '4/2/21', '4/3/21', '4/4/21', '4/5/21', '4/6/21', '4/7/21', '4/8/21', '4/9/21', '4/10/21', '4/11/21', '4/12/21', '4/13/21', '4/14/21', '4/15/21', '4/16/21', '4/17/21', '4/18/21', '4/19/21', '4/20/21', '4/21/21', '4/22/21']\n"
     ]
    },
    {
     "output_type": "error",
     "ename": "ValueError",
     "evalue": "Data must be 1-dimensional",
     "traceback": [
      "\u001b[1;31m---------------------------------------------------------------------------\u001b[0m",
      "\u001b[1;31mValueError\u001b[0m                                Traceback (most recent call last)",
      "\u001b[1;32m<ipython-input-180-58b820f89dee>\u001b[0m in \u001b[0;36m<module>\u001b[1;34m\u001b[0m\n\u001b[0;32m      3\u001b[0m \u001b[0mdates_recorded\u001b[0m \u001b[1;33m=\u001b[0m \u001b[1;33m[\u001b[0m \u001b[0mdate\u001b[0m \u001b[1;32mfor\u001b[0m \u001b[0mdate\u001b[0m \u001b[1;32min\u001b[0m \u001b[0mfairfax\u001b[0m\u001b[1;33m.\u001b[0m\u001b[0mcolumns\u001b[0m \u001b[1;32mif\u001b[0m \u001b[1;34m'/'\u001b[0m \u001b[1;32min\u001b[0m \u001b[0mdate\u001b[0m\u001b[1;33m]\u001b[0m\u001b[1;33m\u001b[0m\u001b[1;33m\u001b[0m\u001b[0m\n\u001b[0;32m      4\u001b[0m \u001b[0mprint\u001b[0m\u001b[1;33m(\u001b[0m\u001b[0mdates_recorded\u001b[0m\u001b[1;33m)\u001b[0m\u001b[1;33m\u001b[0m\u001b[1;33m\u001b[0m\u001b[0m\n\u001b[1;32m----> 5\u001b[1;33m df = pd.DataFrame({\n\u001b[0m\u001b[0;32m      6\u001b[0m    \u001b[1;34m'Fairfax'\u001b[0m\u001b[1;33m:\u001b[0m \u001b[0mfairfax\u001b[0m\u001b[1;33m[\u001b[0m\u001b[0mdates_recorded\u001b[0m\u001b[1;33m]\u001b[0m\u001b[1;33m.\u001b[0m\u001b[0mvalues\u001b[0m\u001b[1;33m,\u001b[0m\u001b[1;33m\u001b[0m\u001b[1;33m\u001b[0m\u001b[0m\n\u001b[0;32m      7\u001b[0m    \u001b[1;34m'Arlington'\u001b[0m\u001b[1;33m:\u001b[0m \u001b[0marlington\u001b[0m\u001b[1;33m[\u001b[0m\u001b[0mdates_recorded\u001b[0m\u001b[1;33m]\u001b[0m\u001b[1;33m.\u001b[0m\u001b[0mvalues\u001b[0m\u001b[1;33m\u001b[0m\u001b[1;33m\u001b[0m\u001b[0m\n",
      "\u001b[1;32mC:\\Python\\Python39\\lib\\site-packages\\pandas\\core\\frame.py\u001b[0m in \u001b[0;36m__init__\u001b[1;34m(self, data, index, columns, dtype, copy)\u001b[0m\n\u001b[0;32m    527\u001b[0m \u001b[1;33m\u001b[0m\u001b[0m\n\u001b[0;32m    528\u001b[0m         \u001b[1;32melif\u001b[0m \u001b[0misinstance\u001b[0m\u001b[1;33m(\u001b[0m\u001b[0mdata\u001b[0m\u001b[1;33m,\u001b[0m \u001b[0mdict\u001b[0m\u001b[1;33m)\u001b[0m\u001b[1;33m:\u001b[0m\u001b[1;33m\u001b[0m\u001b[1;33m\u001b[0m\u001b[0m\n\u001b[1;32m--> 529\u001b[1;33m             \u001b[0mmgr\u001b[0m \u001b[1;33m=\u001b[0m \u001b[0minit_dict\u001b[0m\u001b[1;33m(\u001b[0m\u001b[0mdata\u001b[0m\u001b[1;33m,\u001b[0m \u001b[0mindex\u001b[0m\u001b[1;33m,\u001b[0m \u001b[0mcolumns\u001b[0m\u001b[1;33m,\u001b[0m \u001b[0mdtype\u001b[0m\u001b[1;33m=\u001b[0m\u001b[0mdtype\u001b[0m\u001b[1;33m)\u001b[0m\u001b[1;33m\u001b[0m\u001b[1;33m\u001b[0m\u001b[0m\n\u001b[0m\u001b[0;32m    530\u001b[0m         \u001b[1;32melif\u001b[0m \u001b[0misinstance\u001b[0m\u001b[1;33m(\u001b[0m\u001b[0mdata\u001b[0m\u001b[1;33m,\u001b[0m \u001b[0mma\u001b[0m\u001b[1;33m.\u001b[0m\u001b[0mMaskedArray\u001b[0m\u001b[1;33m)\u001b[0m\u001b[1;33m:\u001b[0m\u001b[1;33m\u001b[0m\u001b[1;33m\u001b[0m\u001b[0m\n\u001b[0;32m    531\u001b[0m             \u001b[1;32mimport\u001b[0m \u001b[0mnumpy\u001b[0m\u001b[1;33m.\u001b[0m\u001b[0mma\u001b[0m\u001b[1;33m.\u001b[0m\u001b[0mmrecords\u001b[0m \u001b[1;32mas\u001b[0m \u001b[0mmrecords\u001b[0m\u001b[1;33m\u001b[0m\u001b[1;33m\u001b[0m\u001b[0m\n",
      "\u001b[1;32mC:\\Python\\Python39\\lib\\site-packages\\pandas\\core\\internals\\construction.py\u001b[0m in \u001b[0;36minit_dict\u001b[1;34m(data, index, columns, dtype)\u001b[0m\n\u001b[0;32m    285\u001b[0m             \u001b[0marr\u001b[0m \u001b[1;32mif\u001b[0m \u001b[1;32mnot\u001b[0m \u001b[0mis_datetime64tz_dtype\u001b[0m\u001b[1;33m(\u001b[0m\u001b[0marr\u001b[0m\u001b[1;33m)\u001b[0m \u001b[1;32melse\u001b[0m \u001b[0marr\u001b[0m\u001b[1;33m.\u001b[0m\u001b[0mcopy\u001b[0m\u001b[1;33m(\u001b[0m\u001b[1;33m)\u001b[0m \u001b[1;32mfor\u001b[0m \u001b[0marr\u001b[0m \u001b[1;32min\u001b[0m \u001b[0marrays\u001b[0m\u001b[1;33m\u001b[0m\u001b[1;33m\u001b[0m\u001b[0m\n\u001b[0;32m    286\u001b[0m         ]\n\u001b[1;32m--> 287\u001b[1;33m     \u001b[1;32mreturn\u001b[0m \u001b[0marrays_to_mgr\u001b[0m\u001b[1;33m(\u001b[0m\u001b[0marrays\u001b[0m\u001b[1;33m,\u001b[0m \u001b[0mdata_names\u001b[0m\u001b[1;33m,\u001b[0m \u001b[0mindex\u001b[0m\u001b[1;33m,\u001b[0m \u001b[0mcolumns\u001b[0m\u001b[1;33m,\u001b[0m \u001b[0mdtype\u001b[0m\u001b[1;33m=\u001b[0m\u001b[0mdtype\u001b[0m\u001b[1;33m)\u001b[0m\u001b[1;33m\u001b[0m\u001b[1;33m\u001b[0m\u001b[0m\n\u001b[0m\u001b[0;32m    288\u001b[0m \u001b[1;33m\u001b[0m\u001b[0m\n\u001b[0;32m    289\u001b[0m \u001b[1;33m\u001b[0m\u001b[0m\n",
      "\u001b[1;32mC:\\Python\\Python39\\lib\\site-packages\\pandas\\core\\internals\\construction.py\u001b[0m in \u001b[0;36marrays_to_mgr\u001b[1;34m(arrays, arr_names, index, columns, dtype, verify_integrity)\u001b[0m\n\u001b[0;32m     83\u001b[0m \u001b[1;33m\u001b[0m\u001b[0m\n\u001b[0;32m     84\u001b[0m         \u001b[1;31m# don't force copy because getting jammed in an ndarray anyway\u001b[0m\u001b[1;33m\u001b[0m\u001b[1;33m\u001b[0m\u001b[1;33m\u001b[0m\u001b[0m\n\u001b[1;32m---> 85\u001b[1;33m         \u001b[0marrays\u001b[0m \u001b[1;33m=\u001b[0m \u001b[0m_homogenize\u001b[0m\u001b[1;33m(\u001b[0m\u001b[0marrays\u001b[0m\u001b[1;33m,\u001b[0m \u001b[0mindex\u001b[0m\u001b[1;33m,\u001b[0m \u001b[0mdtype\u001b[0m\u001b[1;33m)\u001b[0m\u001b[1;33m\u001b[0m\u001b[1;33m\u001b[0m\u001b[0m\n\u001b[0m\u001b[0;32m     86\u001b[0m \u001b[1;33m\u001b[0m\u001b[0m\n\u001b[0;32m     87\u001b[0m         \u001b[0mcolumns\u001b[0m \u001b[1;33m=\u001b[0m \u001b[0mensure_index\u001b[0m\u001b[1;33m(\u001b[0m\u001b[0mcolumns\u001b[0m\u001b[1;33m)\u001b[0m\u001b[1;33m\u001b[0m\u001b[1;33m\u001b[0m\u001b[0m\n",
      "\u001b[1;32mC:\\Python\\Python39\\lib\\site-packages\\pandas\\core\\internals\\construction.py\u001b[0m in \u001b[0;36m_homogenize\u001b[1;34m(data, index, dtype)\u001b[0m\n\u001b[0;32m    353\u001b[0m                     \u001b[0mval\u001b[0m \u001b[1;33m=\u001b[0m \u001b[0mdict\u001b[0m\u001b[1;33m(\u001b[0m\u001b[0mval\u001b[0m\u001b[1;33m)\u001b[0m\u001b[1;33m\u001b[0m\u001b[1;33m\u001b[0m\u001b[0m\n\u001b[0;32m    354\u001b[0m                 \u001b[0mval\u001b[0m \u001b[1;33m=\u001b[0m \u001b[0mlib\u001b[0m\u001b[1;33m.\u001b[0m\u001b[0mfast_multiget\u001b[0m\u001b[1;33m(\u001b[0m\u001b[0mval\u001b[0m\u001b[1;33m,\u001b[0m \u001b[0moindex\u001b[0m\u001b[1;33m.\u001b[0m\u001b[0m_values\u001b[0m\u001b[1;33m,\u001b[0m \u001b[0mdefault\u001b[0m\u001b[1;33m=\u001b[0m\u001b[0mnp\u001b[0m\u001b[1;33m.\u001b[0m\u001b[0mnan\u001b[0m\u001b[1;33m)\u001b[0m\u001b[1;33m\u001b[0m\u001b[1;33m\u001b[0m\u001b[0m\n\u001b[1;32m--> 355\u001b[1;33m             val = sanitize_array(\n\u001b[0m\u001b[0;32m    356\u001b[0m                 \u001b[0mval\u001b[0m\u001b[1;33m,\u001b[0m \u001b[0mindex\u001b[0m\u001b[1;33m,\u001b[0m \u001b[0mdtype\u001b[0m\u001b[1;33m=\u001b[0m\u001b[0mdtype\u001b[0m\u001b[1;33m,\u001b[0m \u001b[0mcopy\u001b[0m\u001b[1;33m=\u001b[0m\u001b[1;32mFalse\u001b[0m\u001b[1;33m,\u001b[0m \u001b[0mraise_cast_failure\u001b[0m\u001b[1;33m=\u001b[0m\u001b[1;32mFalse\u001b[0m\u001b[1;33m\u001b[0m\u001b[1;33m\u001b[0m\u001b[0m\n\u001b[0;32m    357\u001b[0m             )\n",
      "\u001b[1;32mC:\\Python\\Python39\\lib\\site-packages\\pandas\\core\\construction.py\u001b[0m in \u001b[0;36msanitize_array\u001b[1;34m(data, index, dtype, copy, raise_cast_failure)\u001b[0m\n\u001b[0;32m    527\u001b[0m     \u001b[1;32melif\u001b[0m \u001b[0msubarr\u001b[0m\u001b[1;33m.\u001b[0m\u001b[0mndim\u001b[0m \u001b[1;33m>\u001b[0m \u001b[1;36m1\u001b[0m\u001b[1;33m:\u001b[0m\u001b[1;33m\u001b[0m\u001b[1;33m\u001b[0m\u001b[0m\n\u001b[0;32m    528\u001b[0m         \u001b[1;32mif\u001b[0m \u001b[0misinstance\u001b[0m\u001b[1;33m(\u001b[0m\u001b[0mdata\u001b[0m\u001b[1;33m,\u001b[0m \u001b[0mnp\u001b[0m\u001b[1;33m.\u001b[0m\u001b[0mndarray\u001b[0m\u001b[1;33m)\u001b[0m\u001b[1;33m:\u001b[0m\u001b[1;33m\u001b[0m\u001b[1;33m\u001b[0m\u001b[0m\n\u001b[1;32m--> 529\u001b[1;33m             \u001b[1;32mraise\u001b[0m \u001b[0mValueError\u001b[0m\u001b[1;33m(\u001b[0m\u001b[1;34m\"Data must be 1-dimensional\"\u001b[0m\u001b[1;33m)\u001b[0m\u001b[1;33m\u001b[0m\u001b[1;33m\u001b[0m\u001b[0m\n\u001b[0m\u001b[0;32m    530\u001b[0m         \u001b[1;32melse\u001b[0m\u001b[1;33m:\u001b[0m\u001b[1;33m\u001b[0m\u001b[1;33m\u001b[0m\u001b[0m\n\u001b[0;32m    531\u001b[0m             \u001b[0msubarr\u001b[0m \u001b[1;33m=\u001b[0m \u001b[0mcom\u001b[0m\u001b[1;33m.\u001b[0m\u001b[0masarray_tuplesafe\u001b[0m\u001b[1;33m(\u001b[0m\u001b[0mdata\u001b[0m\u001b[1;33m,\u001b[0m \u001b[0mdtype\u001b[0m\u001b[1;33m=\u001b[0m\u001b[0mdtype\u001b[0m\u001b[1;33m)\u001b[0m\u001b[1;33m\u001b[0m\u001b[1;33m\u001b[0m\u001b[0m\n",
      "\u001b[1;31mValueError\u001b[0m: Data must be 1-dimensional"
     ]
    }
   ],
   "source": [
    "fairfax = covid_virginia[(covid_virginia.Admin2 == 'Fairfax')]\n",
    "arlington = covid_virginia[(covid_virginia.Admin2 == 'Arlington')]\n",
    "dates_recorded = [ date for date in fairfax.columns if '/' in date]\n",
    "df = pd.DataFrame({\n",
    "   'Fairfax': fairfax[dates_recorded].values,\n",
    "   'Arlington': arlington[dates_recorded].values\n",
    "   }, index=dates_recorded)\n",
    "lines = df.plot.line()"
   ]
  },
  {
   "cell_type": "code",
   "execution_count": null,
   "metadata": {},
   "outputs": [],
   "source": []
  }
 ]
}